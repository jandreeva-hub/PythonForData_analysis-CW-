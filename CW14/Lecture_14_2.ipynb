{
 "cells": [
  {
   "cell_type": "code",
   "execution_count": 1,
   "id": "08c50b60-4299-46c9-b3ef-784fadcf13e4",
   "metadata": {},
   "outputs": [],
   "source": [
    "import pandas as pd\n",
    "import seaborn as sns\n",
    "import plotly.express as px\n",
    "import numpy as np"
   ]
  },
  {
   "cell_type": "markdown",
   "id": "ab005502",
   "metadata": {},
   "source": [
    "### Установка необходимых пакетов для разработки Dash"
   ]
  },
  {
   "cell_type": "markdown",
   "id": "548996b5",
   "metadata": {},
   "source": [
    "##### Dash"
   ]
  },
  {
   "cell_type": "code",
   "execution_count": 2,
   "id": "ef338aff-5bea-481f-bfc5-162b6e24e61e",
   "metadata": {},
   "outputs": [
    {
     "name": "stdout",
     "output_type": "stream",
     "text": [
      "Requirement already satisfied: dash in c:\\users\\jandr\\appdata\\local\\programs\\python\\python312\\lib\\site-packages (2.17.1)\n",
      "Requirement already satisfied: Flask<3.1,>=1.0.4 in c:\\users\\jandr\\appdata\\local\\programs\\python\\python312\\lib\\site-packages (from dash) (3.0.3)\n",
      "Requirement already satisfied: Werkzeug<3.1 in c:\\users\\jandr\\appdata\\local\\programs\\python\\python312\\lib\\site-packages (from dash) (3.0.3)\n",
      "Requirement already satisfied: plotly>=5.0.0 in c:\\users\\jandr\\appdata\\local\\programs\\python\\python312\\lib\\site-packages (from dash) (5.22.0)\n",
      "Requirement already satisfied: dash-html-components==2.0.0 in c:\\users\\jandr\\appdata\\local\\programs\\python\\python312\\lib\\site-packages (from dash) (2.0.0)\n",
      "Requirement already satisfied: dash-core-components==2.0.0 in c:\\users\\jandr\\appdata\\local\\programs\\python\\python312\\lib\\site-packages (from dash) (2.0.0)\n",
      "Requirement already satisfied: dash-table==5.0.0 in c:\\users\\jandr\\appdata\\local\\programs\\python\\python312\\lib\\site-packages (from dash) (5.0.0)\n",
      "Requirement already satisfied: importlib-metadata in c:\\users\\jandr\\appdata\\local\\programs\\python\\python312\\lib\\site-packages (from dash) (8.2.0)\n",
      "Requirement already satisfied: typing-extensions>=4.1.1 in c:\\users\\jandr\\appdata\\local\\programs\\python\\python312\\lib\\site-packages (from dash) (4.12.2)\n",
      "Requirement already satisfied: requests in c:\\users\\jandr\\appdata\\local\\programs\\python\\python312\\lib\\site-packages (from dash) (2.32.3)\n",
      "Requirement already satisfied: retrying in c:\\users\\jandr\\appdata\\local\\programs\\python\\python312\\lib\\site-packages (from dash) (1.3.4)\n",
      "Requirement already satisfied: nest-asyncio in c:\\users\\jandr\\appdata\\local\\programs\\python\\python312\\lib\\site-packages (from dash) (1.6.0)\n",
      "Requirement already satisfied: setuptools in c:\\users\\jandr\\appdata\\local\\programs\\python\\python312\\lib\\site-packages (from dash) (70.3.0)\n",
      "Requirement already satisfied: Jinja2>=3.1.2 in c:\\users\\jandr\\appdata\\local\\programs\\python\\python312\\lib\\site-packages (from Flask<3.1,>=1.0.4->dash) (3.1.4)\n",
      "Requirement already satisfied: itsdangerous>=2.1.2 in c:\\users\\jandr\\appdata\\local\\programs\\python\\python312\\lib\\site-packages (from Flask<3.1,>=1.0.4->dash) (2.2.0)\n",
      "Requirement already satisfied: click>=8.1.3 in c:\\users\\jandr\\appdata\\local\\programs\\python\\python312\\lib\\site-packages (from Flask<3.1,>=1.0.4->dash) (8.1.7)\n",
      "Requirement already satisfied: blinker>=1.6.2 in c:\\users\\jandr\\appdata\\local\\programs\\python\\python312\\lib\\site-packages (from Flask<3.1,>=1.0.4->dash) (1.8.2)\n",
      "Requirement already satisfied: tenacity>=6.2.0 in c:\\users\\jandr\\appdata\\local\\programs\\python\\python312\\lib\\site-packages (from plotly>=5.0.0->dash) (8.5.0)\n",
      "Requirement already satisfied: packaging in c:\\users\\jandr\\appdata\\local\\programs\\python\\python312\\lib\\site-packages (from plotly>=5.0.0->dash) (24.1)\n",
      "Requirement already satisfied: MarkupSafe>=2.1.1 in c:\\users\\jandr\\appdata\\local\\programs\\python\\python312\\lib\\site-packages (from Werkzeug<3.1->dash) (2.1.5)\n",
      "Requirement already satisfied: zipp>=0.5 in c:\\users\\jandr\\appdata\\local\\programs\\python\\python312\\lib\\site-packages (from importlib-metadata->dash) (3.19.2)\n",
      "Requirement already satisfied: charset-normalizer<4,>=2 in c:\\users\\jandr\\appdata\\local\\programs\\python\\python312\\lib\\site-packages (from requests->dash) (3.3.2)\n",
      "Requirement already satisfied: idna<4,>=2.5 in c:\\users\\jandr\\appdata\\local\\programs\\python\\python312\\lib\\site-packages (from requests->dash) (3.7)\n",
      "Requirement already satisfied: urllib3<3,>=1.21.1 in c:\\users\\jandr\\appdata\\local\\programs\\python\\python312\\lib\\site-packages (from requests->dash) (2.2.2)\n",
      "Requirement already satisfied: certifi>=2017.4.17 in c:\\users\\jandr\\appdata\\local\\programs\\python\\python312\\lib\\site-packages (from requests->dash) (2024.7.4)\n",
      "Requirement already satisfied: six>=1.7.0 in c:\\users\\jandr\\appdata\\local\\programs\\python\\python312\\lib\\site-packages (from retrying->dash) (1.16.0)\n",
      "Requirement already satisfied: colorama in c:\\users\\jandr\\appdata\\local\\programs\\python\\python312\\lib\\site-packages (from click>=8.1.3->Flask<3.1,>=1.0.4->dash) (0.4.6)\n",
      "Note: you may need to restart the kernel to use updated packages.\n"
     ]
    }
   ],
   "source": [
    "%pip install dash"
   ]
  },
  {
   "cell_type": "markdown",
   "id": "38e8d2e4",
   "metadata": {},
   "source": [
    "##### dash-renderer"
   ]
  },
  {
   "cell_type": "code",
   "execution_count": 3,
   "id": "aa6abc35-f0c3-44de-9f90-939318915323",
   "metadata": {},
   "outputs": [
    {
     "name": "stdout",
     "output_type": "stream",
     "text": [
      "Requirement already satisfied: dash-renderer in c:\\users\\jandr\\appdata\\local\\programs\\python\\python312\\lib\\site-packages (1.9.1)\n",
      "Note: you may need to restart the kernel to use updated packages.\n"
     ]
    }
   ],
   "source": [
    "%pip install dash-renderer"
   ]
  },
  {
   "cell_type": "markdown",
   "id": "9ce8419f",
   "metadata": {},
   "source": [
    "##### HTML-компоненты Dash"
   ]
  },
  {
   "cell_type": "code",
   "execution_count": 4,
   "id": "254d458c-73de-496a-8fef-29b01f0b2abd",
   "metadata": {},
   "outputs": [
    {
     "name": "stdout",
     "output_type": "stream",
     "text": [
      "Requirement already satisfied: dash-html-components in c:\\users\\jandr\\appdata\\local\\programs\\python\\python312\\lib\\site-packages (2.0.0)\n",
      "Note: you may need to restart the kernel to use updated packages.\n"
     ]
    }
   ],
   "source": [
    "%pip install dash-html-components"
   ]
  },
  {
   "cell_type": "markdown",
   "id": "322313c2",
   "metadata": {},
   "source": [
    "##### Основные компоненты Dash"
   ]
  },
  {
   "cell_type": "code",
   "execution_count": 5,
   "id": "61501202-1741-45b1-a9b2-25f558bd5f17",
   "metadata": {},
   "outputs": [
    {
     "name": "stdout",
     "output_type": "stream",
     "text": [
      "Requirement already satisfied: dash-core-components in c:\\users\\jandr\\appdata\\local\\programs\\python\\python312\\lib\\site-packages (2.0.0)\n",
      "Note: you may need to restart the kernel to use updated packages.\n"
     ]
    }
   ],
   "source": [
    "%pip install dash-core-components"
   ]
  },
  {
   "cell_type": "markdown",
   "id": "4a567816",
   "metadata": {},
   "source": [
    "##### Проверка правильности установки пакетов"
   ]
  },
  {
   "cell_type": "code",
   "execution_count": 6,
   "id": "a0a5f749",
   "metadata": {},
   "outputs": [
    {
     "name": "stdout",
     "output_type": "stream",
     "text": [
      "Name: dash\n",
      "Version: 2.17.1\n",
      "Summary: A Python framework for building reactive web-apps. Developed by Plotly.\n",
      "Home-page: https://plotly.com/dash\n",
      "Author: Chris Parmer\n",
      "Author-email: chris@plotly.com\n",
      "License: MIT\n",
      "Location: c:\\Users\\jandr\\AppData\\Local\\Programs\\Python\\Python312\\Lib\\site-packages\n",
      "Requires: dash-core-components, dash-html-components, dash-table, Flask, importlib-metadata, nest-asyncio, plotly, requests, retrying, setuptools, typing-extensions, Werkzeug\n",
      "Required-by: \n",
      "Note: you may need to restart the kernel to use updated packages.\n"
     ]
    }
   ],
   "source": [
    "%pip show dash"
   ]
  },
  {
   "cell_type": "markdown",
   "id": "ba7ce5b8",
   "metadata": {},
   "source": [
    "### Настройка базового окружения Dash и структура приложения Dash"
   ]
  },
  {
   "cell_type": "markdown",
   "id": "d0837014",
   "metadata": {},
   "source": [
    "##### Необходимо создать новый файл в текущей директории и копировать него ячейки ниже (файл должен иметь расширение py, например app.py)"
   ]
  },
  {
   "cell_type": "markdown",
   "id": "a1bf3d87",
   "metadata": {},
   "source": [
    "Импорт библиотек Dash"
   ]
  },
  {
   "cell_type": "code",
   "execution_count": 7,
   "id": "5cde2044",
   "metadata": {},
   "outputs": [],
   "source": [
    "from dash import Dash, html, dcc\n",
    "import plotly.express as px"
   ]
  },
  {
   "cell_type": "markdown",
   "id": "75a2db68",
   "metadata": {},
   "source": [
    "Инициализация приложения Dash"
   ]
  },
  {
   "cell_type": "code",
   "execution_count": null,
   "id": "fa5723a6",
   "metadata": {},
   "outputs": [],
   "source": [
    "app = Dash(__name__)"
   ]
  },
  {
   "cell_type": "markdown",
   "id": "ddb1df1c",
   "metadata": {},
   "source": [
    "Макет приложения"
   ]
  },
  {
   "cell_type": "code",
   "execution_count": null,
   "id": "21348e39",
   "metadata": {},
   "outputs": [],
   "source": [
    "df = px.data.iris()\n",
    "\n",
    "fig = px.scatter(df, x='sepal_width', y='sepal_length', color='species')\n",
    "\n",
    "app.layout = html.Div([\n",
    "    html.H1(\"Визуализация набора данных Iris\"),\n",
    "    dcc.Graph(figure=fig)\n",
    "])"
   ]
  },
  {
   "cell_type": "markdown",
   "id": "bdfd0fbd",
   "metadata": {},
   "source": [
    "Запустите приложение Dash"
   ]
  },
  {
   "cell_type": "code",
   "execution_count": null,
   "id": "3cab2935",
   "metadata": {},
   "outputs": [],
   "source": [
    "if __name__ == '__main__':\n",
    "    app.run_server(debug=True)"
   ]
  },
  {
   "cell_type": "markdown",
   "id": "26b39b5d",
   "metadata": {},
   "source": [
    "### Создание HTML-контура приборной панели с помощью dash_html_components"
   ]
  },
  {
   "cell_type": "markdown",
   "id": "0082238f",
   "metadata": {},
   "source": [
    "Оформление заголовка"
   ]
  },
  {
   "cell_type": "code",
   "execution_count": null,
   "id": "80da5303",
   "metadata": {},
   "outputs": [],
   "source": [
    "header = html.Header(html.H1('My Dashboard', className='header-title'))"
   ]
  },
  {
   "cell_type": "markdown",
   "id": "36d0d5d6",
   "metadata": {},
   "source": [
    "Боковая панель"
   ]
  },
  {
   "cell_type": "code",
   "execution_count": null,
   "id": "1cf4fd49",
   "metadata": {},
   "outputs": [],
   "source": [
    "sidebar = html.Div([\n",
    "    html.H2('Navigation', className='sidebar-title'),\n",
    "    html.Ul([\n",
    "        html.Li(html.A('Главная', href='/')),\n",
    "        html.Li(html.A('Страница 1', href='/page-1')),\n",
    "        html.Li(html.A('Страница 2', href='/page-2'))\n",
    "    ])\n",
    "], className='sidebar')"
   ]
  },
  {
   "cell_type": "markdown",
   "id": "86541ec2",
   "metadata": {},
   "source": [
    "Область основного контента"
   ]
  },
  {
   "cell_type": "code",
   "execution_count": null,
   "id": "93bb25cd",
   "metadata": {},
   "outputs": [],
   "source": [
    "main_content = html.Section([\n",
    "    html.Article([\n",
    "        html.H3('Заголовок основного контента'),\n",
    "        html.P('Некоторые важные материалы или визуализации данных находятся здесь.')\n",
    "    ], className='main-article')\n",
    "], className='main-content')"
   ]
  },
  {
   "cell_type": "markdown",
   "id": "0bf17dc7",
   "metadata": {},
   "source": [
    "Нижний колонтитул"
   ]
  },
  {
   "cell_type": "code",
   "execution_count": null,
   "id": "31fdc656",
   "metadata": {},
   "outputs": [],
   "source": [
    "footer = html.Footer([\n",
    "    html.P('Copyright (c) 2024 My Dashboard'),\n",
    "    html.P('Больше информации здесь')\n",
    "], className='footer')"
   ]
  },
  {
   "cell_type": "markdown",
   "id": "d13d2a75",
   "metadata": {},
   "source": [
    "### Включение интерактивных визуализаций данных с помощью dash_core_components"
   ]
  },
  {
   "cell_type": "markdown",
   "id": "20d94954",
   "metadata": {},
   "source": [
    "Компонент Graph"
   ]
  },
  {
   "cell_type": "code",
   "execution_count": null,
   "id": "57bc2225",
   "metadata": {},
   "outputs": [],
   "source": [
    "from dash import dcc\n",
    "\n",
    "# Пример встраивания графика Plotly в Dash\n",
    "graph_component = dcc.Graph(\n",
    "    id='example-graph',\n",
    "    figure={\n",
    "        'data': [\n",
    "            {'x': [1, 2, 3], 'y': [4, 1, 2], 'type':'bar', 'name':'SF'},\n",
    "            {'x': [1, 2, 3], 'y': [2, 4, 5], 'type':'bar', 'name':'Montréal'}\n",
    "        ],\n",
    "        'layout': {\n",
    "            'title': 'Dash Data Visualization'\n",
    "        }\n",
    "    }\n",
    ")"
   ]
  },
  {
   "cell_type": "markdown",
   "id": "bdf85f21",
   "metadata": {},
   "source": [
    "Компонент Dropdown"
   ]
  },
  {
   "cell_type": "code",
   "execution_count": null,
   "id": "640377f3",
   "metadata": {},
   "outputs": [],
   "source": [
    "dropdown_component = dcc.Dropdown(\n",
    "    id='my-dropdown',\n",
    "    options=[\n",
    "        {'label': 'San Francisco', 'value': 'SF'},\n",
    "        {'label': 'Montreal', 'value': 'MTL'}\n",
    "    ],\n",
    "    value='SF'\n",
    ")"
   ]
  },
  {
   "cell_type": "markdown",
   "id": "2f204a7b",
   "metadata": {},
   "source": [
    "Компонент Slider"
   ]
  },
  {
   "cell_type": "code",
   "execution_count": null,
   "id": "0692fc36",
   "metadata": {},
   "outputs": [],
   "source": [
    "slider_component = dcc.Slider(\n",
    "    min=0,\n",
    "    max=20,\n",
    "    step=0.5,\n",
    "    value=10,\n",
    "    marks={i: str(i) for i in range(21)}\n",
    ")"
   ]
  },
  {
   "cell_type": "markdown",
   "id": "23472fbe",
   "metadata": {},
   "source": [
    "Пример приложения с обратным вызовом"
   ]
  },
  {
   "cell_type": "code",
   "execution_count": null,
   "id": "4a2f3e5d",
   "metadata": {},
   "outputs": [],
   "source": [
    "from dash import Dash, html, dcc, callback, Output, Input\n",
    "import plotly.express as px\n",
    "\n",
    "df = px.data.iris()\n",
    "\n",
    "app = Dash()\n",
    "\n",
    "app.layout = [\n",
    "    html.Div(children='My First App with Graph and Controls'),\n",
    "    dcc.RadioItems(options=['sepal_width', 'petal_length', 'petal_width'], value='sepal_width', id='controls-and-radio-item'),\n",
    "    dcc.Graph(figure={}, id='controls-and-graph')\n",
    "]\n",
    "\n",
    "@callback(\n",
    "    Output(component_id='controls-and-graph', component_property='figure'),\n",
    "    Input(component_id='controls-and-radio-item', component_property='value')\n",
    ")\n",
    "def update_graph(col_chosen):\n",
    "    fig = px.scatter(df, x=col_chosen, y='sepal_length', color='species')\n",
    "    return fig\n",
    "\n",
    "if __name__ == '__main__':\n",
    "    app.run_server(debug=True)"
   ]
  },
  {
   "cell_type": "markdown",
   "id": "a5c56270",
   "metadata": {},
   "source": [
    "### Практическое задание 1\n",
    "1. Импортируйте файл с акциями компании apple и Амазона.\n",
    "2. Соедините датасеты в один файл\n",
    "3. Создайте колонку со вчерашней ценой\n",
    "4. Отфильтруйте датасет от выбросов\n",
    "5. Обучите моделль линейной регрессии предсказывать цену акции apple сегодня, основываясь на вчерашней цене акции Амазона \n",
    "6. Создайте дашбоорд , на котором будет представлена динамика акций Эппл и Амазон , а также будет возможность получить прогноз цены акции эпл по конкретной цене акции Амазона\n"
   ]
  },
  {
   "cell_type": "markdown",
   "id": "a3c96e49",
   "metadata": {},
   "source": [
    "### Практическое задание 2\n",
    "Создайте дашборд, в котором пользователь сможем вводить тикер акции, а также временной интервал. На выходе ему будет представлен краткий анализ: график с акцией, средняя цена закрытия за последний месяц, рост акции по отношению к цене 3 месяца назад"
   ]
  },
  {
   "cell_type": "code",
   "execution_count": null,
   "id": "1b560a60",
   "metadata": {},
   "outputs": [],
   "source": []
  }
 ],
 "metadata": {
  "kernelspec": {
   "display_name": "Python 3 (ipykernel)",
   "language": "python",
   "name": "python3"
  },
  "language_info": {
   "codemirror_mode": {
    "name": "ipython",
    "version": 3
   },
   "file_extension": ".py",
   "mimetype": "text/x-python",
   "name": "python",
   "nbconvert_exporter": "python",
   "pygments_lexer": "ipython3",
   "version": "3.12.4"
  }
 },
 "nbformat": 4,
 "nbformat_minor": 5
}
