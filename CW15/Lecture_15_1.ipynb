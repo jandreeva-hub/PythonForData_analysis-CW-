{
 "cells": [
  {
   "cell_type": "code",
   "execution_count": 1,
   "id": "ed006a3d-88f4-4e3e-9e20-4b2fbf8a62c2",
   "metadata": {},
   "outputs": [],
   "source": [
    "import pandas as pd\n",
    "import seaborn as sns\n",
    "import numpy as np"
   ]
  },
  {
   "cell_type": "code",
   "execution_count": null,
   "id": "eef89cbc-0ca1-45ad-b00e-fb0d7b8f8fcc",
   "metadata": {},
   "outputs": [],
   "source": []
  },
  {
   "cell_type": "markdown",
   "id": "03c89443-c22c-41d7-b17a-a66b674e780a",
   "metadata": {},
   "source": [
    "### Пример описательной статистики"
   ]
  },
  {
   "cell_type": "code",
   "execution_count": 3,
   "id": "cb223ac4-e740-4bc9-b78d-aeaf61b56472",
   "metadata": {},
   "outputs": [],
   "source": [
    "titanic = pd.read_csv('titanic.csv')"
   ]
  },
  {
   "cell_type": "code",
   "execution_count": 4,
   "id": "cf36b766-f477-4ed8-80e9-ca0ab64ee50d",
   "metadata": {},
   "outputs": [
    {
     "data": {
      "text/html": [
       "<div>\n",
       "<style scoped>\n",
       "    .dataframe tbody tr th:only-of-type {\n",
       "        vertical-align: middle;\n",
       "    }\n",
       "\n",
       "    .dataframe tbody tr th {\n",
       "        vertical-align: top;\n",
       "    }\n",
       "\n",
       "    .dataframe thead th {\n",
       "        text-align: right;\n",
       "    }\n",
       "</style>\n",
       "<table border=\"1\" class=\"dataframe\">\n",
       "  <thead>\n",
       "    <tr style=\"text-align: right;\">\n",
       "      <th></th>\n",
       "      <th>PassengerId</th>\n",
       "      <th>Survived</th>\n",
       "      <th>Pclass</th>\n",
       "      <th>Name</th>\n",
       "      <th>Sex</th>\n",
       "      <th>Age</th>\n",
       "      <th>SibSp</th>\n",
       "      <th>Parch</th>\n",
       "      <th>Ticket</th>\n",
       "      <th>Fare</th>\n",
       "      <th>Cabin</th>\n",
       "      <th>Embarked</th>\n",
       "    </tr>\n",
       "  </thead>\n",
       "  <tbody>\n",
       "    <tr>\n",
       "      <th>0</th>\n",
       "      <td>1</td>\n",
       "      <td>0</td>\n",
       "      <td>3</td>\n",
       "      <td>Braund, Mr. Owen Harris</td>\n",
       "      <td>male</td>\n",
       "      <td>22.0</td>\n",
       "      <td>1</td>\n",
       "      <td>0</td>\n",
       "      <td>A/5 21171</td>\n",
       "      <td>7.2500</td>\n",
       "      <td>NaN</td>\n",
       "      <td>S</td>\n",
       "    </tr>\n",
       "    <tr>\n",
       "      <th>1</th>\n",
       "      <td>2</td>\n",
       "      <td>1</td>\n",
       "      <td>1</td>\n",
       "      <td>Cumings, Mrs. John Bradley (Florence Briggs Th...</td>\n",
       "      <td>female</td>\n",
       "      <td>38.0</td>\n",
       "      <td>1</td>\n",
       "      <td>0</td>\n",
       "      <td>PC 17599</td>\n",
       "      <td>71.2833</td>\n",
       "      <td>C85</td>\n",
       "      <td>C</td>\n",
       "    </tr>\n",
       "    <tr>\n",
       "      <th>2</th>\n",
       "      <td>3</td>\n",
       "      <td>1</td>\n",
       "      <td>3</td>\n",
       "      <td>Heikkinen, Miss. Laina</td>\n",
       "      <td>female</td>\n",
       "      <td>26.0</td>\n",
       "      <td>0</td>\n",
       "      <td>0</td>\n",
       "      <td>STON/O2. 3101282</td>\n",
       "      <td>7.9250</td>\n",
       "      <td>NaN</td>\n",
       "      <td>S</td>\n",
       "    </tr>\n",
       "    <tr>\n",
       "      <th>3</th>\n",
       "      <td>4</td>\n",
       "      <td>1</td>\n",
       "      <td>1</td>\n",
       "      <td>Futrelle, Mrs. Jacques Heath (Lily May Peel)</td>\n",
       "      <td>female</td>\n",
       "      <td>35.0</td>\n",
       "      <td>1</td>\n",
       "      <td>0</td>\n",
       "      <td>113803</td>\n",
       "      <td>53.1000</td>\n",
       "      <td>C123</td>\n",
       "      <td>S</td>\n",
       "    </tr>\n",
       "    <tr>\n",
       "      <th>4</th>\n",
       "      <td>5</td>\n",
       "      <td>0</td>\n",
       "      <td>3</td>\n",
       "      <td>Allen, Mr. William Henry</td>\n",
       "      <td>male</td>\n",
       "      <td>35.0</td>\n",
       "      <td>0</td>\n",
       "      <td>0</td>\n",
       "      <td>373450</td>\n",
       "      <td>8.0500</td>\n",
       "      <td>NaN</td>\n",
       "      <td>S</td>\n",
       "    </tr>\n",
       "  </tbody>\n",
       "</table>\n",
       "</div>"
      ],
      "text/plain": [
       "   PassengerId  Survived  Pclass  \\\n",
       "0            1         0       3   \n",
       "1            2         1       1   \n",
       "2            3         1       3   \n",
       "3            4         1       1   \n",
       "4            5         0       3   \n",
       "\n",
       "                                                Name     Sex   Age  SibSp  \\\n",
       "0                            Braund, Mr. Owen Harris    male  22.0      1   \n",
       "1  Cumings, Mrs. John Bradley (Florence Briggs Th...  female  38.0      1   \n",
       "2                             Heikkinen, Miss. Laina  female  26.0      0   \n",
       "3       Futrelle, Mrs. Jacques Heath (Lily May Peel)  female  35.0      1   \n",
       "4                           Allen, Mr. William Henry    male  35.0      0   \n",
       "\n",
       "   Parch            Ticket     Fare Cabin Embarked  \n",
       "0      0         A/5 21171   7.2500   NaN        S  \n",
       "1      0          PC 17599  71.2833   C85        C  \n",
       "2      0  STON/O2. 3101282   7.9250   NaN        S  \n",
       "3      0            113803  53.1000  C123        S  \n",
       "4      0            373450   8.0500   NaN        S  "
      ]
     },
     "execution_count": 4,
     "metadata": {},
     "output_type": "execute_result"
    }
   ],
   "source": [
    "titanic.head()"
   ]
  },
  {
   "cell_type": "code",
   "execution_count": 5,
   "id": "eb653cab-6e2d-4fed-8a8c-762b96ff8146",
   "metadata": {},
   "outputs": [
    {
     "data": {
      "text/html": [
       "<div>\n",
       "<style scoped>\n",
       "    .dataframe tbody tr th:only-of-type {\n",
       "        vertical-align: middle;\n",
       "    }\n",
       "\n",
       "    .dataframe tbody tr th {\n",
       "        vertical-align: top;\n",
       "    }\n",
       "\n",
       "    .dataframe thead th {\n",
       "        text-align: right;\n",
       "    }\n",
       "</style>\n",
       "<table border=\"1\" class=\"dataframe\">\n",
       "  <thead>\n",
       "    <tr style=\"text-align: right;\">\n",
       "      <th></th>\n",
       "      <th>PassengerId</th>\n",
       "      <th>Survived</th>\n",
       "      <th>Pclass</th>\n",
       "      <th>Age</th>\n",
       "      <th>SibSp</th>\n",
       "      <th>Parch</th>\n",
       "      <th>Fare</th>\n",
       "    </tr>\n",
       "  </thead>\n",
       "  <tbody>\n",
       "    <tr>\n",
       "      <th>count</th>\n",
       "      <td>891.000000</td>\n",
       "      <td>891.000000</td>\n",
       "      <td>891.000000</td>\n",
       "      <td>714.000000</td>\n",
       "      <td>891.000000</td>\n",
       "      <td>891.000000</td>\n",
       "      <td>891.000000</td>\n",
       "    </tr>\n",
       "    <tr>\n",
       "      <th>mean</th>\n",
       "      <td>446.000000</td>\n",
       "      <td>0.383838</td>\n",
       "      <td>2.308642</td>\n",
       "      <td>29.699118</td>\n",
       "      <td>0.523008</td>\n",
       "      <td>0.381594</td>\n",
       "      <td>32.204208</td>\n",
       "    </tr>\n",
       "    <tr>\n",
       "      <th>std</th>\n",
       "      <td>257.353842</td>\n",
       "      <td>0.486592</td>\n",
       "      <td>0.836071</td>\n",
       "      <td>14.526497</td>\n",
       "      <td>1.102743</td>\n",
       "      <td>0.806057</td>\n",
       "      <td>49.693429</td>\n",
       "    </tr>\n",
       "    <tr>\n",
       "      <th>min</th>\n",
       "      <td>1.000000</td>\n",
       "      <td>0.000000</td>\n",
       "      <td>1.000000</td>\n",
       "      <td>0.420000</td>\n",
       "      <td>0.000000</td>\n",
       "      <td>0.000000</td>\n",
       "      <td>0.000000</td>\n",
       "    </tr>\n",
       "    <tr>\n",
       "      <th>25%</th>\n",
       "      <td>223.500000</td>\n",
       "      <td>0.000000</td>\n",
       "      <td>2.000000</td>\n",
       "      <td>20.125000</td>\n",
       "      <td>0.000000</td>\n",
       "      <td>0.000000</td>\n",
       "      <td>7.910400</td>\n",
       "    </tr>\n",
       "    <tr>\n",
       "      <th>50%</th>\n",
       "      <td>446.000000</td>\n",
       "      <td>0.000000</td>\n",
       "      <td>3.000000</td>\n",
       "      <td>28.000000</td>\n",
       "      <td>0.000000</td>\n",
       "      <td>0.000000</td>\n",
       "      <td>14.454200</td>\n",
       "    </tr>\n",
       "    <tr>\n",
       "      <th>75%</th>\n",
       "      <td>668.500000</td>\n",
       "      <td>1.000000</td>\n",
       "      <td>3.000000</td>\n",
       "      <td>38.000000</td>\n",
       "      <td>1.000000</td>\n",
       "      <td>0.000000</td>\n",
       "      <td>31.000000</td>\n",
       "    </tr>\n",
       "    <tr>\n",
       "      <th>max</th>\n",
       "      <td>891.000000</td>\n",
       "      <td>1.000000</td>\n",
       "      <td>3.000000</td>\n",
       "      <td>80.000000</td>\n",
       "      <td>8.000000</td>\n",
       "      <td>6.000000</td>\n",
       "      <td>512.329200</td>\n",
       "    </tr>\n",
       "  </tbody>\n",
       "</table>\n",
       "</div>"
      ],
      "text/plain": [
       "       PassengerId    Survived      Pclass         Age       SibSp  \\\n",
       "count   891.000000  891.000000  891.000000  714.000000  891.000000   \n",
       "mean    446.000000    0.383838    2.308642   29.699118    0.523008   \n",
       "std     257.353842    0.486592    0.836071   14.526497    1.102743   \n",
       "min       1.000000    0.000000    1.000000    0.420000    0.000000   \n",
       "25%     223.500000    0.000000    2.000000   20.125000    0.000000   \n",
       "50%     446.000000    0.000000    3.000000   28.000000    0.000000   \n",
       "75%     668.500000    1.000000    3.000000   38.000000    1.000000   \n",
       "max     891.000000    1.000000    3.000000   80.000000    8.000000   \n",
       "\n",
       "            Parch        Fare  \n",
       "count  891.000000  891.000000  \n",
       "mean     0.381594   32.204208  \n",
       "std      0.806057   49.693429  \n",
       "min      0.000000    0.000000  \n",
       "25%      0.000000    7.910400  \n",
       "50%      0.000000   14.454200  \n",
       "75%      0.000000   31.000000  \n",
       "max      6.000000  512.329200  "
      ]
     },
     "execution_count": 5,
     "metadata": {},
     "output_type": "execute_result"
    }
   ],
   "source": [
    "titanic.describe()"
   ]
  },
  {
   "cell_type": "code",
   "execution_count": 6,
   "id": "4c05e310-3825-48d7-8f07-11e1d5d78eaa",
   "metadata": {},
   "outputs": [
    {
     "data": {
      "text/plain": [
       "<Axes: xlabel='Age', ylabel='Count'>"
      ]
     },
     "execution_count": 6,
     "metadata": {},
     "output_type": "execute_result"
    },
    {
     "data": {
      "image/png": "[encoded data removed]",
      "text/plain": [
       "<Figure size 640x480 with 1 Axes>"
      ]
     },
     "metadata": {},
     "output_type": "display_data"
    }
   ],
   "source": [
    "sns.histplot(titanic, x = 'Age')"
   ]
  },
  {
   "cell_type": "code",
   "execution_count": null,
   "id": "a49625db-f1e3-4589-be62-40469649c521",
   "metadata": {},
   "outputs": [],
   "source": []
  },
  {
   "cell_type": "markdown",
   "id": "cd644ad4-067a-435b-94a6-26b61ba667d1",
   "metadata": {},
   "source": [
    "### Пример индуктивной статистики"
   ]
  },
  {
   "cell_type": "code",
   "execution_count": 8,
   "id": "139d36fd-8bdd-4d0c-b952-98742b792275",
   "metadata": {},
   "outputs": [
    {
     "data": {
      "text/html": [
       "<div>\n",
       "<style scoped>\n",
       "    .dataframe tbody tr th:only-of-type {\n",
       "        vertical-align: middle;\n",
       "    }\n",
       "\n",
       "    .dataframe tbody tr th {\n",
       "        vertical-align: top;\n",
       "    }\n",
       "\n",
       "    .dataframe thead th {\n",
       "        text-align: right;\n",
       "    }\n",
       "</style>\n",
       "<table border=\"1\" class=\"dataframe\">\n",
       "  <thead>\n",
       "    <tr style=\"text-align: right;\">\n",
       "      <th></th>\n",
       "      <th>PassengerId</th>\n",
       "      <th>Survived</th>\n",
       "      <th>Pclass</th>\n",
       "      <th>Name</th>\n",
       "      <th>Sex</th>\n",
       "      <th>Age</th>\n",
       "      <th>SibSp</th>\n",
       "      <th>Parch</th>\n",
       "      <th>Ticket</th>\n",
       "      <th>Fare</th>\n",
       "      <th>Cabin</th>\n",
       "      <th>Embarked</th>\n",
       "    </tr>\n",
       "  </thead>\n",
       "  <tbody>\n",
       "    <tr>\n",
       "      <th>0</th>\n",
       "      <td>1</td>\n",
       "      <td>0</td>\n",
       "      <td>3</td>\n",
       "      <td>Braund, Mr. Owen Harris</td>\n",
       "      <td>male</td>\n",
       "      <td>22.0</td>\n",
       "      <td>1</td>\n",
       "      <td>0</td>\n",
       "      <td>A/5 21171</td>\n",
       "      <td>7.2500</td>\n",
       "      <td>NaN</td>\n",
       "      <td>S</td>\n",
       "    </tr>\n",
       "    <tr>\n",
       "      <th>1</th>\n",
       "      <td>2</td>\n",
       "      <td>1</td>\n",
       "      <td>1</td>\n",
       "      <td>Cumings, Mrs. John Bradley (Florence Briggs Th...</td>\n",
       "      <td>female</td>\n",
       "      <td>38.0</td>\n",
       "      <td>1</td>\n",
       "      <td>0</td>\n",
       "      <td>PC 17599</td>\n",
       "      <td>71.2833</td>\n",
       "      <td>C85</td>\n",
       "      <td>C</td>\n",
       "    </tr>\n",
       "    <tr>\n",
       "      <th>2</th>\n",
       "      <td>3</td>\n",
       "      <td>1</td>\n",
       "      <td>3</td>\n",
       "      <td>Heikkinen, Miss. Laina</td>\n",
       "      <td>female</td>\n",
       "      <td>26.0</td>\n",
       "      <td>0</td>\n",
       "      <td>0</td>\n",
       "      <td>STON/O2. 3101282</td>\n",
       "      <td>7.9250</td>\n",
       "      <td>NaN</td>\n",
       "      <td>S</td>\n",
       "    </tr>\n",
       "    <tr>\n",
       "      <th>3</th>\n",
       "      <td>4</td>\n",
       "      <td>1</td>\n",
       "      <td>1</td>\n",
       "      <td>Futrelle, Mrs. Jacques Heath (Lily May Peel)</td>\n",
       "      <td>female</td>\n",
       "      <td>35.0</td>\n",
       "      <td>1</td>\n",
       "      <td>0</td>\n",
       "      <td>113803</td>\n",
       "      <td>53.1000</td>\n",
       "      <td>C123</td>\n",
       "      <td>S</td>\n",
       "    </tr>\n",
       "    <tr>\n",
       "      <th>4</th>\n",
       "      <td>5</td>\n",
       "      <td>0</td>\n",
       "      <td>3</td>\n",
       "      <td>Allen, Mr. William Henry</td>\n",
       "      <td>male</td>\n",
       "      <td>35.0</td>\n",
       "      <td>0</td>\n",
       "      <td>0</td>\n",
       "      <td>373450</td>\n",
       "      <td>8.0500</td>\n",
       "      <td>NaN</td>\n",
       "      <td>S</td>\n",
       "    </tr>\n",
       "  </tbody>\n",
       "</table>\n",
       "</div>"
      ],
      "text/plain": [
       "   PassengerId  Survived  Pclass  \\\n",
       "0            1         0       3   \n",
       "1            2         1       1   \n",
       "2            3         1       3   \n",
       "3            4         1       1   \n",
       "4            5         0       3   \n",
       "\n",
       "                                                Name     Sex   Age  SibSp  \\\n",
       "0                            Braund, Mr. Owen Harris    male  22.0      1   \n",
       "1  Cumings, Mrs. John Bradley (Florence Briggs Th...  female  38.0      1   \n",
       "2                             Heikkinen, Miss. Laina  female  26.0      0   \n",
       "3       Futrelle, Mrs. Jacques Heath (Lily May Peel)  female  35.0      1   \n",
       "4                           Allen, Mr. William Henry    male  35.0      0   \n",
       "\n",
       "   Parch            Ticket     Fare Cabin Embarked  \n",
       "0      0         A/5 21171   7.2500   NaN        S  \n",
       "1      0          PC 17599  71.2833   C85        C  \n",
       "2      0  STON/O2. 3101282   7.9250   NaN        S  \n",
       "3      0            113803  53.1000  C123        S  \n",
       "4      0            373450   8.0500   NaN        S  "
      ]
     },
     "execution_count": 8,
     "metadata": {},
     "output_type": "execute_result"
    }
   ],
   "source": [
    "titanic.head()"
   ]
  },
  {
   "cell_type": "code",
   "execution_count": null,
   "id": "b63b95f1-287f-480b-acc6-f7547c727cc7",
   "metadata": {},
   "outputs": [],
   "source": [
    "#%pip install scikit-learn"
   ]
  },
  {
   "cell_type": "code",
   "execution_count": 9,
   "id": "8bdf7bc9-d260-4a39-be05-50f000d96423",
   "metadata": {},
   "outputs": [],
   "source": [
    "from sklearn.linear_model import LogisticRegression\n",
    "from sklearn.metrics import accuracy_score"
   ]
  },
  {
   "cell_type": "code",
   "execution_count": null,
   "id": "044f9bcc-6a98-46a4-bee7-6cc4847d3ef3",
   "metadata": {},
   "outputs": [],
   "source": [
    "# model = LogisticRegression()\n",
    "# model.fit()\n",
    "# accuracy_score()\n",
    "# model.predict()"
   ]
  },
  {
   "cell_type": "code",
   "execution_count": 10,
   "id": "cda14275-4636-46f7-9f96-439d9b577ebf",
   "metadata": {},
   "outputs": [],
   "source": [
    "model = LogisticRegression()"
   ]
  },
  {
   "cell_type": "code",
   "execution_count": 13,
   "id": "e849dcc4-84a1-4558-8302-859b3e9dce43",
   "metadata": {},
   "outputs": [
    {
     "data": {
      "text/html": [
       "<style>#sk-container-id-1 {color: black;background-color: white;}#sk-container-id-1 pre{padding: 0;}#sk-container-id-1 div.sk-toggleable {background-color: white;}#sk-container-id-1 label.sk-toggleable__label {cursor: pointer;display: block;width: 100%;margin-bottom: 0;padding: 0.3em;box-sizing: border-box;text-align: center;}#sk-container-id-1 label.sk-toggleable__label-arrow:before {content: \"▸\";float: left;margin-right: 0.25em;color: #696969;}#sk-container-id-1 label.sk-toggleable__label-arrow:hover:before {color: black;}#sk-container-id-1 div.sk-estimator:hover label.sk-toggleable__label-arrow:before {color: black;}#sk-container-id-1 div.sk-toggleable__content {max-height: 0;max-width: 0;overflow: hidden;text-align: left;background-color: #f0f8ff;}#sk-container-id-1 div.sk-toggleable__content pre {margin: 0.2em;color: black;border-radius: 0.25em;background-color: #f0f8ff;}#sk-container-id-1 input.sk-toggleable__control:checked~div.sk-toggleable__content {max-height: 200px;max-width: 100%;overflow: auto;}#sk-container-id-1 input.sk-toggleable__control:checked~label.sk-toggleable__label-arrow:before {content: \"▾\";}#sk-container-id-1 div.sk-estimator input.sk-toggleable__control:checked~label.sk-toggleable__label {background-color: #d4ebff;}#sk-container-id-1 div.sk-label input.sk-toggleable__control:checked~label.sk-toggleable__label {background-color: #d4ebff;}#sk-container-id-1 input.sk-hidden--visually {border: 0;clip: rect(1px 1px 1px 1px);clip: rect(1px, 1px, 1px, 1px);height: 1px;margin: -1px;overflow: hidden;padding: 0;position: absolute;width: 1px;}#sk-container-id-1 div.sk-estimator {font-family: monospace;background-color: #f0f8ff;border: 1px dotted black;border-radius: 0.25em;box-sizing: border-box;margin-bottom: 0.5em;}#sk-container-id-1 div.sk-estimator:hover {background-color: #d4ebff;}#sk-container-id-1 div.sk-parallel-item::after {content: \"\";width: 100%;border-bottom: 1px solid gray;flex-grow: 1;}#sk-container-id-1 div.sk-label:hover label.sk-toggleable__label {background-color: #d4ebff;}#sk-container-id-1 div.sk-serial::before {content: \"\";position: absolute;border-left: 1px solid gray;box-sizing: border-box;top: 0;bottom: 0;left: 50%;z-index: 0;}#sk-container-id-1 div.sk-serial {display: flex;flex-direction: column;align-items: center;background-color: white;padding-right: 0.2em;padding-left: 0.2em;position: relative;}#sk-container-id-1 div.sk-item {position: relative;z-index: 1;}#sk-container-id-1 div.sk-parallel {display: flex;align-items: stretch;justify-content: center;background-color: white;position: relative;}#sk-container-id-1 div.sk-item::before, #sk-container-id-1 div.sk-parallel-item::before {content: \"\";position: absolute;border-left: 1px solid gray;box-sizing: border-box;top: 0;bottom: 0;left: 50%;z-index: -1;}#sk-container-id-1 div.sk-parallel-item {display: flex;flex-direction: column;z-index: 1;position: relative;background-color: white;}#sk-container-id-1 div.sk-parallel-item:first-child::after {align-self: flex-end;width: 50%;}#sk-container-id-1 div.sk-parallel-item:last-child::after {align-self: flex-start;width: 50%;}#sk-container-id-1 div.sk-parallel-item:only-child::after {width: 0;}#sk-container-id-1 div.sk-dashed-wrapped {border: 1px dashed gray;margin: 0 0.4em 0.5em 0.4em;box-sizing: border-box;padding-bottom: 0.4em;background-color: white;}#sk-container-id-1 div.sk-label label {font-family: monospace;font-weight: bold;display: inline-block;line-height: 1.2em;}#sk-container-id-1 div.sk-label-container {text-align: center;}#sk-container-id-1 div.sk-container {/* jupyter's `normalize.less` sets `[hidden] { display: none; }` but bootstrap.min.css set `[hidden] { display: none !important; }` so we also need the `!important` here to be able to override the default hidden behavior on the sphinx rendered scikit-learn.org. See: https://github.com/scikit-learn/scikit-learn/issues/21755 */display: inline-block !important;position: relative;}#sk-container-id-1 div.sk-text-repr-fallback {display: none;}</style><div id=\"sk-container-id-1\" class=\"sk-top-container\"><div class=\"sk-text-repr-fallback\"><pre>LogisticRegression()</pre><b>In a Jupyter environment, please rerun this cell to show the HTML representation or trust the notebook. <br />On GitHub, the HTML representation is unable to render, please try loading this page with nbviewer.org.</b></div><div class=\"sk-container\" hidden><div class=\"sk-item\"><div class=\"sk-estimator sk-toggleable\"><input class=\"sk-toggleable__control sk-hidden--visually\" id=\"sk-estimator-id-1\" type=\"checkbox\" checked><label for=\"sk-estimator-id-1\" class=\"sk-toggleable__label sk-toggleable__label-arrow\">LogisticRegression</label><div class=\"sk-toggleable__content\"><pre>LogisticRegression()</pre></div></div></div></div></div>"
      ],
      "text/plain": [
       "LogisticRegression()"
      ]
     },
     "execution_count": 13,
     "metadata": {},
     "output_type": "execute_result"
    }
   ],
   "source": [
    "model.fit(\n",
    "    titanic[['Pclass', 'Fare']],\n",
    "    titanic['Survived']\n",
    ")"
   ]
  },
  {
   "cell_type": "code",
   "execution_count": 14,
   "id": "d2bcdb30-4423-4e96-99a4-f12d95240ce8",
   "metadata": {},
   "outputs": [],
   "source": [
    "titanic['Survived_pred'] = model.predict(titanic[['Pclass', 'Fare']])"
   ]
  },
  {
   "cell_type": "code",
   "execution_count": 15,
   "id": "5c3f1758-c4e3-44f4-957e-7f7dd7403ad9",
   "metadata": {},
   "outputs": [
    {
     "data": {
      "text/plain": [
       "0.6790123456790124"
      ]
     },
     "execution_count": 15,
     "metadata": {},
     "output_type": "execute_result"
    }
   ],
   "source": [
    "accuracy_score(\n",
    "    titanic['Survived_pred'],\n",
    "    titanic['Survived']\n",
    ")"
   ]
  },
  {
   "cell_type": "code",
   "execution_count": null,
   "id": "cbcc3827-8c89-4f3a-ae5c-7456eb4e17dc",
   "metadata": {},
   "outputs": [],
   "source": []
  },
  {
   "cell_type": "markdown",
   "id": "fb744ca5-4d73-44a8-b0d4-3c3d5a5ba99f",
   "metadata": {},
   "source": [
    "### Пример оценки параметра из генеральной совокупности "
   ]
  },
  {
   "cell_type": "code",
   "execution_count": 16,
   "id": "38e6d4fb-2496-45df-8edc-8d38002dd63b",
   "metadata": {},
   "outputs": [],
   "source": [
    "credit = pd.read_csv('credit_train.csv')"
   ]
  },
  {
   "cell_type": "code",
   "execution_count": 20,
   "id": "ce0471f6-df96-41de-b670-46fd39390aae",
   "metadata": {},
   "outputs": [],
   "source": [
    "credit = credit[\n",
    "    (credit['Current Loan Amount'].isnull() == False)\n",
    "    &(credit['Current Loan Amount'] != 99999999)\n",
    "].reset_index()"
   ]
  },
  {
   "cell_type": "code",
   "execution_count": 21,
   "id": "e6c7213e-e635-402b-a0d5-28450f29e320",
   "metadata": {},
   "outputs": [
    {
     "data": {
      "text/html": [
       "<div>\n",
       "<style scoped>\n",
       "    .dataframe tbody tr th:only-of-type {\n",
       "        vertical-align: middle;\n",
       "    }\n",
       "\n",
       "    .dataframe tbody tr th {\n",
       "        vertical-align: top;\n",
       "    }\n",
       "\n",
       "    .dataframe thead th {\n",
       "        text-align: right;\n",
       "    }\n",
       "</style>\n",
       "<table border=\"1\" class=\"dataframe\">\n",
       "  <thead>\n",
       "    <tr style=\"text-align: right;\">\n",
       "      <th></th>\n",
       "      <th>index</th>\n",
       "      <th>Current Loan Amount</th>\n",
       "      <th>Credit Score</th>\n",
       "      <th>Annual Income</th>\n",
       "      <th>Monthly Debt</th>\n",
       "      <th>Years of Credit History</th>\n",
       "      <th>Months since last delinquent</th>\n",
       "      <th>Number of Open Accounts</th>\n",
       "      <th>Number of Credit Problems</th>\n",
       "      <th>Current Credit Balance</th>\n",
       "      <th>Maximum Open Credit</th>\n",
       "      <th>Bankruptcies</th>\n",
       "      <th>Tax Liens</th>\n",
       "    </tr>\n",
       "  </thead>\n",
       "  <tbody>\n",
       "    <tr>\n",
       "      <th>count</th>\n",
       "      <td>88516.000000</td>\n",
       "      <td>88516.000000</td>\n",
       "      <td>69362.000000</td>\n",
       "      <td>6.936200e+04</td>\n",
       "      <td>88516.000000</td>\n",
       "      <td>88516.000000</td>\n",
       "      <td>41728.000000</td>\n",
       "      <td>88516.000000</td>\n",
       "      <td>88516.000000</td>\n",
       "      <td>8.851600e+04</td>\n",
       "      <td>8.851400e+04</td>\n",
       "      <td>88339.000000</td>\n",
       "      <td>88507.000000</td>\n",
       "    </tr>\n",
       "    <tr>\n",
       "      <th>mean</th>\n",
       "      <td>50013.513579</td>\n",
       "      <td>312313.597881</td>\n",
       "      <td>1134.520977</td>\n",
       "      <td>1.373246e+06</td>\n",
       "      <td>18511.522083</td>\n",
       "      <td>18.152483</td>\n",
       "      <td>34.813027</td>\n",
       "      <td>11.127762</td>\n",
       "      <td>0.168727</td>\n",
       "      <td>2.943458e+05</td>\n",
       "      <td>7.652150e+05</td>\n",
       "      <td>0.117751</td>\n",
       "      <td>0.029512</td>\n",
       "    </tr>\n",
       "    <tr>\n",
       "      <th>std</th>\n",
       "      <td>28883.545657</td>\n",
       "      <td>186262.167690</td>\n",
       "      <td>1585.367954</td>\n",
       "      <td>1.103906e+06</td>\n",
       "      <td>12173.763600</td>\n",
       "      <td>6.999045</td>\n",
       "      <td>21.994061</td>\n",
       "      <td>5.005283</td>\n",
       "      <td>0.484092</td>\n",
       "      <td>3.761272e+05</td>\n",
       "      <td>8.892559e+06</td>\n",
       "      <td>0.351513</td>\n",
       "      <td>0.259998</td>\n",
       "    </tr>\n",
       "    <tr>\n",
       "      <th>min</th>\n",
       "      <td>0.000000</td>\n",
       "      <td>10802.000000</td>\n",
       "      <td>585.000000</td>\n",
       "      <td>7.662700e+04</td>\n",
       "      <td>0.000000</td>\n",
       "      <td>3.600000</td>\n",
       "      <td>0.000000</td>\n",
       "      <td>0.000000</td>\n",
       "      <td>0.000000</td>\n",
       "      <td>0.000000e+00</td>\n",
       "      <td>0.000000e+00</td>\n",
       "      <td>0.000000</td>\n",
       "      <td>0.000000</td>\n",
       "    </tr>\n",
       "    <tr>\n",
       "      <th>25%</th>\n",
       "      <td>24978.750000</td>\n",
       "      <td>172342.500000</td>\n",
       "      <td>704.000000</td>\n",
       "      <td>8.462790e+05</td>\n",
       "      <td>10253.730000</td>\n",
       "      <td>13.400000</td>\n",
       "      <td>16.000000</td>\n",
       "      <td>8.000000</td>\n",
       "      <td>0.000000</td>\n",
       "      <td>1.129170e+05</td>\n",
       "      <td>2.718320e+05</td>\n",
       "      <td>0.000000</td>\n",
       "      <td>0.000000</td>\n",
       "    </tr>\n",
       "    <tr>\n",
       "      <th>50%</th>\n",
       "      <td>50055.500000</td>\n",
       "      <td>267344.000000</td>\n",
       "      <td>722.000000</td>\n",
       "      <td>1.167759e+06</td>\n",
       "      <td>16275.495000</td>\n",
       "      <td>16.900000</td>\n",
       "      <td>32.000000</td>\n",
       "      <td>10.000000</td>\n",
       "      <td>0.000000</td>\n",
       "      <td>2.100355e+05</td>\n",
       "      <td>4.644860e+05</td>\n",
       "      <td>0.000000</td>\n",
       "      <td>0.000000</td>\n",
       "    </tr>\n",
       "    <tr>\n",
       "      <th>75%</th>\n",
       "      <td>75018.500000</td>\n",
       "      <td>432663.000000</td>\n",
       "      <td>740.000000</td>\n",
       "      <td>1.644564e+06</td>\n",
       "      <td>24059.415000</td>\n",
       "      <td>21.600000</td>\n",
       "      <td>51.000000</td>\n",
       "      <td>14.000000</td>\n",
       "      <td>0.000000</td>\n",
       "      <td>3.678780e+05</td>\n",
       "      <td>7.772600e+05</td>\n",
       "      <td>0.000000</td>\n",
       "      <td>0.000000</td>\n",
       "    </tr>\n",
       "    <tr>\n",
       "      <th>max</th>\n",
       "      <td>99998.000000</td>\n",
       "      <td>789250.000000</td>\n",
       "      <td>7510.000000</td>\n",
       "      <td>1.655574e+08</td>\n",
       "      <td>435843.280000</td>\n",
       "      <td>70.500000</td>\n",
       "      <td>176.000000</td>\n",
       "      <td>76.000000</td>\n",
       "      <td>15.000000</td>\n",
       "      <td>3.287897e+07</td>\n",
       "      <td>1.539738e+09</td>\n",
       "      <td>7.000000</td>\n",
       "      <td>15.000000</td>\n",
       "    </tr>\n",
       "  </tbody>\n",
       "</table>\n",
       "</div>"
      ],
      "text/plain": [
       "              index  Current Loan Amount  Credit Score  Annual Income  \\\n",
       "count  88516.000000         88516.000000  69362.000000   6.936200e+04   \n",
       "mean   50013.513579        312313.597881   1134.520977   1.373246e+06   \n",
       "std    28883.545657        186262.167690   1585.367954   1.103906e+06   \n",
       "min        0.000000         10802.000000    585.000000   7.662700e+04   \n",
       "25%    24978.750000        172342.500000    704.000000   8.462790e+05   \n",
       "50%    50055.500000        267344.000000    722.000000   1.167759e+06   \n",
       "75%    75018.500000        432663.000000    740.000000   1.644564e+06   \n",
       "max    99998.000000        789250.000000   7510.000000   1.655574e+08   \n",
       "\n",
       "        Monthly Debt  Years of Credit History  Months since last delinquent  \\\n",
       "count   88516.000000             88516.000000                  41728.000000   \n",
       "mean    18511.522083                18.152483                     34.813027   \n",
       "std     12173.763600                 6.999045                     21.994061   \n",
       "min         0.000000                 3.600000                      0.000000   \n",
       "25%     10253.730000                13.400000                     16.000000   \n",
       "50%     16275.495000                16.900000                     32.000000   \n",
       "75%     24059.415000                21.600000                     51.000000   \n",
       "max    435843.280000                70.500000                    176.000000   \n",
       "\n",
       "       Number of Open Accounts  Number of Credit Problems  \\\n",
       "count             88516.000000               88516.000000   \n",
       "mean                 11.127762                   0.168727   \n",
       "std                   5.005283                   0.484092   \n",
       "min                   0.000000                   0.000000   \n",
       "25%                   8.000000                   0.000000   \n",
       "50%                  10.000000                   0.000000   \n",
       "75%                  14.000000                   0.000000   \n",
       "max                  76.000000                  15.000000   \n",
       "\n",
       "       Current Credit Balance  Maximum Open Credit  Bankruptcies     Tax Liens  \n",
       "count            8.851600e+04         8.851400e+04  88339.000000  88507.000000  \n",
       "mean             2.943458e+05         7.652150e+05      0.117751      0.029512  \n",
       "std              3.761272e+05         8.892559e+06      0.351513      0.259998  \n",
       "min              0.000000e+00         0.000000e+00      0.000000      0.000000  \n",
       "25%              1.129170e+05         2.718320e+05      0.000000      0.000000  \n",
       "50%              2.100355e+05         4.644860e+05      0.000000      0.000000  \n",
       "75%              3.678780e+05         7.772600e+05      0.000000      0.000000  \n",
       "max              3.287897e+07         1.539738e+09      7.000000     15.000000  "
      ]
     },
     "execution_count": 21,
     "metadata": {},
     "output_type": "execute_result"
    }
   ],
   "source": [
    "credit.describe()"
   ]
  },
  {
   "cell_type": "code",
   "execution_count": 26,
   "id": "7296fc14-d766-4d54-924a-11c124416105",
   "metadata": {},
   "outputs": [
    {
     "data": {
      "text/html": [
       "<div>\n",
       "<style scoped>\n",
       "    .dataframe tbody tr th:only-of-type {\n",
       "        vertical-align: middle;\n",
       "    }\n",
       "\n",
       "    .dataframe tbody tr th {\n",
       "        vertical-align: top;\n",
       "    }\n",
       "\n",
       "    .dataframe thead th {\n",
       "        text-align: right;\n",
       "    }\n",
       "</style>\n",
       "<table border=\"1\" class=\"dataframe\">\n",
       "  <thead>\n",
       "    <tr style=\"text-align: right;\">\n",
       "      <th></th>\n",
       "      <th>index</th>\n",
       "      <th>Current Loan Amount</th>\n",
       "      <th>Credit Score</th>\n",
       "      <th>Annual Income</th>\n",
       "      <th>Monthly Debt</th>\n",
       "      <th>Years of Credit History</th>\n",
       "      <th>Months since last delinquent</th>\n",
       "      <th>Number of Open Accounts</th>\n",
       "      <th>Number of Credit Problems</th>\n",
       "      <th>Current Credit Balance</th>\n",
       "      <th>Maximum Open Credit</th>\n",
       "      <th>Bankruptcies</th>\n",
       "      <th>Tax Liens</th>\n",
       "    </tr>\n",
       "  </thead>\n",
       "  <tbody>\n",
       "    <tr>\n",
       "      <th>count</th>\n",
       "      <td>1001.000000</td>\n",
       "      <td>1001.000000</td>\n",
       "      <td>761.000000</td>\n",
       "      <td>7.610000e+02</td>\n",
       "      <td>1001.000000</td>\n",
       "      <td>1001.000000</td>\n",
       "      <td>467.000000</td>\n",
       "      <td>1001.000000</td>\n",
       "      <td>1001.000000</td>\n",
       "      <td>1.001000e+03</td>\n",
       "      <td>1.001000e+03</td>\n",
       "      <td>1000.000000</td>\n",
       "      <td>1001.000000</td>\n",
       "    </tr>\n",
       "    <tr>\n",
       "      <th>mean</th>\n",
       "      <td>568.534466</td>\n",
       "      <td>310588.747253</td>\n",
       "      <td>1139.022339</td>\n",
       "      <td>1.357140e+06</td>\n",
       "      <td>18205.672827</td>\n",
       "      <td>18.256643</td>\n",
       "      <td>36.719486</td>\n",
       "      <td>11.100899</td>\n",
       "      <td>0.195804</td>\n",
       "      <td>2.719959e+05</td>\n",
       "      <td>7.348351e+05</td>\n",
       "      <td>0.139000</td>\n",
       "      <td>0.039960</td>\n",
       "    </tr>\n",
       "    <tr>\n",
       "      <th>std</th>\n",
       "      <td>329.116455</td>\n",
       "      <td>186431.838625</td>\n",
       "      <td>1598.172891</td>\n",
       "      <td>8.447092e+05</td>\n",
       "      <td>11929.647187</td>\n",
       "      <td>6.790408</td>\n",
       "      <td>21.724684</td>\n",
       "      <td>5.179074</td>\n",
       "      <td>0.558231</td>\n",
       "      <td>2.833799e+05</td>\n",
       "      <td>4.630649e+06</td>\n",
       "      <td>0.392215</td>\n",
       "      <td>0.283552</td>\n",
       "    </tr>\n",
       "    <tr>\n",
       "      <th>min</th>\n",
       "      <td>0.000000</td>\n",
       "      <td>21934.000000</td>\n",
       "      <td>594.000000</td>\n",
       "      <td>1.857820e+05</td>\n",
       "      <td>472.150000</td>\n",
       "      <td>4.900000</td>\n",
       "      <td>0.000000</td>\n",
       "      <td>2.000000</td>\n",
       "      <td>0.000000</td>\n",
       "      <td>0.000000e+00</td>\n",
       "      <td>0.000000e+00</td>\n",
       "      <td>0.000000</td>\n",
       "      <td>0.000000</td>\n",
       "    </tr>\n",
       "    <tr>\n",
       "      <th>25%</th>\n",
       "      <td>278.000000</td>\n",
       "      <td>161656.000000</td>\n",
       "      <td>704.000000</td>\n",
       "      <td>8.414910e+05</td>\n",
       "      <td>10037.700000</td>\n",
       "      <td>13.800000</td>\n",
       "      <td>18.000000</td>\n",
       "      <td>8.000000</td>\n",
       "      <td>0.000000</td>\n",
       "      <td>1.133730e+05</td>\n",
       "      <td>2.657160e+05</td>\n",
       "      <td>0.000000</td>\n",
       "      <td>0.000000</td>\n",
       "    </tr>\n",
       "    <tr>\n",
       "      <th>50%</th>\n",
       "      <td>571.000000</td>\n",
       "      <td>267454.000000</td>\n",
       "      <td>723.000000</td>\n",
       "      <td>1.168272e+06</td>\n",
       "      <td>15787.480000</td>\n",
       "      <td>17.000000</td>\n",
       "      <td>35.000000</td>\n",
       "      <td>10.000000</td>\n",
       "      <td>0.000000</td>\n",
       "      <td>2.098360e+05</td>\n",
       "      <td>4.510440e+05</td>\n",
       "      <td>0.000000</td>\n",
       "      <td>0.000000</td>\n",
       "    </tr>\n",
       "    <tr>\n",
       "      <th>75%</th>\n",
       "      <td>858.000000</td>\n",
       "      <td>433312.000000</td>\n",
       "      <td>740.000000</td>\n",
       "      <td>1.603657e+06</td>\n",
       "      <td>23336.750000</td>\n",
       "      <td>21.700000</td>\n",
       "      <td>52.000000</td>\n",
       "      <td>13.000000</td>\n",
       "      <td>0.000000</td>\n",
       "      <td>3.516330e+05</td>\n",
       "      <td>7.566460e+05</td>\n",
       "      <td>0.000000</td>\n",
       "      <td>0.000000</td>\n",
       "    </tr>\n",
       "    <tr>\n",
       "      <th>max</th>\n",
       "      <td>1132.000000</td>\n",
       "      <td>788326.000000</td>\n",
       "      <td>7500.000000</td>\n",
       "      <td>7.669160e+06</td>\n",
       "      <td>97671.020000</td>\n",
       "      <td>50.100000</td>\n",
       "      <td>88.000000</td>\n",
       "      <td>43.000000</td>\n",
       "      <td>7.000000</td>\n",
       "      <td>5.246261e+06</td>\n",
       "      <td>1.459073e+08</td>\n",
       "      <td>5.000000</td>\n",
       "      <td>4.000000</td>\n",
       "    </tr>\n",
       "  </tbody>\n",
       "</table>\n",
       "</div>"
      ],
      "text/plain": [
       "             index  Current Loan Amount  Credit Score  Annual Income  \\\n",
       "count  1001.000000          1001.000000    761.000000   7.610000e+02   \n",
       "mean    568.534466        310588.747253   1139.022339   1.357140e+06   \n",
       "std     329.116455        186431.838625   1598.172891   8.447092e+05   \n",
       "min       0.000000         21934.000000    594.000000   1.857820e+05   \n",
       "25%     278.000000        161656.000000    704.000000   8.414910e+05   \n",
       "50%     571.000000        267454.000000    723.000000   1.168272e+06   \n",
       "75%     858.000000        433312.000000    740.000000   1.603657e+06   \n",
       "max    1132.000000        788326.000000   7500.000000   7.669160e+06   \n",
       "\n",
       "       Monthly Debt  Years of Credit History  Months since last delinquent  \\\n",
       "count   1001.000000              1001.000000                    467.000000   \n",
       "mean   18205.672827                18.256643                     36.719486   \n",
       "std    11929.647187                 6.790408                     21.724684   \n",
       "min      472.150000                 4.900000                      0.000000   \n",
       "25%    10037.700000                13.800000                     18.000000   \n",
       "50%    15787.480000                17.000000                     35.000000   \n",
       "75%    23336.750000                21.700000                     52.000000   \n",
       "max    97671.020000                50.100000                     88.000000   \n",
       "\n",
       "       Number of Open Accounts  Number of Credit Problems  \\\n",
       "count              1001.000000                1001.000000   \n",
       "mean                 11.100899                   0.195804   \n",
       "std                   5.179074                   0.558231   \n",
       "min                   2.000000                   0.000000   \n",
       "25%                   8.000000                   0.000000   \n",
       "50%                  10.000000                   0.000000   \n",
       "75%                  13.000000                   0.000000   \n",
       "max                  43.000000                   7.000000   \n",
       "\n",
       "       Current Credit Balance  Maximum Open Credit  Bankruptcies    Tax Liens  \n",
       "count            1.001000e+03         1.001000e+03   1000.000000  1001.000000  \n",
       "mean             2.719959e+05         7.348351e+05      0.139000     0.039960  \n",
       "std              2.833799e+05         4.630649e+06      0.392215     0.283552  \n",
       "min              0.000000e+00         0.000000e+00      0.000000     0.000000  \n",
       "25%              1.133730e+05         2.657160e+05      0.000000     0.000000  \n",
       "50%              2.098360e+05         4.510440e+05      0.000000     0.000000  \n",
       "75%              3.516330e+05         7.566460e+05      0.000000     0.000000  \n",
       "max              5.246261e+06         1.459073e+08      5.000000     4.000000  "
      ]
     },
     "execution_count": 26,
     "metadata": {},
     "output_type": "execute_result"
    }
   ],
   "source": [
    "credit.loc[0:1000, :].describe()"
   ]
  },
  {
   "cell_type": "markdown",
   "id": "7aede489-9ad2-4a9d-8458-831a5b302f1a",
   "metadata": {},
   "source": [
    "### Практическое задание\n",
    "Подгрузите датасет с пассажирами титаника. Охарактеризуйте каждую переменную (количественная или качественная), а также тип каждой переменной"
   ]
  },
  {
   "cell_type": "code",
   "execution_count": null,
   "id": "c234d9e0-ac92-4231-9d10-9b26ba6f3e53",
   "metadata": {},
   "outputs": [],
   "source": []
  },
  {
   "attachments": {
    "9e722550-a366-4bd2-82cd-656be3c3f7ac.png": {
     "image/png": "[encoded data removed]"
    }
   },
   "cell_type": "markdown",
   "id": "62453a9e-b5e1-4111-b077-ce435807d54b",
   "metadata": {},
   "source": [
    "![image.png](attachment:9e722550-a366-4bd2-82cd-656be3c3f7ac.png)"
   ]
  },
  {
   "attachments": {
    "28509a00-5050-45aa-b633-d7effa9b2234.png": {
     "image/png": "[encoded data removed]"
    }
   },
   "cell_type": "markdown",
   "id": "ccdd7d00-337a-4d3b-93e8-e83071eab17c",
   "metadata": {},
   "source": [
    "![image.png](attachment:28509a00-5050-45aa-b633-d7effa9b2234.png)"
   ]
  },
  {
   "cell_type": "markdown",
   "id": "e34b0936-27e7-42c5-befb-9a734dde960c",
   "metadata": {},
   "source": [
    "### Меры центральной тенденции"
   ]
  },
  {
   "cell_type": "markdown",
   "id": "2dfce6ab-6a43-4938-a3ff-54da57f67b7f",
   "metadata": {},
   "source": [
    "Расчет среднего"
   ]
  },
  {
   "cell_type": "code",
   "execution_count": 27,
   "id": "f4255b90-65d8-445a-be15-4496f921b7a8",
   "metadata": {},
   "outputs": [
    {
     "data": {
      "text/plain": [
       "3.4444444444444446"
      ]
     },
     "execution_count": 27,
     "metadata": {},
     "output_type": "execute_result"
    }
   ],
   "source": [
    "data = [5, 4, 2, 3, 2, 1, 5, 4, 5]\n",
    "mean = np.mean(data)\n",
    "mean"
   ]
  },
  {
   "cell_type": "markdown",
   "id": "7be8ecd6-b252-42f0-8f50-eef8e5778e0e",
   "metadata": {},
   "source": [
    "Расчет медианы"
   ]
  },
  {
   "cell_type": "code",
   "execution_count": 28,
   "id": "79ba864b-a470-434b-a9c7-8aba1bfecd4d",
   "metadata": {},
   "outputs": [
    {
     "data": {
      "text/plain": [
       "4.0"
      ]
     },
     "execution_count": 28,
     "metadata": {},
     "output_type": "execute_result"
    }
   ],
   "source": [
    "median = np.median(data)\n",
    "median"
   ]
  },
  {
   "cell_type": "markdown",
   "id": "c9d083b9-2cc0-4092-9435-9fde79c6983b",
   "metadata": {},
   "source": [
    "Расчет моды"
   ]
  },
  {
   "cell_type": "code",
   "execution_count": 29,
   "id": "fa0b5551-86a7-4ca4-8467-bb2e3c9f107a",
   "metadata": {},
   "outputs": [],
   "source": [
    "from scipy import stats"
   ]
  },
  {
   "cell_type": "code",
   "execution_count": 31,
   "id": "c71191f5-035c-4f9a-9c0c-45e3ba2d10a4",
   "metadata": {},
   "outputs": [
    {
     "data": {
      "text/plain": [
       "5"
      ]
     },
     "execution_count": 31,
     "metadata": {},
     "output_type": "execute_result"
    }
   ],
   "source": [
    "from scipy import stats\n",
    "mode = stats.mode(data)\n",
    "mode.mode"
   ]
  },
  {
   "cell_type": "markdown",
   "id": "3a28e43e-89fd-44ed-8e08-ca91ac1b853b",
   "metadata": {},
   "source": [
    "### Меры дисперсии (разброс)"
   ]
  },
  {
   "cell_type": "markdown",
   "id": "82144e13-2d86-4ad0-b478-b46e3c514dcc",
   "metadata": {},
   "source": [
    "Диапазон"
   ]
  },
  {
   "cell_type": "code",
   "execution_count": 32,
   "id": "040fe258-602e-4d5d-8127-f75bee7e6c24",
   "metadata": {},
   "outputs": [
    {
     "data": {
      "text/plain": [
       "4"
      ]
     },
     "execution_count": 32,
     "metadata": {},
     "output_type": "execute_result"
    }
   ],
   "source": [
    "data = [5, 4, 2, 3, 2, 1, 5, 4, 5]\n",
    "range_value = max(data) - min(data)\n",
    "range_value"
   ]
  },
  {
   "cell_type": "markdown",
   "id": "0d784cb9-1a2e-44d0-85da-2c104b1860a7",
   "metadata": {},
   "source": [
    "Дисперсия"
   ]
  },
  {
   "cell_type": "code",
   "execution_count": 34,
   "id": "47f8fbef-87cf-4f6d-af95-07554c0b59ea",
   "metadata": {},
   "outputs": [],
   "source": [
    "data = [5, 4, 2, 3, 2, 1, 5, 4, 5]"
   ]
  },
  {
   "cell_type": "code",
   "execution_count": 35,
   "id": "e1d5d4b4-7b95-4a6e-a2f8-c7c827a43602",
   "metadata": {},
   "outputs": [
    {
     "data": {
      "text/plain": [
       "2.0246913580246915"
      ]
     },
     "execution_count": 35,
     "metadata": {},
     "output_type": "execute_result"
    }
   ],
   "source": [
    "variance = np.var(data)\n",
    "variance"
   ]
  },
  {
   "cell_type": "markdown",
   "id": "c5d0fbef-503e-42b1-b18d-23040895f0a4",
   "metadata": {},
   "source": [
    "Стандартное отклонение"
   ]
  },
  {
   "cell_type": "code",
   "execution_count": 36,
   "id": "4746bc75-59f6-4725-90e0-1f9f0741408a",
   "metadata": {},
   "outputs": [
    {
     "data": {
      "text/plain": [
       "1.4229164972072998"
      ]
     },
     "execution_count": 36,
     "metadata": {},
     "output_type": "execute_result"
    }
   ],
   "source": [
    "std_dev = np.std(data)\n",
    "std_dev"
   ]
  },
  {
   "cell_type": "markdown",
   "id": "a8a94daa-ef78-4835-9126-82779b090be9",
   "metadata": {},
   "source": [
    "Межквартильный интервал (IQR) (Интерквартильный размах)"
   ]
  },
  {
   "cell_type": "code",
   "execution_count": 51,
   "id": "b27d602c-1bb8-4d4f-ba58-f8a4cc093714",
   "metadata": {},
   "outputs": [],
   "source": [
    "data = [5, 4, 2, 3, 2, 1, 5, 4, 5]"
   ]
  },
  {
   "cell_type": "code",
   "execution_count": null,
   "id": "cfa4b47f-27ee-4182-ba00-167e51c56891",
   "metadata": {},
   "outputs": [],
   "source": []
  },
  {
   "cell_type": "code",
   "execution_count": null,
   "id": "15acb239-3c0a-4d6d-9e68-cc5f4062fd8c",
   "metadata": {},
   "outputs": [],
   "source": [
    "#k = 0.25 * (N - 1)"
   ]
  },
  {
   "cell_type": "code",
   "execution_count": null,
   "id": "195880f3-62ad-403e-bdfe-a5b7ac1eb6f1",
   "metadata": {},
   "outputs": [],
   "source": []
  },
  {
   "cell_type": "code",
   "execution_count": 53,
   "id": "a69dd639-6ca8-49cf-86ae-29b14b7e419e",
   "metadata": {},
   "outputs": [
    {
     "data": {
      "text/plain": [
       "3.0"
      ]
     },
     "execution_count": 53,
     "metadata": {},
     "output_type": "execute_result"
    }
   ],
   "source": [
    "Q1 = np.percentile(data, 25)\n",
    "Q3 = np.percentile(data, 75)\n",
    "IQR = Q3 - Q1\n",
    "IQR"
   ]
  },
  {
   "cell_type": "markdown",
   "id": "b4b6559e-a3e9-4f69-9f75-ac9bb0f45788",
   "metadata": {},
   "source": [
    "### Практическое задание\n",
    "1. Подгрузите датасет с пассажирами титаника. Оставьте только первые 10 строк\n",
    "2. Вычислите вручную все меры разброса. Сверьтесь с функциями"
   ]
  },
  {
   "cell_type": "code",
   "execution_count": null,
   "id": "71c6aa44-a395-4368-af69-92a71946b6c2",
   "metadata": {},
   "outputs": [],
   "source": []
  },
  {
   "cell_type": "code",
   "execution_count": null,
   "id": "6c55b7de-9719-4cb4-87be-4506fc141d64",
   "metadata": {},
   "outputs": [],
   "source": []
  }
 ],
 "metadata": {
  "kernelspec": {
   "display_name": "Python 3 (ipykernel)",
   "language": "python",
   "name": "python3"
  },
  "language_info": {
   "codemirror_mode": {
    "name": "ipython",
    "version": 3
   },
   "file_extension": ".py",
   "mimetype": "text/x-python",
   "name": "python",
   "nbconvert_exporter": "python",
   "pygments_lexer": "ipython3",
   "version": "3.12.4"
  }
 },
 "nbformat": 4,
 "nbformat_minor": 5
}
