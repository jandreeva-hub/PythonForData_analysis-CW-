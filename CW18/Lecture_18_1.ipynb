{
 "cells": [
  {
   "cell_type": "code",
   "execution_count": 2,
   "id": "cb0e5725-49fd-4534-8261-f357c1f3b4c6",
   "metadata": {},
   "outputs": [],
   "source": [
    "import pandas as pd\n",
    "import seaborn as sns\n",
    "import numpy as np\n",
    "\n",
    "from scipy import stats"
   ]
  },
  {
   "cell_type": "code",
   "execution_count": null,
   "id": "c9af9d71-29c8-4045-b2bd-2a620d80b429",
   "metadata": {},
   "outputs": [],
   "source": []
  },
  {
   "cell_type": "markdown",
   "id": "32296127-0c12-4048-a7a9-04f853014196",
   "metadata": {},
   "source": [
    "### T-test"
   ]
  },
  {
   "cell_type": "markdown",
   "id": "5b4878c9-d21b-41bc-94d9-9c9e8270d89a",
   "metadata": {},
   "source": [
    "Одновыборочный T-тест"
   ]
  },
  {
   "cell_type": "code",
   "execution_count": 3,
   "id": "98bf0f6a-2ff0-4873-a378-85fe79423d43",
   "metadata": {},
   "outputs": [],
   "source": [
    "# Данные выборки\n",
    "data = np.array([98, 102, 95, 105, 99, 101, 97, 103, 100, 98])\n",
    "\n",
    "# Гипотетическое среднее значение генеральной совокупности\n",
    "popmean = 100"
   ]
  },
  {
   "cell_type": "code",
   "execution_count": 4,
   "id": "aca1a6de-c42c-4ac5-9221-3845d1c7cec5",
   "metadata": {},
   "outputs": [
    {
     "data": {
      "text/plain": [
       "TtestResult(statistic=-0.2100420126042044, pvalue=0.8383128367369509, df=9)"
      ]
     },
     "execution_count": 4,
     "metadata": {},
     "output_type": "execute_result"
    }
   ],
   "source": [
    "stats.ttest_1samp(data, popmean)"
   ]
  },
  {
   "cell_type": "code",
   "execution_count": 5,
   "id": "309aa2ee-783b-4875-9d41-591daacd8cf9",
   "metadata": {},
   "outputs": [
    {
     "name": "stdout",
     "output_type": "stream",
     "text": [
      "T-статистика: -0.2100420126042044\n",
      "P-value: 0.8383128367369509\n"
     ]
    }
   ],
   "source": [
    "t_statistic, p_value = stats.ttest_1samp(data, popmean)\n",
    "print(f\"T-статистика: {t_statistic}\")\n",
    "print(f\"P-value: {p_value}\")"
   ]
  },
  {
   "cell_type": "code",
   "execution_count": null,
   "id": "5ee72653-58d3-4bfc-b0ed-33289b449535",
   "metadata": {},
   "outputs": [],
   "source": []
  },
  {
   "cell_type": "markdown",
   "id": "61fa7c1b-1473-4fc9-81f8-2f178d316430",
   "metadata": {},
   "source": [
    "Двухвыборочный (независимых выборок) T-тест"
   ]
  },
  {
   "cell_type": "code",
   "execution_count": 6,
   "id": "66768bb9-d780-4a16-92e4-abe7de69d44b",
   "metadata": {},
   "outputs": [],
   "source": [
    "# Две независимые выборки\n",
    "group1 = np.random.normal(loc=10, scale=2, size=100)\n",
    "group2 = np.random.normal(loc=12, scale=2, size=100)"
   ]
  },
  {
   "cell_type": "code",
   "execution_count": 7,
   "id": "a64685bd-64b1-46f4-a064-6f5a08f0e7cd",
   "metadata": {},
   "outputs": [
    {
     "data": {
      "text/plain": [
       "TtestResult(statistic=-7.786556614263312, pvalue=3.765247512006631e-13, df=198.0)"
      ]
     },
     "execution_count": 7,
     "metadata": {},
     "output_type": "execute_result"
    }
   ],
   "source": [
    "stats.ttest_ind(group1, group2)"
   ]
  },
  {
   "cell_type": "code",
   "execution_count": 8,
   "id": "e4a2873d-226a-4ad8-8128-cc5ef6c2272f",
   "metadata": {},
   "outputs": [
    {
     "name": "stdout",
     "output_type": "stream",
     "text": [
      "T-статистика: -7.786556614263312\n",
      "P-value: 3.765247512006631e-13\n"
     ]
    }
   ],
   "source": [
    "t_statistic, p_value = stats.ttest_ind(group1, group2)\n",
    "print(f\"T-статистика: {t_statistic}\")\n",
    "print(f\"P-value: {p_value}\")"
   ]
  },
  {
   "cell_type": "markdown",
   "id": "d0a295dd-226b-46c3-b9a6-31603826025d",
   "metadata": {},
   "source": [
    "Парный Т-тест (Т-тест зависимых выборок)"
   ]
  },
  {
   "cell_type": "code",
   "execution_count": 9,
   "id": "3a289e45-4084-4e19-9fce-dd4a92eb812e",
   "metadata": {},
   "outputs": [],
   "source": [
    "before = np.random.normal(loc=10, scale=2, size=30)\n",
    "after = before + np.random.normal(loc=0.5, scale=0.5, size=30)"
   ]
  },
  {
   "cell_type": "code",
   "execution_count": 10,
   "id": "b855290c-1c94-4802-bed6-cb4e7abe024a",
   "metadata": {},
   "outputs": [
    {
     "data": {
      "text/plain": [
       "TtestResult(statistic=-7.035485104038623, pvalue=9.74037970981006e-08, df=29)"
      ]
     },
     "execution_count": 10,
     "metadata": {},
     "output_type": "execute_result"
    }
   ],
   "source": [
    "stats.ttest_rel(before, after)"
   ]
  },
  {
   "cell_type": "code",
   "execution_count": 11,
   "id": "2dfbf219-bb36-4cc3-8f55-5ff83cb9de02",
   "metadata": {},
   "outputs": [
    {
     "name": "stdout",
     "output_type": "stream",
     "text": [
      "T-статистика: -7.035485104038623\n",
      "P-value: 9.74037970981006e-08\n"
     ]
    }
   ],
   "source": [
    "t_statistic, p_value = stats.ttest_rel(before, after)\n",
    "print(f\"T-статистика: {t_statistic}\")\n",
    "print(f\"P-value: {p_value}\")"
   ]
  },
  {
   "cell_type": "code",
   "execution_count": null,
   "id": "18ff804f-e459-472e-bd6a-8846bb28a040",
   "metadata": {},
   "outputs": [],
   "source": []
  },
  {
   "cell_type": "markdown",
   "id": "29d29d67-d3e8-4cde-9cc5-26f95112845b",
   "metadata": {},
   "source": [
    "### Практическое задание 0\n",
    "1. Подгрузите датасет с продажами мобильных телефонов\n",
    "2. Сгруппируйте датасет по дате. Рассчитайте суммарные продажи за день\n",
    "3. Сформулируйте предположение о том, чему можеть быть равно истинное среднее.\n",
    "4. Сформулируйте нулевую и альтернативную гипотезы\n",
    "5. Проверьте свою гипотезу с помощью одновыборочного t-test\n",
    "6. Нанесите на график распределения доверительные интервалы для среднего, а также гипотетическое среднее\n",
    "7. Сформулируйте гипотезу так, чтобы полученный результат изменился"
   ]
  },
  {
   "cell_type": "code",
   "execution_count": null,
   "id": "28eca7c1-7910-4909-a5ef-0200a2c3335e",
   "metadata": {},
   "outputs": [],
   "source": [
    "#fig, axs = plt.subplots(1, 2, figsize=(12, 5))\n",
    "#sample_mean = np.mean(data)\n",
    "#sem = stats.sem(data)  # Стандартная ошибка среднего\n",
    "#stats.t.interval(confidence_level, degrees_freedom, sample_mean, sem)"
   ]
  },
  {
   "cell_type": "code",
   "execution_count": null,
   "id": "830c4c2e-4f79-4ac0-a7d5-4cfc6d715813",
   "metadata": {},
   "outputs": [],
   "source": []
  },
  {
   "cell_type": "markdown",
   "id": "38ee9008-bb83-4f74-9a2b-586322795fab",
   "metadata": {},
   "source": [
    "### Z-тест в Python"
   ]
  },
  {
   "cell_type": "markdown",
   "id": "cf0375d9-e9eb-47ea-bb43-d987e2d3d58c",
   "metadata": {},
   "source": [
    "Одновыборочный Z-тест"
   ]
  },
  {
   "cell_type": "code",
   "execution_count": 12,
   "id": "2ba98463-f122-4245-afa1-41331399aeb3",
   "metadata": {},
   "outputs": [
    {
     "name": "stdout",
     "output_type": "stream",
     "text": [
      "Z-score: 0.8838834764831844\n",
      "P-value: 0.376759117811582\n"
     ]
    }
   ],
   "source": [
    "import scipy.stats as stats\n",
    "from math import sqrt\n",
    "\n",
    "# Заданные значения\n",
    "x_bar = 102 # среднее значение выборки\n",
    "n = 50 # количество студентов\n",
    "sigma = 16 # стандартное отклонение генеральной совокупности\n",
    "mu = 100 # среднее значение генеральной совокупности\n",
    "\n",
    "# Вычисление Z-балла\n",
    "z = (x_bar - mu) / (sigma / sqrt(n))\n",
    "\n",
    "# Нахождение p-значения\n",
    "p_value = stats.norm.sf(abs(z)) * 2 # тест с двумя хвостами\n",
    "\n",
    "print(f\"Z-score: {z}\")\n",
    "print(f\"P-value: {p_value}\")"
   ]
  },
  {
   "cell_type": "markdown",
   "id": "b5ea0702-b2ff-4807-a1fa-a0916115cddc",
   "metadata": {},
   "source": [
    "Двухвыборочный Z-тест"
   ]
  },
  {
   "cell_type": "code",
   "execution_count": 14,
   "id": "e5c73bb7-89a1-44ce-82a1-43854905ae69",
   "metadata": {},
   "outputs": [
    {
     "name": "stdout",
     "output_type": "stream",
     "text": [
      "Z-статистика: -4.131173276068746\n",
      "P-value: 3.609163929264418e-05\n"
     ]
    }
   ],
   "source": [
    "from statsmodels.stats.weightstats import ztest\n",
    "import numpy as np\n",
    "\n",
    "# Моделирование выборочных данных\n",
    "np.random.seed(0)\n",
    "factory_A = np.random.normal(loc=5, scale=0.1, size=50)\n",
    "factory_B = np.random.normal(loc=5.1, scale=0.1, size=50)\n",
    "\n",
    "# Выполнение двухвыборочного Z-теста\n",
    "z_stat, p_value = ztest(factory_A, factory_B)\n",
    "\n",
    "print(f\"Z-статистика: {z_stat}\")\n",
    "print(f\"P-value: {p_value}\")"
   ]
  },
  {
   "cell_type": "code",
   "execution_count": null,
   "id": "39031323-9b00-4b35-a3ce-9a5ca606fb5b",
   "metadata": {},
   "outputs": [],
   "source": []
  },
  {
   "cell_type": "markdown",
   "id": "f448c921-d778-4117-8d47-255f6afc2bbb",
   "metadata": {},
   "source": [
    "### Практическое задание 1\n",
    "1. Подгрузите датасет с продажами мобильных телефонов\n",
    "2. C помощью функции np.random.choice поделите покупателей на группы\n",
    "3. Разделите датасет на 2 группы - продажи до мая 2024-го и после\n",
    "4. Визуализируйте распределения групп ДО воздействия на одной графике\n",
    "5. Сформулируйте нулевую и альернативную гипотезу о средних выборок до воздействия\n",
    "6. Сделайте вывод о гиптезах с помощью z_test\n",
    "7. С помощью случайных распределений смоделируйте воздействие на одну из групп после мая 2024-го\n",
    "8. Проверьте гипотезу о равенстве групп после воздействия (сформулируйте нулевую и альернативную гипотезу)\n",
    "9. Визуализируйте на графике оба распределения, а также полученные доверительные интервалы"
   ]
  },
  {
   "cell_type": "code",
   "execution_count": null,
   "id": "603c18c7-e84a-4c76-b749-8ce21744f01e",
   "metadata": {},
   "outputs": [],
   "source": [
    "# # Вычисление стандартной ошибки разности средних значений\n",
    "# n1, n2 = len(sample1), len(sample2)\n",
    "# mean1, mean2 = np.mean(sample1), np.mean(sample2)\n",
    "# se1, se2 = np.std(sample1, ddof=1), np.std(sample2, ddof=1)\n",
    "# sed = np.sqrt(se1**2/n1 + se2**2/n2)\n",
    "\n",
    "# # Вычисление доверительного интервала\n",
    "# confidence_level = 0.95\n",
    "# degrees_freedom = n1 + n2 - 2\n",
    "# confidence_interval = stats.t.interval(confidence_level, degrees_freedom, loc=(mean1 - mean2), scale=sed)"
   ]
  },
  {
   "cell_type": "markdown",
   "id": "0a460a1a-9429-4303-aac7-51b6e457190b",
   "metadata": {},
   "source": []
  },
  {
   "cell_type": "markdown",
   "id": "ca2619af-1acc-4a13-9f43-7e110394b6b6",
   "metadata": {},
   "source": [
    "### Практическое задание 2\n",
    "1. Подгрузите датасет с продажами в разных городах США\n",
    "2. Отфильтруйте датасет по одному из городов\n",
    "3. Сформируйте колонку ID пользователя используя сброс индекса\n",
    "4. Произведите имитацию воздействия с помощью генерации случайных\n",
    "5. Сформулируйте нулевую и альтернативную гипотезы относительно воздействия\n",
    "6. Проведите тест на разницу средних, визуализируйте на одном графике распределения и средние значения выборок\n",
    "7. Измените воздействие так, чтобы результат теста тоже поменялся. Постройте графики заного"
   ]
  },
  {
   "cell_type": "code",
   "execution_count": null,
   "id": "d5db3eaf-238c-4614-a277-a8a1b66dc7d7",
   "metadata": {},
   "outputs": [],
   "source": []
  }
 ],
 "metadata": {
  "kernelspec": {
   "display_name": "Python 3 (ipykernel)",
   "language": "python",
   "name": "python3"
  },
  "language_info": {
   "codemirror_mode": {
    "name": "ipython",
    "version": 3
   },
   "file_extension": ".py",
   "mimetype": "text/x-python",
   "name": "python",
   "nbconvert_exporter": "python",
   "pygments_lexer": "ipython3",
   "version": "3.12.4"
  }
 },
 "nbformat": 4,
 "nbformat_minor": 5
}
