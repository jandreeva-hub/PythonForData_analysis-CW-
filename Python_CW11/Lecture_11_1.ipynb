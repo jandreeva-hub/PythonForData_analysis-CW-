{
 "cells": [
  {
   "cell_type": "code",
   "execution_count": null,
   "id": "865b498a-f004-4338-995a-1bf6eeabfe2b",
   "metadata": {},
   "outputs": [],
   "source": []
  },
  {
   "cell_type": "markdown",
   "id": "c38386ce-1c67-402f-b04a-8d051f5b5121",
   "metadata": {},
   "source": [
    "### Установка и импорт Библиотеки Polars"
   ]
  },
  {
   "cell_type": "code",
   "execution_count": 23,
   "id": "bd6c1ae8-1430-4cf6-8244-9c42119d34e8",
   "metadata": {},
   "outputs": [
    {
     "name": "stdout",
     "output_type": "stream",
     "text": [
      "Requirement already satisfied: polars in /opt/anaconda3/lib/python3.11/site-packages (1.1.0)\n",
      "Note: you may need to restart the kernel to use updated packages.\n"
     ]
    }
   ],
   "source": [
    "%pip install polars"
   ]
  },
  {
   "cell_type": "code",
   "execution_count": 24,
   "id": "a5487fa0-6249-4f88-9f42-b2a31eb338ca",
   "metadata": {},
   "outputs": [
    {
     "name": "stdout",
     "output_type": "stream",
     "text": [
      "Requirement already satisfied: pyarrow in /opt/anaconda3/lib/python3.11/site-packages (14.0.2)\n",
      "Requirement already satisfied: numpy>=1.16.6 in /opt/anaconda3/lib/python3.11/site-packages (from pyarrow) (1.26.4)\n",
      "Note: you may need to restart the kernel to use updated packages.\n"
     ]
    }
   ],
   "source": [
    "%pip install pyarrow"
   ]
  },
  {
   "cell_type": "code",
   "execution_count": 99,
   "id": "29ef0ce7-3d0d-4a61-b480-c3db4a8bf9d3",
   "metadata": {},
   "outputs": [],
   "source": [
    "import polars as pl\n",
    "import pandas as pd\n",
    "import numpy as np"
   ]
  },
  {
   "cell_type": "markdown",
   "id": "dd9fab04-d2ca-4424-88f9-103faa94dcc7",
   "metadata": {},
   "source": [
    "### Загрузка данных в Polars DataFrame"
   ]
  },
  {
   "cell_type": "markdown",
   "id": "d910c071-a04b-4ac4-a370-baac0359a230",
   "metadata": {},
   "source": [
    "Импорт датасета из csv"
   ]
  },
  {
   "cell_type": "code",
   "execution_count": 26,
   "id": "7d14d38f-b207-480a-9ae0-3d66a530e0a4",
   "metadata": {},
   "outputs": [],
   "source": [
    "df = pl.read_csv('titanic.csv')"
   ]
  },
  {
   "cell_type": "code",
   "execution_count": 32,
   "id": "f438fa44-baf4-44ad-8625-9549b91970e9",
   "metadata": {},
   "outputs": [
    {
     "data": {
      "text/html": [
       "<div><style>\n",
       ".dataframe > thead > tr,\n",
       ".dataframe > tbody > tr {\n",
       "  text-align: right;\n",
       "  white-space: pre-wrap;\n",
       "}\n",
       "</style>\n",
       "<small>shape: (5, 12)</small><table border=\"1\" class=\"dataframe\"><thead><tr><th>PassengerId</th><th>Survived</th><th>Pclass</th><th>Name</th><th>Sex</th><th>Age</th><th>SibSp</th><th>Parch</th><th>Ticket</th><th>Fare</th><th>Cabin</th><th>Embarked</th></tr><tr><td>i64</td><td>i64</td><td>i64</td><td>str</td><td>str</td><td>f64</td><td>i64</td><td>i64</td><td>str</td><td>f64</td><td>str</td><td>str</td></tr></thead><tbody><tr><td>1</td><td>0</td><td>3</td><td>&quot;Braund, Mr. Owen Harris&quot;</td><td>&quot;male&quot;</td><td>22.0</td><td>1</td><td>0</td><td>&quot;A/5 21171&quot;</td><td>7.25</td><td>null</td><td>&quot;S&quot;</td></tr><tr><td>2</td><td>1</td><td>1</td><td>&quot;Cumings, Mrs. John Bradley (Fl…</td><td>&quot;female&quot;</td><td>38.0</td><td>1</td><td>0</td><td>&quot;PC 17599&quot;</td><td>71.2833</td><td>&quot;C85&quot;</td><td>&quot;C&quot;</td></tr><tr><td>3</td><td>1</td><td>3</td><td>&quot;Heikkinen, Miss. Laina&quot;</td><td>&quot;female&quot;</td><td>26.0</td><td>0</td><td>0</td><td>&quot;STON/O2. 3101282&quot;</td><td>7.925</td><td>null</td><td>&quot;S&quot;</td></tr><tr><td>4</td><td>1</td><td>1</td><td>&quot;Futrelle, Mrs. Jacques Heath (…</td><td>&quot;female&quot;</td><td>35.0</td><td>1</td><td>0</td><td>&quot;113803&quot;</td><td>53.1</td><td>&quot;C123&quot;</td><td>&quot;S&quot;</td></tr><tr><td>5</td><td>0</td><td>3</td><td>&quot;Allen, Mr. William Henry&quot;</td><td>&quot;male&quot;</td><td>35.0</td><td>0</td><td>0</td><td>&quot;373450&quot;</td><td>8.05</td><td>null</td><td>&quot;S&quot;</td></tr></tbody></table></div>"
      ],
      "text/plain": [
       "shape: (5, 12)\n",
       "┌─────────────┬──────────┬────────┬───────────────────┬───┬───────────┬─────────┬───────┬──────────┐\n",
       "│ PassengerId ┆ Survived ┆ Pclass ┆ Name              ┆ … ┆ Ticket    ┆ Fare    ┆ Cabin ┆ Embarked │\n",
       "│ ---         ┆ ---      ┆ ---    ┆ ---               ┆   ┆ ---       ┆ ---     ┆ ---   ┆ ---      │\n",
       "│ i64         ┆ i64      ┆ i64    ┆ str               ┆   ┆ str       ┆ f64     ┆ str   ┆ str      │\n",
       "╞═════════════╪══════════╪════════╪═══════════════════╪═══╪═══════════╪═════════╪═══════╪══════════╡\n",
       "│ 1           ┆ 0        ┆ 3      ┆ Braund, Mr. Owen  ┆ … ┆ A/5 21171 ┆ 7.25    ┆ null  ┆ S        │\n",
       "│             ┆          ┆        ┆ Harris            ┆   ┆           ┆         ┆       ┆          │\n",
       "│ 2           ┆ 1        ┆ 1      ┆ Cumings, Mrs.     ┆ … ┆ PC 17599  ┆ 71.2833 ┆ C85   ┆ C        │\n",
       "│             ┆          ┆        ┆ John Bradley (Fl… ┆   ┆           ┆         ┆       ┆          │\n",
       "│ 3           ┆ 1        ┆ 3      ┆ Heikkinen, Miss.  ┆ … ┆ STON/O2.  ┆ 7.925   ┆ null  ┆ S        │\n",
       "│             ┆          ┆        ┆ Laina             ┆   ┆ 3101282   ┆         ┆       ┆          │\n",
       "│ 4           ┆ 1        ┆ 1      ┆ Futrelle, Mrs.    ┆ … ┆ 113803    ┆ 53.1    ┆ C123  ┆ S        │\n",
       "│             ┆          ┆        ┆ Jacques Heath (…  ┆   ┆           ┆         ┆       ┆          │\n",
       "│ 5           ┆ 0        ┆ 3      ┆ Allen, Mr.        ┆ … ┆ 373450    ┆ 8.05    ┆ null  ┆ S        │\n",
       "│             ┆          ┆        ┆ William Henry     ┆   ┆           ┆         ┆       ┆          │\n",
       "└─────────────┴──────────┴────────┴───────────────────┴───┴───────────┴─────────┴───────┴──────────┘"
      ]
     },
     "execution_count": 32,
     "metadata": {},
     "output_type": "execute_result"
    }
   ],
   "source": [
    "df.head()"
   ]
  },
  {
   "cell_type": "markdown",
   "id": "b4cd2dd1-5f05-45c8-a55c-a1ee1c564236",
   "metadata": {},
   "source": [
    "Импорт из pandas-датасета"
   ]
  },
  {
   "cell_type": "code",
   "execution_count": 34,
   "id": "0d4e6cc4-4335-4c45-9d70-667eed96baef",
   "metadata": {},
   "outputs": [],
   "source": [
    "pandas_df = pd.read_csv('titanic.csv')"
   ]
  },
  {
   "cell_type": "code",
   "execution_count": 35,
   "id": "0c10a659-f2ac-49b3-bb7e-53f21d32b404",
   "metadata": {},
   "outputs": [
    {
     "data": {
      "text/html": [
       "<div>\n",
       "<style scoped>\n",
       "    .dataframe tbody tr th:only-of-type {\n",
       "        vertical-align: middle;\n",
       "    }\n",
       "\n",
       "    .dataframe tbody tr th {\n",
       "        vertical-align: top;\n",
       "    }\n",
       "\n",
       "    .dataframe thead th {\n",
       "        text-align: right;\n",
       "    }\n",
       "</style>\n",
       "<table border=\"1\" class=\"dataframe\">\n",
       "  <thead>\n",
       "    <tr style=\"text-align: right;\">\n",
       "      <th></th>\n",
       "      <th>PassengerId</th>\n",
       "      <th>Survived</th>\n",
       "      <th>Pclass</th>\n",
       "      <th>Name</th>\n",
       "      <th>Sex</th>\n",
       "      <th>Age</th>\n",
       "      <th>SibSp</th>\n",
       "      <th>Parch</th>\n",
       "      <th>Ticket</th>\n",
       "      <th>Fare</th>\n",
       "      <th>Cabin</th>\n",
       "      <th>Embarked</th>\n",
       "    </tr>\n",
       "  </thead>\n",
       "  <tbody>\n",
       "    <tr>\n",
       "      <th>0</th>\n",
       "      <td>1</td>\n",
       "      <td>0</td>\n",
       "      <td>3</td>\n",
       "      <td>Braund, Mr. Owen Harris</td>\n",
       "      <td>male</td>\n",
       "      <td>22.0</td>\n",
       "      <td>1</td>\n",
       "      <td>0</td>\n",
       "      <td>A/5 21171</td>\n",
       "      <td>7.2500</td>\n",
       "      <td>NaN</td>\n",
       "      <td>S</td>\n",
       "    </tr>\n",
       "    <tr>\n",
       "      <th>1</th>\n",
       "      <td>2</td>\n",
       "      <td>1</td>\n",
       "      <td>1</td>\n",
       "      <td>Cumings, Mrs. John Bradley (Florence Briggs Th...</td>\n",
       "      <td>female</td>\n",
       "      <td>38.0</td>\n",
       "      <td>1</td>\n",
       "      <td>0</td>\n",
       "      <td>PC 17599</td>\n",
       "      <td>71.2833</td>\n",
       "      <td>C85</td>\n",
       "      <td>C</td>\n",
       "    </tr>\n",
       "    <tr>\n",
       "      <th>2</th>\n",
       "      <td>3</td>\n",
       "      <td>1</td>\n",
       "      <td>3</td>\n",
       "      <td>Heikkinen, Miss. Laina</td>\n",
       "      <td>female</td>\n",
       "      <td>26.0</td>\n",
       "      <td>0</td>\n",
       "      <td>0</td>\n",
       "      <td>STON/O2. 3101282</td>\n",
       "      <td>7.9250</td>\n",
       "      <td>NaN</td>\n",
       "      <td>S</td>\n",
       "    </tr>\n",
       "    <tr>\n",
       "      <th>3</th>\n",
       "      <td>4</td>\n",
       "      <td>1</td>\n",
       "      <td>1</td>\n",
       "      <td>Futrelle, Mrs. Jacques Heath (Lily May Peel)</td>\n",
       "      <td>female</td>\n",
       "      <td>35.0</td>\n",
       "      <td>1</td>\n",
       "      <td>0</td>\n",
       "      <td>113803</td>\n",
       "      <td>53.1000</td>\n",
       "      <td>C123</td>\n",
       "      <td>S</td>\n",
       "    </tr>\n",
       "    <tr>\n",
       "      <th>4</th>\n",
       "      <td>5</td>\n",
       "      <td>0</td>\n",
       "      <td>3</td>\n",
       "      <td>Allen, Mr. William Henry</td>\n",
       "      <td>male</td>\n",
       "      <td>35.0</td>\n",
       "      <td>0</td>\n",
       "      <td>0</td>\n",
       "      <td>373450</td>\n",
       "      <td>8.0500</td>\n",
       "      <td>NaN</td>\n",
       "      <td>S</td>\n",
       "    </tr>\n",
       "  </tbody>\n",
       "</table>\n",
       "</div>"
      ],
      "text/plain": [
       "   PassengerId  Survived  Pclass  \\\n",
       "0            1         0       3   \n",
       "1            2         1       1   \n",
       "2            3         1       3   \n",
       "3            4         1       1   \n",
       "4            5         0       3   \n",
       "\n",
       "                                                Name     Sex   Age  SibSp  \\\n",
       "0                            Braund, Mr. Owen Harris    male  22.0      1   \n",
       "1  Cumings, Mrs. John Bradley (Florence Briggs Th...  female  38.0      1   \n",
       "2                             Heikkinen, Miss. Laina  female  26.0      0   \n",
       "3       Futrelle, Mrs. Jacques Heath (Lily May Peel)  female  35.0      1   \n",
       "4                           Allen, Mr. William Henry    male  35.0      0   \n",
       "\n",
       "   Parch            Ticket     Fare Cabin Embarked  \n",
       "0      0         A/5 21171   7.2500   NaN        S  \n",
       "1      0          PC 17599  71.2833   C85        C  \n",
       "2      0  STON/O2. 3101282   7.9250   NaN        S  \n",
       "3      0            113803  53.1000  C123        S  \n",
       "4      0            373450   8.0500   NaN        S  "
      ]
     },
     "execution_count": 35,
     "metadata": {},
     "output_type": "execute_result"
    }
   ],
   "source": [
    "pandas_df.head()"
   ]
  },
  {
   "cell_type": "code",
   "execution_count": 36,
   "id": "1cc42adf-8b48-4309-ba6c-efd22cc7faca",
   "metadata": {},
   "outputs": [],
   "source": [
    "df = pl.from_pandas(pandas_df)"
   ]
  },
  {
   "cell_type": "markdown",
   "id": "688118ea-2c44-462a-8a32-4a2224bdadca",
   "metadata": {},
   "source": [
    "Импорт из json"
   ]
  },
  {
   "cell_type": "code",
   "execution_count": 50,
   "id": "5c5c10ca-e741-44a8-84df-b0f1b89f3276",
   "metadata": {},
   "outputs": [],
   "source": [
    "pandas_df.to_json('titanic.json', orient='records', lines=True, force_ascii=False)"
   ]
  },
  {
   "cell_type": "code",
   "execution_count": 54,
   "id": "042560e9-b8f0-49ef-b129-b1033f25cdf9",
   "metadata": {},
   "outputs": [],
   "source": [
    "df = pl.read_ndjson('titanic.json')"
   ]
  },
  {
   "cell_type": "code",
   "execution_count": 55,
   "id": "6a770f90-606c-4ba6-b522-2cd8cff7bf35",
   "metadata": {},
   "outputs": [
    {
     "data": {
      "text/html": [
       "<div><style>\n",
       ".dataframe > thead > tr,\n",
       ".dataframe > tbody > tr {\n",
       "  text-align: right;\n",
       "  white-space: pre-wrap;\n",
       "}\n",
       "</style>\n",
       "<small>shape: (891, 12)</small><table border=\"1\" class=\"dataframe\"><thead><tr><th>PassengerId</th><th>Survived</th><th>Pclass</th><th>Name</th><th>Sex</th><th>Age</th><th>SibSp</th><th>Parch</th><th>Ticket</th><th>Fare</th><th>Cabin</th><th>Embarked</th></tr><tr><td>i64</td><td>i64</td><td>i64</td><td>str</td><td>str</td><td>f64</td><td>i64</td><td>i64</td><td>str</td><td>f64</td><td>str</td><td>str</td></tr></thead><tbody><tr><td>1</td><td>0</td><td>3</td><td>&quot;Braund, Mr. Owen Harris&quot;</td><td>&quot;male&quot;</td><td>22.0</td><td>1</td><td>0</td><td>&quot;A/5 21171&quot;</td><td>7.25</td><td>null</td><td>&quot;S&quot;</td></tr><tr><td>2</td><td>1</td><td>1</td><td>&quot;Cumings, Mrs. John Bradley (Fl…</td><td>&quot;female&quot;</td><td>38.0</td><td>1</td><td>0</td><td>&quot;PC 17599&quot;</td><td>71.2833</td><td>&quot;C85&quot;</td><td>&quot;C&quot;</td></tr><tr><td>3</td><td>1</td><td>3</td><td>&quot;Heikkinen, Miss. Laina&quot;</td><td>&quot;female&quot;</td><td>26.0</td><td>0</td><td>0</td><td>&quot;STON/O2. 3101282&quot;</td><td>7.925</td><td>null</td><td>&quot;S&quot;</td></tr><tr><td>4</td><td>1</td><td>1</td><td>&quot;Futrelle, Mrs. Jacques Heath (…</td><td>&quot;female&quot;</td><td>35.0</td><td>1</td><td>0</td><td>&quot;113803&quot;</td><td>53.1</td><td>&quot;C123&quot;</td><td>&quot;S&quot;</td></tr><tr><td>5</td><td>0</td><td>3</td><td>&quot;Allen, Mr. William Henry&quot;</td><td>&quot;male&quot;</td><td>35.0</td><td>0</td><td>0</td><td>&quot;373450&quot;</td><td>8.05</td><td>null</td><td>&quot;S&quot;</td></tr><tr><td>&hellip;</td><td>&hellip;</td><td>&hellip;</td><td>&hellip;</td><td>&hellip;</td><td>&hellip;</td><td>&hellip;</td><td>&hellip;</td><td>&hellip;</td><td>&hellip;</td><td>&hellip;</td><td>&hellip;</td></tr><tr><td>887</td><td>0</td><td>2</td><td>&quot;Montvila, Rev. Juozas&quot;</td><td>&quot;male&quot;</td><td>27.0</td><td>0</td><td>0</td><td>&quot;211536&quot;</td><td>13.0</td><td>null</td><td>&quot;S&quot;</td></tr><tr><td>888</td><td>1</td><td>1</td><td>&quot;Graham, Miss. Margaret Edith&quot;</td><td>&quot;female&quot;</td><td>19.0</td><td>0</td><td>0</td><td>&quot;112053&quot;</td><td>30.0</td><td>&quot;B42&quot;</td><td>&quot;S&quot;</td></tr><tr><td>889</td><td>0</td><td>3</td><td>&quot;Johnston, Miss. Catherine Hele…</td><td>&quot;female&quot;</td><td>null</td><td>1</td><td>2</td><td>&quot;W./C. 6607&quot;</td><td>23.45</td><td>null</td><td>&quot;S&quot;</td></tr><tr><td>890</td><td>1</td><td>1</td><td>&quot;Behr, Mr. Karl Howell&quot;</td><td>&quot;male&quot;</td><td>26.0</td><td>0</td><td>0</td><td>&quot;111369&quot;</td><td>30.0</td><td>&quot;C148&quot;</td><td>&quot;C&quot;</td></tr><tr><td>891</td><td>0</td><td>3</td><td>&quot;Dooley, Mr. Patrick&quot;</td><td>&quot;male&quot;</td><td>32.0</td><td>0</td><td>0</td><td>&quot;370376&quot;</td><td>7.75</td><td>null</td><td>&quot;Q&quot;</td></tr></tbody></table></div>"
      ],
      "text/plain": [
       "shape: (891, 12)\n",
       "┌─────────────┬──────────┬────────┬──────────────────┬───┬────────────┬─────────┬───────┬──────────┐\n",
       "│ PassengerId ┆ Survived ┆ Pclass ┆ Name             ┆ … ┆ Ticket     ┆ Fare    ┆ Cabin ┆ Embarked │\n",
       "│ ---         ┆ ---      ┆ ---    ┆ ---              ┆   ┆ ---        ┆ ---     ┆ ---   ┆ ---      │\n",
       "│ i64         ┆ i64      ┆ i64    ┆ str              ┆   ┆ str        ┆ f64     ┆ str   ┆ str      │\n",
       "╞═════════════╪══════════╪════════╪══════════════════╪═══╪════════════╪═════════╪═══════╪══════════╡\n",
       "│ 1           ┆ 0        ┆ 3      ┆ Braund, Mr. Owen ┆ … ┆ A/5 21171  ┆ 7.25    ┆ null  ┆ S        │\n",
       "│             ┆          ┆        ┆ Harris           ┆   ┆            ┆         ┆       ┆          │\n",
       "│ 2           ┆ 1        ┆ 1      ┆ Cumings, Mrs.    ┆ … ┆ PC 17599   ┆ 71.2833 ┆ C85   ┆ C        │\n",
       "│             ┆          ┆        ┆ John Bradley     ┆   ┆            ┆         ┆       ┆          │\n",
       "│             ┆          ┆        ┆ (Fl…             ┆   ┆            ┆         ┆       ┆          │\n",
       "│ 3           ┆ 1        ┆ 3      ┆ Heikkinen, Miss. ┆ … ┆ STON/O2.   ┆ 7.925   ┆ null  ┆ S        │\n",
       "│             ┆          ┆        ┆ Laina            ┆   ┆ 3101282    ┆         ┆       ┆          │\n",
       "│ 4           ┆ 1        ┆ 1      ┆ Futrelle, Mrs.   ┆ … ┆ 113803     ┆ 53.1    ┆ C123  ┆ S        │\n",
       "│             ┆          ┆        ┆ Jacques Heath (… ┆   ┆            ┆         ┆       ┆          │\n",
       "│ 5           ┆ 0        ┆ 3      ┆ Allen, Mr.       ┆ … ┆ 373450     ┆ 8.05    ┆ null  ┆ S        │\n",
       "│             ┆          ┆        ┆ William Henry    ┆   ┆            ┆         ┆       ┆          │\n",
       "│ …           ┆ …        ┆ …      ┆ …                ┆ … ┆ …          ┆ …       ┆ …     ┆ …        │\n",
       "│ 887         ┆ 0        ┆ 2      ┆ Montvila, Rev.   ┆ … ┆ 211536     ┆ 13.0    ┆ null  ┆ S        │\n",
       "│             ┆          ┆        ┆ Juozas           ┆   ┆            ┆         ┆       ┆          │\n",
       "│ 888         ┆ 1        ┆ 1      ┆ Graham, Miss.    ┆ … ┆ 112053     ┆ 30.0    ┆ B42   ┆ S        │\n",
       "│             ┆          ┆        ┆ Margaret Edith   ┆   ┆            ┆         ┆       ┆          │\n",
       "│ 889         ┆ 0        ┆ 3      ┆ Johnston, Miss.  ┆ … ┆ W./C. 6607 ┆ 23.45   ┆ null  ┆ S        │\n",
       "│             ┆          ┆        ┆ Catherine Hele…  ┆   ┆            ┆         ┆       ┆          │\n",
       "│ 890         ┆ 1        ┆ 1      ┆ Behr, Mr. Karl   ┆ … ┆ 111369     ┆ 30.0    ┆ C148  ┆ C        │\n",
       "│             ┆          ┆        ┆ Howell           ┆   ┆            ┆         ┆       ┆          │\n",
       "│ 891         ┆ 0        ┆ 3      ┆ Dooley, Mr.      ┆ … ┆ 370376     ┆ 7.75    ┆ null  ┆ Q        │\n",
       "│             ┆          ┆        ┆ Patrick          ┆   ┆            ┆         ┆       ┆          │\n",
       "└─────────────┴──────────┴────────┴──────────────────┴───┴────────────┴─────────┴───────┴──────────┘"
      ]
     },
     "execution_count": 55,
     "metadata": {},
     "output_type": "execute_result"
    }
   ],
   "source": [
    "df"
   ]
  },
  {
   "cell_type": "markdown",
   "id": "379395f8-34f4-4439-9034-f626ecb77bd6",
   "metadata": {},
   "source": [
    "### Создание DataFrame в Polars"
   ]
  },
  {
   "cell_type": "markdown",
   "id": "3deb3f63-73e8-495d-8eae-8b36fc496e07",
   "metadata": {},
   "source": [
    "Из словаря"
   ]
  },
  {
   "cell_type": "code",
   "execution_count": 56,
   "id": "b7750d9b-d285-491a-a273-92461b3632df",
   "metadata": {},
   "outputs": [],
   "source": [
    "data = {\n",
    "    'A': [1, 2, 3],\n",
    "    'B': ['foo', 'bar', 'baz'],\n",
    "    'C': [True, False, True]\n",
    "}"
   ]
  },
  {
   "cell_type": "code",
   "execution_count": 57,
   "id": "7dbec69e-ab27-4dc4-9219-f83e969229ea",
   "metadata": {},
   "outputs": [],
   "source": [
    "df = pl.DataFrame(data)"
   ]
  },
  {
   "cell_type": "code",
   "execution_count": 58,
   "id": "54bfec68-0f0c-4dc8-af9f-5522fc7e16c4",
   "metadata": {},
   "outputs": [
    {
     "data": {
      "text/html": [
       "<div><style>\n",
       ".dataframe > thead > tr,\n",
       ".dataframe > tbody > tr {\n",
       "  text-align: right;\n",
       "  white-space: pre-wrap;\n",
       "}\n",
       "</style>\n",
       "<small>shape: (3, 3)</small><table border=\"1\" class=\"dataframe\"><thead><tr><th>A</th><th>B</th><th>C</th></tr><tr><td>i64</td><td>str</td><td>bool</td></tr></thead><tbody><tr><td>1</td><td>&quot;foo&quot;</td><td>true</td></tr><tr><td>2</td><td>&quot;bar&quot;</td><td>false</td></tr><tr><td>3</td><td>&quot;baz&quot;</td><td>true</td></tr></tbody></table></div>"
      ],
      "text/plain": [
       "shape: (3, 3)\n",
       "┌─────┬─────┬───────┐\n",
       "│ A   ┆ B   ┆ C     │\n",
       "│ --- ┆ --- ┆ ---   │\n",
       "│ i64 ┆ str ┆ bool  │\n",
       "╞═════╪═════╪═══════╡\n",
       "│ 1   ┆ foo ┆ true  │\n",
       "│ 2   ┆ bar ┆ false │\n",
       "│ 3   ┆ baz ┆ true  │\n",
       "└─────┴─────┴───────┘"
      ]
     },
     "execution_count": 58,
     "metadata": {},
     "output_type": "execute_result"
    }
   ],
   "source": [
    "df"
   ]
  },
  {
   "cell_type": "markdown",
   "id": "3bfa8f97-83ce-4e6d-afe9-f440592f56e3",
   "metadata": {},
   "source": [
    "Из списка кортежей"
   ]
  },
  {
   "cell_type": "code",
   "execution_count": 90,
   "id": "a72b99c5-29f7-486a-a330-397fc6d94ca3",
   "metadata": {},
   "outputs": [
    {
     "data": {
      "text/plain": [
       "[(1, 2, 3), ('foo', 'bar', 'baz'), (True, False, True)]"
      ]
     },
     "execution_count": 90,
     "metadata": {},
     "output_type": "execute_result"
    }
   ],
   "source": [
    "data = [\n",
    "    (1, 2, 3),\n",
    "    (\"foo\", 'bar', \"baz\"),\n",
    "    (True, False, True)\n",
    "]\n",
    "data"
   ]
  },
  {
   "cell_type": "code",
   "execution_count": 91,
   "id": "2dd8c9b1-9189-4e75-afb9-e0c5567df407",
   "metadata": {},
   "outputs": [],
   "source": [
    "df = pl.DataFrame(data, schema=['A', 'B', 'C'])"
   ]
  },
  {
   "cell_type": "code",
   "execution_count": 92,
   "id": "f65abe76-eea4-40cd-94ac-f13cf1a294ce",
   "metadata": {},
   "outputs": [
    {
     "data": {
      "text/html": [
       "<div><style>\n",
       ".dataframe > thead > tr,\n",
       ".dataframe > tbody > tr {\n",
       "  text-align: right;\n",
       "  white-space: pre-wrap;\n",
       "}\n",
       "</style>\n",
       "<small>shape: (3, 3)</small><table border=\"1\" class=\"dataframe\"><thead><tr><th>A</th><th>B</th><th>C</th></tr><tr><td>i64</td><td>str</td><td>bool</td></tr></thead><tbody><tr><td>1</td><td>&quot;foo&quot;</td><td>true</td></tr><tr><td>2</td><td>&quot;bar&quot;</td><td>false</td></tr><tr><td>3</td><td>&quot;baz&quot;</td><td>true</td></tr></tbody></table></div>"
      ],
      "text/plain": [
       "shape: (3, 3)\n",
       "┌─────┬─────┬───────┐\n",
       "│ A   ┆ B   ┆ C     │\n",
       "│ --- ┆ --- ┆ ---   │\n",
       "│ i64 ┆ str ┆ bool  │\n",
       "╞═════╪═════╪═══════╡\n",
       "│ 1   ┆ foo ┆ true  │\n",
       "│ 2   ┆ bar ┆ false │\n",
       "│ 3   ┆ baz ┆ true  │\n",
       "└─────┴─────┴───────┘"
      ]
     },
     "execution_count": 92,
     "metadata": {},
     "output_type": "execute_result"
    }
   ],
   "source": [
    "df"
   ]
  },
  {
   "cell_type": "markdown",
   "id": "bb1c13ff-36ae-4d0c-bd2f-33b2b1ccbd78",
   "metadata": {},
   "source": [
    "Добавление колонок в пустой датасет"
   ]
  },
  {
   "cell_type": "code",
   "execution_count": 97,
   "id": "161aad17-037c-4d94-ac50-47395bddf2f2",
   "metadata": {},
   "outputs": [
    {
     "data": {
      "text/html": [
       "<div><style>\n",
       ".dataframe > thead > tr,\n",
       ".dataframe > tbody > tr {\n",
       "  text-align: right;\n",
       "  white-space: pre-wrap;\n",
       "}\n",
       "</style>\n",
       "<small>shape: (3, 3)</small><table border=\"1\" class=\"dataframe\"><thead><tr><th>A</th><th>B</th><th>C</th></tr><tr><td>i64</td><td>str</td><td>bool</td></tr></thead><tbody><tr><td>1</td><td>&quot;foo&quot;</td><td>true</td></tr><tr><td>2</td><td>&quot;bar&quot;</td><td>false</td></tr><tr><td>3</td><td>&quot;baz&quot;</td><td>true</td></tr></tbody></table></div>"
      ],
      "text/plain": [
       "shape: (3, 3)\n",
       "┌─────┬─────┬───────┐\n",
       "│ A   ┆ B   ┆ C     │\n",
       "│ --- ┆ --- ┆ ---   │\n",
       "│ i64 ┆ str ┆ bool  │\n",
       "╞═════╪═════╪═══════╡\n",
       "│ 1   ┆ foo ┆ true  │\n",
       "│ 2   ┆ bar ┆ false │\n",
       "│ 3   ┆ baz ┆ true  │\n",
       "└─────┴─────┴───────┘"
      ]
     },
     "execution_count": 97,
     "metadata": {},
     "output_type": "execute_result"
    }
   ],
   "source": [
    "# Начинаем с пустого DataFrame\n",
    "df = pl.DataFrame()\n",
    "\n",
    "# Добавляем колонку 'A'\n",
    "df = df.with_columns(pl.Series('A', [1, 2, 3]))\n",
    "\n",
    "# Добавляем колонку 'B'\n",
    "df = df.with_columns(pl.Series('B', ['foo', 'bar', 'baz']))\n",
    "\n",
    "# Добавляем колонку 'C'\n",
    "df = df.with_columns(pl.Series('C', [True, False, True]))\n",
    "\n",
    "df"
   ]
  },
  {
   "cell_type": "markdown",
   "id": "fbbe842b-ede0-40f9-8764-d64955cbd3bf",
   "metadata": {},
   "source": [
    "### Практическое задание 0\n",
    "1. Создайте 3 списка по 5 элементов в каждом - строковый список, список целых чисел, список чисел типа float\n",
    "(например, название сборной - кол-во очков  в группе - средний XG за матч)\n",
    "Для генерации чисел воспользуйтесь функиями np.random.randint/np.random.rand\n",
    "2. Создайте 2 датасета - polars и pandas\n",
    "3. Примените метод head к обоим датасетам (выведите первые 3 строки)\n",
    "4. Примените метод dtypes к обоим датасетам\n",
    "5. Примените метод describe к обоим датасетам"
   ]
  },
  {
   "cell_type": "code",
   "execution_count": null,
   "id": "41118697-1c59-41ff-a241-295373695891",
   "metadata": {},
   "outputs": [],
   "source": []
  },
  {
   "cell_type": "markdown",
   "id": "aef6e82a-4706-47c3-8bf7-b0cd7e2c6cb1",
   "metadata": {},
   "source": [
    "### Контексты и выражения Polars"
   ]
  },
  {
   "cell_type": "markdown",
   "id": "a0b27694-017e-4e8d-8591-97dbfcb6a863",
   "metadata": {},
   "source": [
    "* Выбор\n",
    "* Фильтрация\n",
    "* Группировка/агрегация"
   ]
  },
  {
   "cell_type": "markdown",
   "id": "6d735fcb-df5f-4c3b-b6dd-a7f9da62891c",
   "metadata": {},
   "source": [
    "### Выбор и фильтрация данных в Polars"
   ]
  },
  {
   "cell_type": "code",
   "execution_count": 100,
   "id": "d82d3a7f-b7e9-4246-84ff-3f25ea92b995",
   "metadata": {},
   "outputs": [],
   "source": [
    "strings_data = [\"apple\", \"banana\", \"cherry\", \"watermelon\", \"elderberry\"]\n",
    "integers_data = np.random.randint(1, 100, size=5) \n",
    "floats_data = np.random.rand(5)"
   ]
  },
  {
   "cell_type": "code",
   "execution_count": 101,
   "id": "c803069e-9655-42d4-97a3-450c80d4dea0",
   "metadata": {},
   "outputs": [],
   "source": [
    "df_pl = pl.DataFrame({ \n",
    "    \"fruit\": strings_data, \n",
    "    \"quantity\": integers_data, \n",
    "    \"price\": floats_data \n",
    "}) \n",
    "\n",
    "df_pd = pd.DataFrame({ \n",
    "    \"fruit\": strings_data, \n",
    "    \"quantity\": integers_data, \n",
    "    \"price\": floats_data \n",
    "}) "
   ]
  },
  {
   "cell_type": "markdown",
   "id": "1dcfc5a4-7608-4455-8d5a-7ea7c3272506",
   "metadata": {},
   "source": [
    "Индексирование"
   ]
  },
  {
   "cell_type": "code",
   "execution_count": 102,
   "id": "bf52177c-9458-4f99-983e-3c5cf999bd8a",
   "metadata": {},
   "outputs": [
    {
     "data": {
      "text/html": [
       "<div><style>\n",
       ".dataframe > thead > tr,\n",
       ".dataframe > tbody > tr {\n",
       "  text-align: right;\n",
       "  white-space: pre-wrap;\n",
       "}\n",
       "</style>\n",
       "<small>shape: (1, 3)</small><table border=\"1\" class=\"dataframe\"><thead><tr><th>fruit</th><th>quantity</th><th>price</th></tr><tr><td>str</td><td>i64</td><td>f64</td></tr></thead><tbody><tr><td>&quot;apple&quot;</td><td>19</td><td>0.06752</td></tr></tbody></table></div>"
      ],
      "text/plain": [
       "shape: (1, 3)\n",
       "┌───────┬──────────┬─────────┐\n",
       "│ fruit ┆ quantity ┆ price   │\n",
       "│ ---   ┆ ---      ┆ ---     │\n",
       "│ str   ┆ i64      ┆ f64     │\n",
       "╞═══════╪══════════╪═════════╡\n",
       "│ apple ┆ 19       ┆ 0.06752 │\n",
       "└───────┴──────────┴─────────┘"
      ]
     },
     "execution_count": 102,
     "metadata": {},
     "output_type": "execute_result"
    }
   ],
   "source": [
    "df_pl[0,:]"
   ]
  },
  {
   "cell_type": "code",
   "execution_count": 106,
   "id": "c48b74ff-1b27-4b28-b348-2ac39a99a01f",
   "metadata": {},
   "outputs": [
    {
     "data": {
      "text/plain": [
       "fruit         apple\n",
       "quantity         19\n",
       "price       0.06752\n",
       "Name: 0, dtype: object"
      ]
     },
     "execution_count": 106,
     "metadata": {},
     "output_type": "execute_result"
    }
   ],
   "source": [
    "df_pd.iloc[0,:]"
   ]
  },
  {
   "cell_type": "code",
   "execution_count": 107,
   "id": "fd878e2c-6059-4451-b010-53fa09bf3665",
   "metadata": {},
   "outputs": [
    {
     "data": {
      "text/html": [
       "<div><style>\n",
       ".dataframe > thead > tr,\n",
       ".dataframe > tbody > tr {\n",
       "  text-align: right;\n",
       "  white-space: pre-wrap;\n",
       "}\n",
       "</style>\n",
       "<small>shape: (5, 2)</small><table border=\"1\" class=\"dataframe\"><thead><tr><th>fruit</th><th>price</th></tr><tr><td>str</td><td>f64</td></tr></thead><tbody><tr><td>&quot;apple&quot;</td><td>0.06752</td></tr><tr><td>&quot;banana&quot;</td><td>0.365996</td></tr><tr><td>&quot;cherry&quot;</td><td>0.333248</td></tr><tr><td>&quot;watermelon&quot;</td><td>0.320118</td></tr><tr><td>&quot;elderberry&quot;</td><td>0.038571</td></tr></tbody></table></div>"
      ],
      "text/plain": [
       "shape: (5, 2)\n",
       "┌────────────┬──────────┐\n",
       "│ fruit      ┆ price    │\n",
       "│ ---        ┆ ---      │\n",
       "│ str        ┆ f64      │\n",
       "╞════════════╪══════════╡\n",
       "│ apple      ┆ 0.06752  │\n",
       "│ banana     ┆ 0.365996 │\n",
       "│ cherry     ┆ 0.333248 │\n",
       "│ watermelon ┆ 0.320118 │\n",
       "│ elderberry ┆ 0.038571 │\n",
       "└────────────┴──────────┘"
      ]
     },
     "execution_count": 107,
     "metadata": {},
     "output_type": "execute_result"
    }
   ],
   "source": [
    "df_pl[:,['fruit', \"price\"]]"
   ]
  },
  {
   "cell_type": "code",
   "execution_count": 113,
   "id": "2dcffa15-f6e9-46f2-8655-e847e1af8a56",
   "metadata": {},
   "outputs": [
    {
     "data": {
      "text/html": [
       "<div>\n",
       "<style scoped>\n",
       "    .dataframe tbody tr th:only-of-type {\n",
       "        vertical-align: middle;\n",
       "    }\n",
       "\n",
       "    .dataframe tbody tr th {\n",
       "        vertical-align: top;\n",
       "    }\n",
       "\n",
       "    .dataframe thead th {\n",
       "        text-align: right;\n",
       "    }\n",
       "</style>\n",
       "<table border=\"1\" class=\"dataframe\">\n",
       "  <thead>\n",
       "    <tr style=\"text-align: right;\">\n",
       "      <th></th>\n",
       "      <th>fruit</th>\n",
       "      <th>price</th>\n",
       "    </tr>\n",
       "  </thead>\n",
       "  <tbody>\n",
       "    <tr>\n",
       "      <th>0</th>\n",
       "      <td>apple</td>\n",
       "      <td>0.067520</td>\n",
       "    </tr>\n",
       "    <tr>\n",
       "      <th>1</th>\n",
       "      <td>banana</td>\n",
       "      <td>0.365996</td>\n",
       "    </tr>\n",
       "    <tr>\n",
       "      <th>2</th>\n",
       "      <td>cherry</td>\n",
       "      <td>0.333248</td>\n",
       "    </tr>\n",
       "    <tr>\n",
       "      <th>3</th>\n",
       "      <td>watermelon</td>\n",
       "      <td>0.320118</td>\n",
       "    </tr>\n",
       "    <tr>\n",
       "      <th>4</th>\n",
       "      <td>elderberry</td>\n",
       "      <td>0.038571</td>\n",
       "    </tr>\n",
       "  </tbody>\n",
       "</table>\n",
       "</div>"
      ],
      "text/plain": [
       "        fruit     price\n",
       "0       apple  0.067520\n",
       "1      banana  0.365996\n",
       "2      cherry  0.333248\n",
       "3  watermelon  0.320118\n",
       "4  elderberry  0.038571"
      ]
     },
     "execution_count": 113,
     "metadata": {},
     "output_type": "execute_result"
    }
   ],
   "source": [
    "df_pd.loc[:, ['fruit', \"price\"]]"
   ]
  },
  {
   "cell_type": "markdown",
   "id": "42caab73-b410-4223-8c7a-06146412bab5",
   "metadata": {},
   "source": [
    "Фильтрация строк"
   ]
  },
  {
   "cell_type": "code",
   "execution_count": 117,
   "id": "204f6047-2486-4b63-a5e7-e44b6ad65302",
   "metadata": {},
   "outputs": [
    {
     "data": {
      "text/html": [
       "<div><style>\n",
       ".dataframe > thead > tr,\n",
       ".dataframe > tbody > tr {\n",
       "  text-align: right;\n",
       "  white-space: pre-wrap;\n",
       "}\n",
       "</style>\n",
       "<small>shape: (1, 3)</small><table border=\"1\" class=\"dataframe\"><thead><tr><th>fruit</th><th>quantity</th><th>price</th></tr><tr><td>str</td><td>i64</td><td>f64</td></tr></thead><tbody><tr><td>&quot;banana&quot;</td><td>82</td><td>0.365996</td></tr></tbody></table></div>"
      ],
      "text/plain": [
       "shape: (1, 3)\n",
       "┌────────┬──────────┬──────────┐\n",
       "│ fruit  ┆ quantity ┆ price    │\n",
       "│ ---    ┆ ---      ┆ ---      │\n",
       "│ str    ┆ i64      ┆ f64      │\n",
       "╞════════╪══════════╪══════════╡\n",
       "│ banana ┆ 82       ┆ 0.365996 │\n",
       "└────────┴──────────┴──────────┘"
      ]
     },
     "execution_count": 117,
     "metadata": {},
     "output_type": "execute_result"
    }
   ],
   "source": [
    "df_pl.filter(\n",
    "    pl.col(\"price\") > 0.35\n",
    ")"
   ]
  },
  {
   "cell_type": "code",
   "execution_count": 118,
   "id": "26c3dbef-ec72-42cf-8f4d-5c2b04837b91",
   "metadata": {},
   "outputs": [
    {
     "data": {
      "text/html": [
       "<div>\n",
       "<style scoped>\n",
       "    .dataframe tbody tr th:only-of-type {\n",
       "        vertical-align: middle;\n",
       "    }\n",
       "\n",
       "    .dataframe tbody tr th {\n",
       "        vertical-align: top;\n",
       "    }\n",
       "\n",
       "    .dataframe thead th {\n",
       "        text-align: right;\n",
       "    }\n",
       "</style>\n",
       "<table border=\"1\" class=\"dataframe\">\n",
       "  <thead>\n",
       "    <tr style=\"text-align: right;\">\n",
       "      <th></th>\n",
       "      <th>fruit</th>\n",
       "      <th>quantity</th>\n",
       "      <th>price</th>\n",
       "    </tr>\n",
       "  </thead>\n",
       "  <tbody>\n",
       "    <tr>\n",
       "      <th>1</th>\n",
       "      <td>banana</td>\n",
       "      <td>82</td>\n",
       "      <td>0.365996</td>\n",
       "    </tr>\n",
       "  </tbody>\n",
       "</table>\n",
       "</div>"
      ],
      "text/plain": [
       "    fruit  quantity     price\n",
       "1  banana        82  0.365996"
      ]
     },
     "execution_count": 118,
     "metadata": {},
     "output_type": "execute_result"
    }
   ],
   "source": [
    "df_pd[\n",
    "    df_pd['price'] > 0.35\n",
    "]"
   ]
  },
  {
   "cell_type": "code",
   "execution_count": 119,
   "id": "d7f26acc-aa8c-4576-b9f0-feb9be656ab4",
   "metadata": {},
   "outputs": [
    {
     "data": {
      "text/html": [
       "<div><style>\n",
       ".dataframe > thead > tr,\n",
       ".dataframe > tbody > tr {\n",
       "  text-align: right;\n",
       "  white-space: pre-wrap;\n",
       "}\n",
       "</style>\n",
       "<small>shape: (5, 2)</small><table border=\"1\" class=\"dataframe\"><thead><tr><th>fruit</th><th>price</th></tr><tr><td>str</td><td>f64</td></tr></thead><tbody><tr><td>&quot;apple&quot;</td><td>0.06752</td></tr><tr><td>&quot;banana&quot;</td><td>0.365996</td></tr><tr><td>&quot;cherry&quot;</td><td>0.333248</td></tr><tr><td>&quot;watermelon&quot;</td><td>0.320118</td></tr><tr><td>&quot;elderberry&quot;</td><td>0.038571</td></tr></tbody></table></div>"
      ],
      "text/plain": [
       "shape: (5, 2)\n",
       "┌────────────┬──────────┐\n",
       "│ fruit      ┆ price    │\n",
       "│ ---        ┆ ---      │\n",
       "│ str        ┆ f64      │\n",
       "╞════════════╪══════════╡\n",
       "│ apple      ┆ 0.06752  │\n",
       "│ banana     ┆ 0.365996 │\n",
       "│ cherry     ┆ 0.333248 │\n",
       "│ watermelon ┆ 0.320118 │\n",
       "│ elderberry ┆ 0.038571 │\n",
       "└────────────┴──────────┘"
      ]
     },
     "execution_count": 119,
     "metadata": {},
     "output_type": "execute_result"
    }
   ],
   "source": [
    "df_pl.select(['fruit', 'price'])"
   ]
  },
  {
   "cell_type": "markdown",
   "id": "ae87a299-7a2b-421d-ab49-1fe5e34b3afb",
   "metadata": {},
   "source": [
    "Метод with_columns"
   ]
  },
  {
   "cell_type": "code",
   "execution_count": 121,
   "id": "9aa6c254-b8f4-4479-b435-24026b102291",
   "metadata": {},
   "outputs": [
    {
     "data": {
      "text/html": [
       "<div><style>\n",
       ".dataframe > thead > tr,\n",
       ".dataframe > tbody > tr {\n",
       "  text-align: right;\n",
       "  white-space: pre-wrap;\n",
       "}\n",
       "</style>\n",
       "<small>shape: (5, 3)</small><table border=\"1\" class=\"dataframe\"><thead><tr><th>fruit</th><th>quantity</th><th>price</th></tr><tr><td>str</td><td>i64</td><td>f64</td></tr></thead><tbody><tr><td>&quot;apple&quot;</td><td>19</td><td>0.06752</td></tr><tr><td>&quot;banana&quot;</td><td>82</td><td>0.365996</td></tr><tr><td>&quot;cherry&quot;</td><td>14</td><td>0.333248</td></tr><tr><td>&quot;watermelon&quot;</td><td>9</td><td>0.320118</td></tr><tr><td>&quot;elderberry&quot;</td><td>47</td><td>0.038571</td></tr></tbody></table></div>"
      ],
      "text/plain": [
       "shape: (5, 3)\n",
       "┌────────────┬──────────┬──────────┐\n",
       "│ fruit      ┆ quantity ┆ price    │\n",
       "│ ---        ┆ ---      ┆ ---      │\n",
       "│ str        ┆ i64      ┆ f64      │\n",
       "╞════════════╪══════════╪══════════╡\n",
       "│ apple      ┆ 19       ┆ 0.06752  │\n",
       "│ banana     ┆ 82       ┆ 0.365996 │\n",
       "│ cherry     ┆ 14       ┆ 0.333248 │\n",
       "│ watermelon ┆ 9        ┆ 0.320118 │\n",
       "│ elderberry ┆ 47       ┆ 0.038571 │\n",
       "└────────────┴──────────┴──────────┘"
      ]
     },
     "execution_count": 121,
     "metadata": {},
     "output_type": "execute_result"
    }
   ],
   "source": [
    "df_pl"
   ]
  },
  {
   "cell_type": "code",
   "execution_count": 120,
   "id": "33e5f4ad-e582-4088-8916-8a23ec2f3937",
   "metadata": {},
   "outputs": [
    {
     "data": {
      "text/html": [
       "<div><style>\n",
       ".dataframe > thead > tr,\n",
       ".dataframe > tbody > tr {\n",
       "  text-align: right;\n",
       "  white-space: pre-wrap;\n",
       "}\n",
       "</style>\n",
       "<small>shape: (5, 4)</small><table border=\"1\" class=\"dataframe\"><thead><tr><th>fruit</th><th>quantity</th><th>price</th><th>total</th></tr><tr><td>str</td><td>i64</td><td>f64</td><td>f64</td></tr></thead><tbody><tr><td>&quot;apple&quot;</td><td>19</td><td>0.06752</td><td>1.282876</td></tr><tr><td>&quot;banana&quot;</td><td>82</td><td>0.365996</td><td>30.011667</td></tr><tr><td>&quot;cherry&quot;</td><td>14</td><td>0.333248</td><td>4.66547</td></tr><tr><td>&quot;watermelon&quot;</td><td>9</td><td>0.320118</td><td>2.881066</td></tr><tr><td>&quot;elderberry&quot;</td><td>47</td><td>0.038571</td><td>1.812823</td></tr></tbody></table></div>"
      ],
      "text/plain": [
       "shape: (5, 4)\n",
       "┌────────────┬──────────┬──────────┬───────────┐\n",
       "│ fruit      ┆ quantity ┆ price    ┆ total     │\n",
       "│ ---        ┆ ---      ┆ ---      ┆ ---       │\n",
       "│ str        ┆ i64      ┆ f64      ┆ f64       │\n",
       "╞════════════╪══════════╪══════════╪═══════════╡\n",
       "│ apple      ┆ 19       ┆ 0.06752  ┆ 1.282876  │\n",
       "│ banana     ┆ 82       ┆ 0.365996 ┆ 30.011667 │\n",
       "│ cherry     ┆ 14       ┆ 0.333248 ┆ 4.66547   │\n",
       "│ watermelon ┆ 9        ┆ 0.320118 ┆ 2.881066  │\n",
       "│ elderberry ┆ 47       ┆ 0.038571 ┆ 1.812823  │\n",
       "└────────────┴──────────┴──────────┴───────────┘"
      ]
     },
     "execution_count": 120,
     "metadata": {},
     "output_type": "execute_result"
    }
   ],
   "source": [
    "df_pl.with_columns([\n",
    "    (pl.col(\"price\") * pl.col(\"quantity\")).alias(\"total\")\n",
    "])\n"
   ]
  },
  {
   "cell_type": "markdown",
   "id": "edfdb043-f008-4914-a18d-9daf6394e799",
   "metadata": {},
   "source": [
    "### Практическое задание 1\n",
    "1. Импортируйте датасет из файла tips.csv в polars dataset\n",
    "2. Оставьте только те строки, где столик был обслужен в субботу или воскресенье (воспользуйтесь методом isin([])). Добавьте условие для фильтра - фильтр на чаевые по перцентилю в 10% (берем все, что выше)\n",
    "3. Добавьте новую колонку - % оставленных чаевых"
   ]
  },
  {
   "cell_type": "code",
   "execution_count": null,
   "id": "7bfdaa6e-93f9-4fff-888b-5fb69d0b32d3",
   "metadata": {},
   "outputs": [],
   "source": []
  },
  {
   "cell_type": "markdown",
   "id": "d417281c-7ef5-495f-81f6-7cdec5d2d153",
   "metadata": {},
   "source": [
    "### Практическое задание 2\n",
    "1. Загрузите набор данных титаника.\n",
    "2. Выберите только столбцы класс, пол, возраст.\n",
    "3. Выберите пассажиров, путешествовавших в первом классе и заплативших более 100 фунтов за билет. (4.86 - примерный курс)\n",
    "4. Добавьте столбец “стоимость билета в доллрах”.\n",
    "5. Выберите выживших пассажиров женского пола моложе 18 лет.\n",
    "6. Добавьте столбец “количество родственников на борту”.\n",
    "7. Выберите пассажиров, выживших с братьями или сестрами, илии супругами.\n"
   ]
  },
  {
   "cell_type": "code",
   "execution_count": null,
   "id": "4ea220de-c2d2-4e13-955d-522657dd2e5a",
   "metadata": {},
   "outputs": [],
   "source": []
  },
  {
   "cell_type": "markdown",
   "id": "f96c653d-a7aa-4bae-99eb-f1acce0e3d4e",
   "metadata": {},
   "source": [
    "### Практическое задание 3\n",
    "1. Создайте массив чисел методом rand на 500 000 000 чисел\n",
    "2. Запишите массив в 2 датасета - pandas и polars\n",
    "3. Сосчитайте среднее колонки в pandas и в polars. Используйте функцию time.time() для оценки времени"
   ]
  },
  {
   "cell_type": "code",
   "execution_count": null,
   "id": "73e4dfde-f319-4fa2-a323-af6d99284737",
   "metadata": {},
   "outputs": [],
   "source": []
  }
 ],
 "metadata": {
  "kernelspec": {
   "display_name": "Python 3 (ipykernel)",
   "language": "python",
   "name": "python3"
  },
  "language_info": {
   "codemirror_mode": {
    "name": "ipython",
    "version": 3
   },
   "file_extension": ".py",
   "mimetype": "text/x-python",
   "name": "python",
   "nbconvert_exporter": "python",
   "pygments_lexer": "ipython3",
   "version": "3.12.4"
  }
 },
 "nbformat": 4,
 "nbformat_minor": 5
}
