{
 "cells": [
  {
   "cell_type": "code",
   "execution_count": 39,
   "id": "9609fc9f-75c9-4d26-9636-29a81f4cea2e",
   "metadata": {},
   "outputs": [],
   "source": [
    "import polars as pl\n",
    "import pandas as pd\n",
    "import numpy as np"
   ]
  },
  {
   "cell_type": "markdown",
   "id": "986565ae-1274-4976-a692-a2813a94bac1",
   "metadata": {},
   "source": [
    "### Импорт данных "
   ]
  },
  {
   "cell_type": "code",
   "execution_count": 96,
   "id": "ec0e13a9-6ffc-4a56-9b2b-73782a99186a",
   "metadata": {},
   "outputs": [],
   "source": [
    "df = pl.read_csv('books_data.csv', null_values='NaN')"
   ]
  },
  {
   "cell_type": "code",
   "execution_count": 97,
   "id": "15b682a3-6ce1-4bfa-9ef5-9dbb33182a93",
   "metadata": {},
   "outputs": [
    {
     "data": {
      "text/html": [
       "<div><style>\n",
       ".dataframe > thead > tr,\n",
       ".dataframe > tbody > tr {\n",
       "  text-align: right;\n",
       "  white-space: pre-wrap;\n",
       "}\n",
       "</style>\n",
       "<small>shape: (5, 3)</small><table border=\"1\" class=\"dataframe\"><thead><tr><th>price</th><th>year</th><th>type</th></tr><tr><td>f64</td><td>f64</td><td>str</td></tr></thead><tbody><tr><td>707.529256</td><td>2018.0</td><td>&quot;encyclopedia&quot;</td></tr><tr><td>1025.203348</td><td>1992.0</td><td>&quot;textbook&quot;</td></tr><tr><td>568.548657</td><td>1990.0</td><td>&quot;encyclopedia&quot;</td></tr><tr><td>895.109864</td><td>1995.0</td><td>&quot;newspaper&quot;</td></tr><tr><td>206.532754</td><td>1986.0</td><td>&quot;book&quot;</td></tr></tbody></table></div>"
      ],
      "text/plain": [
       "shape: (5, 3)\n",
       "┌─────────────┬────────┬──────────────┐\n",
       "│ price       ┆ year   ┆ type         │\n",
       "│ ---         ┆ ---    ┆ ---          │\n",
       "│ f64         ┆ f64    ┆ str          │\n",
       "╞═════════════╪════════╪══════════════╡\n",
       "│ 707.529256  ┆ 2018.0 ┆ encyclopedia │\n",
       "│ 1025.203348 ┆ 1992.0 ┆ textbook     │\n",
       "│ 568.548657  ┆ 1990.0 ┆ encyclopedia │\n",
       "│ 895.109864  ┆ 1995.0 ┆ newspaper    │\n",
       "│ 206.532754  ┆ 1986.0 ┆ book         │\n",
       "└─────────────┴────────┴──────────────┘"
      ]
     },
     "execution_count": 97,
     "metadata": {},
     "output_type": "execute_result"
    }
   ],
   "source": [
    "df.head()"
   ]
  },
  {
   "cell_type": "code",
   "execution_count": 98,
   "id": "27c73af0-4591-4545-98dc-55fc5f942600",
   "metadata": {},
   "outputs": [
    {
     "data": {
      "text/html": [
       "<div><style>\n",
       ".dataframe > thead > tr,\n",
       ".dataframe > tbody > tr {\n",
       "  text-align: right;\n",
       "  white-space: pre-wrap;\n",
       "}\n",
       "</style>\n",
       "<small>shape: (9, 4)</small><table border=\"1\" class=\"dataframe\"><thead><tr><th>statistic</th><th>price</th><th>year</th><th>type</th></tr><tr><td>str</td><td>f64</td><td>f64</td><td>str</td></tr></thead><tbody><tr><td>&quot;count&quot;</td><td>50000.0</td><td>48749.0</td><td>&quot;50000&quot;</td></tr><tr><td>&quot;null_count&quot;</td><td>0.0</td><td>1251.0</td><td>&quot;0&quot;</td></tr><tr><td>&quot;mean&quot;</td><td>1003.51169</td><td>2004.470553</td><td>null</td></tr><tr><td>&quot;std&quot;</td><td>1000.386795</td><td>11.52278</td><td>null</td></tr><tr><td>&quot;min&quot;</td><td>0.007358</td><td>1985.0</td><td>&quot;book&quot;</td></tr><tr><td>&quot;25%&quot;</td><td>292.38947</td><td>1994.0</td><td>null</td></tr><tr><td>&quot;50%&quot;</td><td>697.459594</td><td>2004.0</td><td>null</td></tr><tr><td>&quot;75%&quot;</td><td>1392.214487</td><td>2014.0</td><td>null</td></tr><tr><td>&quot;max&quot;</td><td>9777.052347</td><td>2024.0</td><td>&quot;textbook&quot;</td></tr></tbody></table></div>"
      ],
      "text/plain": [
       "shape: (9, 4)\n",
       "┌────────────┬─────────────┬─────────────┬──────────┐\n",
       "│ statistic  ┆ price       ┆ year        ┆ type     │\n",
       "│ ---        ┆ ---         ┆ ---         ┆ ---      │\n",
       "│ str        ┆ f64         ┆ f64         ┆ str      │\n",
       "╞════════════╪═════════════╪═════════════╪══════════╡\n",
       "│ count      ┆ 50000.0     ┆ 48749.0     ┆ 50000    │\n",
       "│ null_count ┆ 0.0         ┆ 1251.0      ┆ 0        │\n",
       "│ mean       ┆ 1003.51169  ┆ 2004.470553 ┆ null     │\n",
       "│ std        ┆ 1000.386795 ┆ 11.52278    ┆ null     │\n",
       "│ min        ┆ 0.007358    ┆ 1985.0      ┆ book     │\n",
       "│ 25%        ┆ 292.38947   ┆ 1994.0      ┆ null     │\n",
       "│ 50%        ┆ 697.459594  ┆ 2004.0      ┆ null     │\n",
       "│ 75%        ┆ 1392.214487 ┆ 2014.0      ┆ null     │\n",
       "│ max        ┆ 9777.052347 ┆ 2024.0      ┆ textbook │\n",
       "└────────────┴─────────────┴─────────────┴──────────┘"
      ]
     },
     "execution_count": 98,
     "metadata": {},
     "output_type": "execute_result"
    }
   ],
   "source": [
    "df.describe()"
   ]
  },
  {
   "cell_type": "markdown",
   "id": "2455d968-95e9-46f0-9ee8-a8d785163085",
   "metadata": {},
   "source": [
    "### Обработка пропусков"
   ]
  },
  {
   "cell_type": "markdown",
   "id": "55769b2b-1b38-4a6a-9dbc-47ef49d72476",
   "metadata": {},
   "source": [
    "Поиск пропусков"
   ]
  },
  {
   "cell_type": "code",
   "execution_count": 99,
   "id": "eaa84e0a-37c1-4ee3-8963-0ab3d6695aaf",
   "metadata": {},
   "outputs": [
    {
     "data": {
      "text/html": [
       "<div><style>\n",
       ".dataframe > thead > tr,\n",
       ".dataframe > tbody > tr {\n",
       "  text-align: right;\n",
       "  white-space: pre-wrap;\n",
       "}\n",
       "</style>\n",
       "<small>shape: (1_251, 3)</small><table border=\"1\" class=\"dataframe\"><thead><tr><th>price</th><th>year</th><th>type</th></tr><tr><td>f64</td><td>f64</td><td>str</td></tr></thead><tbody><tr><td>1014.258665</td><td>null</td><td>&quot;newspaper&quot;</td></tr><tr><td>678.945008</td><td>null</td><td>&quot;book&quot;</td></tr><tr><td>5849.487399</td><td>null</td><td>&quot;magazine&quot;</td></tr><tr><td>605.61386</td><td>null</td><td>&quot;magazine&quot;</td></tr><tr><td>593.015503</td><td>null</td><td>&quot;book&quot;</td></tr><tr><td>&hellip;</td><td>&hellip;</td><td>&hellip;</td></tr><tr><td>188.127493</td><td>null</td><td>&quot;magazine&quot;</td></tr><tr><td>369.470472</td><td>null</td><td>&quot;textbook&quot;</td></tr><tr><td>185.065901</td><td>null</td><td>&quot;textbook&quot;</td></tr><tr><td>587.764403</td><td>null</td><td>&quot;magazine&quot;</td></tr><tr><td>861.982875</td><td>null</td><td>&quot;newspaper&quot;</td></tr></tbody></table></div>"
      ],
      "text/plain": [
       "shape: (1_251, 3)\n",
       "┌─────────────┬──────┬───────────┐\n",
       "│ price       ┆ year ┆ type      │\n",
       "│ ---         ┆ ---  ┆ ---       │\n",
       "│ f64         ┆ f64  ┆ str       │\n",
       "╞═════════════╪══════╪═══════════╡\n",
       "│ 1014.258665 ┆ null ┆ newspaper │\n",
       "│ 678.945008  ┆ null ┆ book      │\n",
       "│ 5849.487399 ┆ null ┆ magazine  │\n",
       "│ 605.61386   ┆ null ┆ magazine  │\n",
       "│ 593.015503  ┆ null ┆ book      │\n",
       "│ …           ┆ …    ┆ …         │\n",
       "│ 188.127493  ┆ null ┆ magazine  │\n",
       "│ 369.470472  ┆ null ┆ textbook  │\n",
       "│ 185.065901  ┆ null ┆ textbook  │\n",
       "│ 587.764403  ┆ null ┆ magazine  │\n",
       "│ 861.982875  ┆ null ┆ newspaper │\n",
       "└─────────────┴──────┴───────────┘"
      ]
     },
     "execution_count": 99,
     "metadata": {},
     "output_type": "execute_result"
    }
   ],
   "source": [
    "df.filter(\n",
    "    pl.col(\"year\").is_null()\n",
    ")"
   ]
  },
  {
   "cell_type": "markdown",
   "id": "7c27a04c-e82e-44d9-8c37-e902f8228cf8",
   "metadata": {},
   "source": [
    "Удаление пропусков"
   ]
  },
  {
   "cell_type": "code",
   "execution_count": 100,
   "id": "d6e4c6b3-2794-4243-8753-b2a3e5c1fa71",
   "metadata": {},
   "outputs": [
    {
     "data": {
      "text/html": [
       "<div><style>\n",
       ".dataframe > thead > tr,\n",
       ".dataframe > tbody > tr {\n",
       "  text-align: right;\n",
       "  white-space: pre-wrap;\n",
       "}\n",
       "</style>\n",
       "<small>shape: (10, 3)</small><table border=\"1\" class=\"dataframe\"><thead><tr><th>price</th><th>year</th><th>type</th></tr><tr><td>f64</td><td>f64</td><td>str</td></tr></thead><tbody><tr><td>293.278763</td><td>2001.0</td><td>&quot;newspaper&quot;</td></tr><tr><td>1014.258665</td><td>null</td><td>&quot;newspaper&quot;</td></tr><tr><td>634.730379</td><td>1999.0</td><td>&quot;magazine&quot;</td></tr><tr><td>1396.577859</td><td>2021.0</td><td>&quot;book&quot;</td></tr><tr><td>8.300632</td><td>2007.0</td><td>&quot;newspaper&quot;</td></tr><tr><td>903.830641</td><td>2021.0</td><td>&quot;book&quot;</td></tr><tr><td>250.345347</td><td>1997.0</td><td>&quot;newspaper&quot;</td></tr><tr><td>355.627803</td><td>1997.0</td><td>&quot;encyclopedia&quot;</td></tr><tr><td>3074.857296</td><td>1987.0</td><td>&quot;magazine&quot;</td></tr><tr><td>1404.422293</td><td>1993.0</td><td>&quot;encyclopedia&quot;</td></tr></tbody></table></div>"
      ],
      "text/plain": [
       "shape: (10, 3)\n",
       "┌─────────────┬────────┬──────────────┐\n",
       "│ price       ┆ year   ┆ type         │\n",
       "│ ---         ┆ ---    ┆ ---          │\n",
       "│ f64         ┆ f64    ┆ str          │\n",
       "╞═════════════╪════════╪══════════════╡\n",
       "│ 293.278763  ┆ 2001.0 ┆ newspaper    │\n",
       "│ 1014.258665 ┆ null   ┆ newspaper    │\n",
       "│ 634.730379  ┆ 1999.0 ┆ magazine     │\n",
       "│ 1396.577859 ┆ 2021.0 ┆ book         │\n",
       "│ 8.300632    ┆ 2007.0 ┆ newspaper    │\n",
       "│ 903.830641  ┆ 2021.0 ┆ book         │\n",
       "│ 250.345347  ┆ 1997.0 ┆ newspaper    │\n",
       "│ 355.627803  ┆ 1997.0 ┆ encyclopedia │\n",
       "│ 3074.857296 ┆ 1987.0 ┆ magazine     │\n",
       "│ 1404.422293 ┆ 1993.0 ┆ encyclopedia │\n",
       "└─────────────┴────────┴──────────────┘"
      ]
     },
     "execution_count": 100,
     "metadata": {},
     "output_type": "execute_result"
    }
   ],
   "source": [
    "df[30:40,:]"
   ]
  },
  {
   "cell_type": "code",
   "execution_count": 101,
   "id": "69f56219-4e03-440f-985a-741e07318501",
   "metadata": {},
   "outputs": [
    {
     "data": {
      "text/html": [
       "<div><style>\n",
       ".dataframe > thead > tr,\n",
       ".dataframe > tbody > tr {\n",
       "  text-align: right;\n",
       "  white-space: pre-wrap;\n",
       "}\n",
       "</style>\n",
       "<small>shape: (48_749, 3)</small><table border=\"1\" class=\"dataframe\"><thead><tr><th>price</th><th>year</th><th>type</th></tr><tr><td>f64</td><td>f64</td><td>str</td></tr></thead><tbody><tr><td>707.529256</td><td>2018.0</td><td>&quot;encyclopedia&quot;</td></tr><tr><td>1025.203348</td><td>1992.0</td><td>&quot;textbook&quot;</td></tr><tr><td>568.548657</td><td>1990.0</td><td>&quot;encyclopedia&quot;</td></tr><tr><td>895.109864</td><td>1995.0</td><td>&quot;newspaper&quot;</td></tr><tr><td>206.532754</td><td>1986.0</td><td>&quot;book&quot;</td></tr><tr><td>&hellip;</td><td>&hellip;</td><td>&hellip;</td></tr><tr><td>1528.844126</td><td>2008.0</td><td>&quot;magazine&quot;</td></tr><tr><td>813.274714</td><td>2022.0</td><td>&quot;newspaper&quot;</td></tr><tr><td>1145.045726</td><td>1986.0</td><td>&quot;textbook&quot;</td></tr><tr><td>475.132386</td><td>2006.0</td><td>&quot;encyclopedia&quot;</td></tr><tr><td>121.605306</td><td>2021.0</td><td>&quot;book&quot;</td></tr></tbody></table></div>"
      ],
      "text/plain": [
       "shape: (48_749, 3)\n",
       "┌─────────────┬────────┬──────────────┐\n",
       "│ price       ┆ year   ┆ type         │\n",
       "│ ---         ┆ ---    ┆ ---          │\n",
       "│ f64         ┆ f64    ┆ str          │\n",
       "╞═════════════╪════════╪══════════════╡\n",
       "│ 707.529256  ┆ 2018.0 ┆ encyclopedia │\n",
       "│ 1025.203348 ┆ 1992.0 ┆ textbook     │\n",
       "│ 568.548657  ┆ 1990.0 ┆ encyclopedia │\n",
       "│ 895.109864  ┆ 1995.0 ┆ newspaper    │\n",
       "│ 206.532754  ┆ 1986.0 ┆ book         │\n",
       "│ …           ┆ …      ┆ …            │\n",
       "│ 1528.844126 ┆ 2008.0 ┆ magazine     │\n",
       "│ 813.274714  ┆ 2022.0 ┆ newspaper    │\n",
       "│ 1145.045726 ┆ 1986.0 ┆ textbook     │\n",
       "│ 475.132386  ┆ 2006.0 ┆ encyclopedia │\n",
       "│ 121.605306  ┆ 2021.0 ┆ book         │\n",
       "└─────────────┴────────┴──────────────┘"
      ]
     },
     "execution_count": 101,
     "metadata": {},
     "output_type": "execute_result"
    }
   ],
   "source": [
    "df.drop_nulls()"
   ]
  },
  {
   "cell_type": "markdown",
   "id": "a704a83b-6970-490a-ab44-79974ba5e353",
   "metadata": {},
   "source": [
    "Заполнение пропущенных данных"
   ]
  },
  {
   "cell_type": "code",
   "execution_count": 102,
   "id": "9de07889-bdb6-4d3a-b6bb-c6184fb079b0",
   "metadata": {},
   "outputs": [
    {
     "data": {
      "text/html": [
       "<div><style>\n",
       ".dataframe > thead > tr,\n",
       ".dataframe > tbody > tr {\n",
       "  text-align: right;\n",
       "  white-space: pre-wrap;\n",
       "}\n",
       "</style>\n",
       "<small>shape: (50_000, 3)</small><table border=\"1\" class=\"dataframe\"><thead><tr><th>price</th><th>year</th><th>type</th></tr><tr><td>f64</td><td>f64</td><td>str</td></tr></thead><tbody><tr><td>707.529256</td><td>2018.0</td><td>&quot;encyclopedia&quot;</td></tr><tr><td>1025.203348</td><td>1992.0</td><td>&quot;textbook&quot;</td></tr><tr><td>568.548657</td><td>1990.0</td><td>&quot;encyclopedia&quot;</td></tr><tr><td>895.109864</td><td>1995.0</td><td>&quot;newspaper&quot;</td></tr><tr><td>206.532754</td><td>1986.0</td><td>&quot;book&quot;</td></tr><tr><td>&hellip;</td><td>&hellip;</td><td>&hellip;</td></tr><tr><td>1528.844126</td><td>2008.0</td><td>&quot;magazine&quot;</td></tr><tr><td>813.274714</td><td>2022.0</td><td>&quot;newspaper&quot;</td></tr><tr><td>1145.045726</td><td>1986.0</td><td>&quot;textbook&quot;</td></tr><tr><td>475.132386</td><td>2006.0</td><td>&quot;encyclopedia&quot;</td></tr><tr><td>121.605306</td><td>2021.0</td><td>&quot;book&quot;</td></tr></tbody></table></div>"
      ],
      "text/plain": [
       "shape: (50_000, 3)\n",
       "┌─────────────┬────────┬──────────────┐\n",
       "│ price       ┆ year   ┆ type         │\n",
       "│ ---         ┆ ---    ┆ ---          │\n",
       "│ f64         ┆ f64    ┆ str          │\n",
       "╞═════════════╪════════╪══════════════╡\n",
       "│ 707.529256  ┆ 2018.0 ┆ encyclopedia │\n",
       "│ 1025.203348 ┆ 1992.0 ┆ textbook     │\n",
       "│ 568.548657  ┆ 1990.0 ┆ encyclopedia │\n",
       "│ 895.109864  ┆ 1995.0 ┆ newspaper    │\n",
       "│ 206.532754  ┆ 1986.0 ┆ book         │\n",
       "│ …           ┆ …      ┆ …            │\n",
       "│ 1528.844126 ┆ 2008.0 ┆ magazine     │\n",
       "│ 813.274714  ┆ 2022.0 ┆ newspaper    │\n",
       "│ 1145.045726 ┆ 1986.0 ┆ textbook     │\n",
       "│ 475.132386  ┆ 2006.0 ┆ encyclopedia │\n",
       "│ 121.605306  ┆ 2021.0 ┆ book         │\n",
       "└─────────────┴────────┴──────────────┘"
      ]
     },
     "execution_count": 102,
     "metadata": {},
     "output_type": "execute_result"
    }
   ],
   "source": [
    "df.fill_null(0)"
   ]
  },
  {
   "cell_type": "code",
   "execution_count": 103,
   "id": "8feda0d0-92a1-43e2-a7ab-fd10963b2aae",
   "metadata": {},
   "outputs": [
    {
     "data": {
      "text/html": [
       "<div><style>\n",
       ".dataframe > thead > tr,\n",
       ".dataframe > tbody > tr {\n",
       "  text-align: right;\n",
       "  white-space: pre-wrap;\n",
       "}\n",
       "</style>\n",
       "<small>shape: (10, 3)</small><table border=\"1\" class=\"dataframe\"><thead><tr><th>price</th><th>year</th><th>type</th></tr><tr><td>f64</td><td>f64</td><td>str</td></tr></thead><tbody><tr><td>293.278763</td><td>2001.0</td><td>&quot;newspaper&quot;</td></tr><tr><td>1014.258665</td><td>0.0</td><td>&quot;newspaper&quot;</td></tr><tr><td>634.730379</td><td>1999.0</td><td>&quot;magazine&quot;</td></tr><tr><td>1396.577859</td><td>2021.0</td><td>&quot;book&quot;</td></tr><tr><td>8.300632</td><td>2007.0</td><td>&quot;newspaper&quot;</td></tr><tr><td>903.830641</td><td>2021.0</td><td>&quot;book&quot;</td></tr><tr><td>250.345347</td><td>1997.0</td><td>&quot;newspaper&quot;</td></tr><tr><td>355.627803</td><td>1997.0</td><td>&quot;encyclopedia&quot;</td></tr><tr><td>3074.857296</td><td>1987.0</td><td>&quot;magazine&quot;</td></tr><tr><td>1404.422293</td><td>1993.0</td><td>&quot;encyclopedia&quot;</td></tr></tbody></table></div>"
      ],
      "text/plain": [
       "shape: (10, 3)\n",
       "┌─────────────┬────────┬──────────────┐\n",
       "│ price       ┆ year   ┆ type         │\n",
       "│ ---         ┆ ---    ┆ ---          │\n",
       "│ f64         ┆ f64    ┆ str          │\n",
       "╞═════════════╪════════╪══════════════╡\n",
       "│ 293.278763  ┆ 2001.0 ┆ newspaper    │\n",
       "│ 1014.258665 ┆ 0.0    ┆ newspaper    │\n",
       "│ 634.730379  ┆ 1999.0 ┆ magazine     │\n",
       "│ 1396.577859 ┆ 2021.0 ┆ book         │\n",
       "│ 8.300632    ┆ 2007.0 ┆ newspaper    │\n",
       "│ 903.830641  ┆ 2021.0 ┆ book         │\n",
       "│ 250.345347  ┆ 1997.0 ┆ newspaper    │\n",
       "│ 355.627803  ┆ 1997.0 ┆ encyclopedia │\n",
       "│ 3074.857296 ┆ 1987.0 ┆ magazine     │\n",
       "│ 1404.422293 ┆ 1993.0 ┆ encyclopedia │\n",
       "└─────────────┴────────┴──────────────┘"
      ]
     },
     "execution_count": 103,
     "metadata": {},
     "output_type": "execute_result"
    }
   ],
   "source": [
    "df[30:40, :].fill_null(0)"
   ]
  },
  {
   "cell_type": "code",
   "execution_count": 105,
   "id": "7b6f8a33-7750-4406-88a0-d70c7b4190a9",
   "metadata": {},
   "outputs": [
    {
     "data": {
      "text/html": [
       "<div><style>\n",
       ".dataframe > thead > tr,\n",
       ".dataframe > tbody > tr {\n",
       "  text-align: right;\n",
       "  white-space: pre-wrap;\n",
       "}\n",
       "</style>\n",
       "<small>shape: (10, 3)</small><table border=\"1\" class=\"dataframe\"><thead><tr><th>price</th><th>year</th><th>type</th></tr><tr><td>f64</td><td>f64</td><td>str</td></tr></thead><tbody><tr><td>293.278763</td><td>2001.0</td><td>&quot;newspaper&quot;</td></tr><tr><td>1014.258665</td><td>1985.0</td><td>&quot;newspaper&quot;</td></tr><tr><td>634.730379</td><td>1999.0</td><td>&quot;magazine&quot;</td></tr><tr><td>1396.577859</td><td>2021.0</td><td>&quot;book&quot;</td></tr><tr><td>8.300632</td><td>2007.0</td><td>&quot;newspaper&quot;</td></tr><tr><td>903.830641</td><td>2021.0</td><td>&quot;book&quot;</td></tr><tr><td>250.345347</td><td>1997.0</td><td>&quot;newspaper&quot;</td></tr><tr><td>355.627803</td><td>1997.0</td><td>&quot;encyclopedia&quot;</td></tr><tr><td>3074.857296</td><td>1987.0</td><td>&quot;magazine&quot;</td></tr><tr><td>1404.422293</td><td>1993.0</td><td>&quot;encyclopedia&quot;</td></tr></tbody></table></div>"
      ],
      "text/plain": [
       "shape: (10, 3)\n",
       "┌─────────────┬────────┬──────────────┐\n",
       "│ price       ┆ year   ┆ type         │\n",
       "│ ---         ┆ ---    ┆ ---          │\n",
       "│ f64         ┆ f64    ┆ str          │\n",
       "╞═════════════╪════════╪══════════════╡\n",
       "│ 293.278763  ┆ 2001.0 ┆ newspaper    │\n",
       "│ 1014.258665 ┆ 1985.0 ┆ newspaper    │\n",
       "│ 634.730379  ┆ 1999.0 ┆ magazine     │\n",
       "│ 1396.577859 ┆ 2021.0 ┆ book         │\n",
       "│ 8.300632    ┆ 2007.0 ┆ newspaper    │\n",
       "│ 903.830641  ┆ 2021.0 ┆ book         │\n",
       "│ 250.345347  ┆ 1997.0 ┆ newspaper    │\n",
       "│ 355.627803  ┆ 1997.0 ┆ encyclopedia │\n",
       "│ 3074.857296 ┆ 1987.0 ┆ magazine     │\n",
       "│ 1404.422293 ┆ 1993.0 ┆ encyclopedia │\n",
       "└─────────────┴────────┴──────────────┘"
      ]
     },
     "execution_count": 105,
     "metadata": {},
     "output_type": "execute_result"
    }
   ],
   "source": [
    "df2 = df.fill_null(strategy = 'min')## strategy : ‘forward’ (предыдущее значение), ‘backward’ (следующее значение), ‘min’, \n",
    "## ‘max’, ‘mean’, ‘zero’ (ноль), ‘one’ (единица).\n",
    "df2[30:40, :]"
   ]
  },
  {
   "cell_type": "markdown",
   "id": "0231113e-76e1-4f9d-8c5d-1fff5d91b803",
   "metadata": {},
   "source": [
    "Прямое и обратное заполнение"
   ]
  },
  {
   "cell_type": "code",
   "execution_count": 106,
   "id": "77cd5c9d-7008-49ad-a6e3-201cacd8c675",
   "metadata": {},
   "outputs": [],
   "source": [
    "df2 = df.with_columns(pl.col('year').forward_fill()) #backward_fill"
   ]
  },
  {
   "cell_type": "code",
   "execution_count": 107,
   "id": "f9e0e43b-5f9a-4f64-bbe3-f86ca8e8ad74",
   "metadata": {},
   "outputs": [
    {
     "data": {
      "text/html": [
       "<div><style>\n",
       ".dataframe > thead > tr,\n",
       ".dataframe > tbody > tr {\n",
       "  text-align: right;\n",
       "  white-space: pre-wrap;\n",
       "}\n",
       "</style>\n",
       "<small>shape: (10, 3)</small><table border=\"1\" class=\"dataframe\"><thead><tr><th>price</th><th>year</th><th>type</th></tr><tr><td>f64</td><td>f64</td><td>str</td></tr></thead><tbody><tr><td>293.278763</td><td>2001.0</td><td>&quot;newspaper&quot;</td></tr><tr><td>1014.258665</td><td>2001.0</td><td>&quot;newspaper&quot;</td></tr><tr><td>634.730379</td><td>1999.0</td><td>&quot;magazine&quot;</td></tr><tr><td>1396.577859</td><td>2021.0</td><td>&quot;book&quot;</td></tr><tr><td>8.300632</td><td>2007.0</td><td>&quot;newspaper&quot;</td></tr><tr><td>903.830641</td><td>2021.0</td><td>&quot;book&quot;</td></tr><tr><td>250.345347</td><td>1997.0</td><td>&quot;newspaper&quot;</td></tr><tr><td>355.627803</td><td>1997.0</td><td>&quot;encyclopedia&quot;</td></tr><tr><td>3074.857296</td><td>1987.0</td><td>&quot;magazine&quot;</td></tr><tr><td>1404.422293</td><td>1993.0</td><td>&quot;encyclopedia&quot;</td></tr></tbody></table></div>"
      ],
      "text/plain": [
       "shape: (10, 3)\n",
       "┌─────────────┬────────┬──────────────┐\n",
       "│ price       ┆ year   ┆ type         │\n",
       "│ ---         ┆ ---    ┆ ---          │\n",
       "│ f64         ┆ f64    ┆ str          │\n",
       "╞═════════════╪════════╪══════════════╡\n",
       "│ 293.278763  ┆ 2001.0 ┆ newspaper    │\n",
       "│ 1014.258665 ┆ 2001.0 ┆ newspaper    │\n",
       "│ 634.730379  ┆ 1999.0 ┆ magazine     │\n",
       "│ 1396.577859 ┆ 2021.0 ┆ book         │\n",
       "│ 8.300632    ┆ 2007.0 ┆ newspaper    │\n",
       "│ 903.830641  ┆ 2021.0 ┆ book         │\n",
       "│ 250.345347  ┆ 1997.0 ┆ newspaper    │\n",
       "│ 355.627803  ┆ 1997.0 ┆ encyclopedia │\n",
       "│ 3074.857296 ┆ 1987.0 ┆ magazine     │\n",
       "│ 1404.422293 ┆ 1993.0 ┆ encyclopedia │\n",
       "└─────────────┴────────┴──────────────┘"
      ]
     },
     "execution_count": 107,
     "metadata": {},
     "output_type": "execute_result"
    }
   ],
   "source": [
    "df2[30:40, :]"
   ]
  },
  {
   "cell_type": "markdown",
   "id": "0b164d96-fb52-467d-b792-10baecad0cde",
   "metadata": {},
   "source": [
    "Интерполяция"
   ]
  },
  {
   "cell_type": "code",
   "execution_count": 108,
   "id": "56df1b56-f401-476c-8b2b-2f1042d89088",
   "metadata": {},
   "outputs": [],
   "source": [
    "df2 = df.interpolate()"
   ]
  },
  {
   "cell_type": "code",
   "execution_count": 109,
   "id": "6e8f4a48-a42a-4605-818d-5b565bb4d75b",
   "metadata": {},
   "outputs": [
    {
     "data": {
      "text/html": [
       "<div><style>\n",
       ".dataframe > thead > tr,\n",
       ".dataframe > tbody > tr {\n",
       "  text-align: right;\n",
       "  white-space: pre-wrap;\n",
       "}\n",
       "</style>\n",
       "<small>shape: (10, 3)</small><table border=\"1\" class=\"dataframe\"><thead><tr><th>price</th><th>year</th><th>type</th></tr><tr><td>f64</td><td>f64</td><td>str</td></tr></thead><tbody><tr><td>293.278763</td><td>2001.0</td><td>&quot;newspaper&quot;</td></tr><tr><td>1014.258665</td><td>2000.0</td><td>&quot;newspaper&quot;</td></tr><tr><td>634.730379</td><td>1999.0</td><td>&quot;magazine&quot;</td></tr><tr><td>1396.577859</td><td>2021.0</td><td>&quot;book&quot;</td></tr><tr><td>8.300632</td><td>2007.0</td><td>&quot;newspaper&quot;</td></tr><tr><td>903.830641</td><td>2021.0</td><td>&quot;book&quot;</td></tr><tr><td>250.345347</td><td>1997.0</td><td>&quot;newspaper&quot;</td></tr><tr><td>355.627803</td><td>1997.0</td><td>&quot;encyclopedia&quot;</td></tr><tr><td>3074.857296</td><td>1987.0</td><td>&quot;magazine&quot;</td></tr><tr><td>1404.422293</td><td>1993.0</td><td>&quot;encyclopedia&quot;</td></tr></tbody></table></div>"
      ],
      "text/plain": [
       "shape: (10, 3)\n",
       "┌─────────────┬────────┬──────────────┐\n",
       "│ price       ┆ year   ┆ type         │\n",
       "│ ---         ┆ ---    ┆ ---          │\n",
       "│ f64         ┆ f64    ┆ str          │\n",
       "╞═════════════╪════════╪══════════════╡\n",
       "│ 293.278763  ┆ 2001.0 ┆ newspaper    │\n",
       "│ 1014.258665 ┆ 2000.0 ┆ newspaper    │\n",
       "│ 634.730379  ┆ 1999.0 ┆ magazine     │\n",
       "│ 1396.577859 ┆ 2021.0 ┆ book         │\n",
       "│ 8.300632    ┆ 2007.0 ┆ newspaper    │\n",
       "│ 903.830641  ┆ 2021.0 ┆ book         │\n",
       "│ 250.345347  ┆ 1997.0 ┆ newspaper    │\n",
       "│ 355.627803  ┆ 1997.0 ┆ encyclopedia │\n",
       "│ 3074.857296 ┆ 1987.0 ┆ magazine     │\n",
       "│ 1404.422293 ┆ 1993.0 ┆ encyclopedia │\n",
       "└─────────────┴────────┴──────────────┘"
      ]
     },
     "execution_count": 109,
     "metadata": {},
     "output_type": "execute_result"
    }
   ],
   "source": [
    "df2[30:40, :]"
   ]
  },
  {
   "cell_type": "markdown",
   "id": "e14b261d-0154-4608-9f24-5a3e7baa8b38",
   "metadata": {},
   "source": [
    "### Изменение типов данных. Кастинг"
   ]
  },
  {
   "cell_type": "code",
   "execution_count": 111,
   "id": "37fc5ebd-6514-441a-8730-097941e0cada",
   "metadata": {},
   "outputs": [
    {
     "data": {
      "text/html": [
       "<div><style>\n",
       ".dataframe > thead > tr,\n",
       ".dataframe > tbody > tr {\n",
       "  text-align: right;\n",
       "  white-space: pre-wrap;\n",
       "}\n",
       "</style>\n",
       "<small>shape: (5, 3)</small><table border=\"1\" class=\"dataframe\"><thead><tr><th>price</th><th>year</th><th>type</th></tr><tr><td>f64</td><td>i32</td><td>str</td></tr></thead><tbody><tr><td>707.529256</td><td>2018</td><td>&quot;encyclopedia&quot;</td></tr><tr><td>1025.203348</td><td>1992</td><td>&quot;textbook&quot;</td></tr><tr><td>568.548657</td><td>1990</td><td>&quot;encyclopedia&quot;</td></tr><tr><td>895.109864</td><td>1995</td><td>&quot;newspaper&quot;</td></tr><tr><td>206.532754</td><td>1986</td><td>&quot;book&quot;</td></tr></tbody></table></div>"
      ],
      "text/plain": [
       "shape: (5, 3)\n",
       "┌─────────────┬──────┬──────────────┐\n",
       "│ price       ┆ year ┆ type         │\n",
       "│ ---         ┆ ---  ┆ ---          │\n",
       "│ f64         ┆ i32  ┆ str          │\n",
       "╞═════════════╪══════╪══════════════╡\n",
       "│ 707.529256  ┆ 2018 ┆ encyclopedia │\n",
       "│ 1025.203348 ┆ 1992 ┆ textbook     │\n",
       "│ 568.548657  ┆ 1990 ┆ encyclopedia │\n",
       "│ 895.109864  ┆ 1995 ┆ newspaper    │\n",
       "│ 206.532754  ┆ 1986 ┆ book         │\n",
       "└─────────────┴──────┴──────────────┘"
      ]
     },
     "execution_count": 111,
     "metadata": {},
     "output_type": "execute_result"
    }
   ],
   "source": [
    "df2 = df.with_columns( \n",
    "    pl.col('year').cast(pl.Int32)  # strict=False / True \n",
    ") \n",
    "df2.head(5)"
   ]
  },
  {
   "cell_type": "markdown",
   "id": "7e6cf2b0-f166-47ff-905e-87c846fa7a32",
   "metadata": {},
   "source": [
    "### Практическое задание 0\n",
    "1. Импортируйте датасет титаник\n",
    "2. Проанализируйте датасет на пропуски\n",
    "3. Сохраните табличку со статистикой в отдельный датасет (describe)\n",
    "4. Заполните пропуски наиболее подходящим способом\n",
    "5. Поменяйте тип данных одного из integer столбцов на Int32\n",
    "6. Сравните таблички со статистикой до и после проставления пропусков"
   ]
  },
  {
   "cell_type": "code",
   "execution_count": null,
   "id": "5afd6229-27f6-4e79-8764-fc35fc1670dd",
   "metadata": {},
   "outputs": [],
   "source": []
  },
  {
   "cell_type": "markdown",
   "id": "8228efd4-8175-4bc0-8238-b96f880e0712",
   "metadata": {},
   "source": [
    "### Операции агрегации\n",
    "* quantile()\n",
    "* mean()\n",
    "* sum()\n",
    "* min() и max()\n",
    "* count()\n",
    "* std() и var()\n",
    "* median()"
   ]
  },
  {
   "cell_type": "code",
   "execution_count": 112,
   "id": "d7aa1000-e245-4643-a23c-1a0f34e48b06",
   "metadata": {},
   "outputs": [
    {
     "data": {
      "text/html": [
       "<div><style>\n",
       ".dataframe > thead > tr,\n",
       ".dataframe > tbody > tr {\n",
       "  text-align: right;\n",
       "  white-space: pre-wrap;\n",
       "}\n",
       "</style>\n",
       "<small>shape: (1, 10)</small><table border=\"1\" class=\"dataframe\"><thead><tr><th>count</th><th>null_count</th><th>mean</th><th>std_dev</th><th>median</th><th>min</th><th>25%</th><th>50%</th><th>75%</th><th>max</th></tr><tr><td>u32</td><td>u32</td><td>f64</td><td>f64</td><td>f64</td><td>f64</td><td>f64</td><td>f64</td><td>f64</td><td>f64</td></tr></thead><tbody><tr><td>50000</td><td>0</td><td>1003.51169</td><td>1000.386795</td><td>697.412055</td><td>0.007358</td><td>292.38947</td><td>697.459594</td><td>1392.214487</td><td>9777.052347</td></tr></tbody></table></div>"
      ],
      "text/plain": [
       "shape: (1, 10)\n",
       "┌───────┬────────────┬────────────┬────────────┬───┬───────────┬───────────┬───────────┬───────────┐\n",
       "│ count ┆ null_count ┆ mean       ┆ std_dev    ┆ … ┆ 25%       ┆ 50%       ┆ 75%       ┆ max       │\n",
       "│ ---   ┆ ---        ┆ ---        ┆ ---        ┆   ┆ ---       ┆ ---       ┆ ---       ┆ ---       │\n",
       "│ u32   ┆ u32        ┆ f64        ┆ f64        ┆   ┆ f64       ┆ f64       ┆ f64       ┆ f64       │\n",
       "╞═══════╪════════════╪════════════╪════════════╪═══╪═══════════╪═══════════╪═══════════╪═══════════╡\n",
       "│ 50000 ┆ 0          ┆ 1003.51169 ┆ 1000.38679 ┆ … ┆ 292.38947 ┆ 697.45959 ┆ 1392.2144 ┆ 9777.0523 │\n",
       "│       ┆            ┆            ┆ 5          ┆   ┆           ┆ 4         ┆ 87        ┆ 47        │\n",
       "└───────┴────────────┴────────────┴────────────┴───┴───────────┴───────────┴───────────┴───────────┘"
      ]
     },
     "execution_count": 112,
     "metadata": {},
     "output_type": "execute_result"
    }
   ],
   "source": [
    "df.select([\n",
    "    pl.col(\"price\").count().alias(\"count\"),\n",
    "    pl.col(\"price\").null_count().alias(\"null_count\"),\n",
    "    pl.col(\"price\").mean().alias(\"mean\"),\n",
    "    pl.col(\"price\").std().alias(\"std_dev\"),\n",
    "    pl.col(\"price\").median().alias(\"median\"),\n",
    "    pl.col(\"price\").min().alias(\"min\"),\n",
    "    pl.col(\"price\").quantile(0.25).alias(\"25%\"),\n",
    "    pl.col(\"price\").quantile(0.5).alias(\"50%\"),\n",
    "    pl.col(\"price\").quantile(0.75).alias(\"75%\"),\n",
    "    pl.col(\"price\").max().alias(\"max\"),\n",
    "])"
   ]
  },
  {
   "cell_type": "code",
   "execution_count": null,
   "id": "260b6283-7f46-425d-9add-264cb5aa14ac",
   "metadata": {},
   "outputs": [],
   "source": []
  },
  {
   "cell_type": "markdown",
   "id": "4f3f9465-b450-43fa-ad31-de5c0bf0ca2d",
   "metadata": {},
   "source": [
    "### Groupby"
   ]
  },
  {
   "cell_type": "code",
   "execution_count": 114,
   "id": "ffeaae5d-2afe-4fc0-adec-17865236ff6f",
   "metadata": {},
   "outputs": [
    {
     "data": {
      "text/html": [
       "<div><style>\n",
       ".dataframe > thead > tr,\n",
       ".dataframe > tbody > tr {\n",
       "  text-align: right;\n",
       "  white-space: pre-wrap;\n",
       "}\n",
       "</style>\n",
       "<small>shape: (5, 3)</small><table border=\"1\" class=\"dataframe\"><thead><tr><th>price</th><th>year</th><th>type</th></tr><tr><td>f64</td><td>f64</td><td>str</td></tr></thead><tbody><tr><td>707.529256</td><td>2018.0</td><td>&quot;encyclopedia&quot;</td></tr><tr><td>1025.203348</td><td>1992.0</td><td>&quot;textbook&quot;</td></tr><tr><td>568.548657</td><td>1990.0</td><td>&quot;encyclopedia&quot;</td></tr><tr><td>895.109864</td><td>1995.0</td><td>&quot;newspaper&quot;</td></tr><tr><td>206.532754</td><td>1986.0</td><td>&quot;book&quot;</td></tr></tbody></table></div>"
      ],
      "text/plain": [
       "shape: (5, 3)\n",
       "┌─────────────┬────────┬──────────────┐\n",
       "│ price       ┆ year   ┆ type         │\n",
       "│ ---         ┆ ---    ┆ ---          │\n",
       "│ f64         ┆ f64    ┆ str          │\n",
       "╞═════════════╪════════╪══════════════╡\n",
       "│ 707.529256  ┆ 2018.0 ┆ encyclopedia │\n",
       "│ 1025.203348 ┆ 1992.0 ┆ textbook     │\n",
       "│ 568.548657  ┆ 1990.0 ┆ encyclopedia │\n",
       "│ 895.109864  ┆ 1995.0 ┆ newspaper    │\n",
       "│ 206.532754  ┆ 1986.0 ┆ book         │\n",
       "└─────────────┴────────┴──────────────┘"
      ]
     },
     "execution_count": 114,
     "metadata": {},
     "output_type": "execute_result"
    }
   ],
   "source": [
    "df.head()"
   ]
  },
  {
   "cell_type": "markdown",
   "id": "f66bda4f-a199-438f-8ef1-c148dc2a220d",
   "metadata": {},
   "source": [
    "Группировка по одному столбцу"
   ]
  },
  {
   "cell_type": "code",
   "execution_count": 121,
   "id": "f36b126b-f059-4c1f-a065-96cbd871cba0",
   "metadata": {},
   "outputs": [
    {
     "name": "stderr",
     "output_type": "stream",
     "text": [
      "/var/folders/t4/k1zqy_252832shmd93xtl6hr0000gn/T/ipykernel_73195/1638306806.py:5: DeprecationWarning: `pl.count()` is deprecated. Please use `pl.len()` instead.\n",
      "  pl.count()\n"
     ]
    },
    {
     "data": {
      "text/html": [
       "<div><style>\n",
       ".dataframe > thead > tr,\n",
       ".dataframe > tbody > tr {\n",
       "  text-align: right;\n",
       "  white-space: pre-wrap;\n",
       "}\n",
       "</style>\n",
       "<small>shape: (5, 4)</small><table border=\"1\" class=\"dataframe\"><thead><tr><th>type</th><th>mean_price</th><th>median_year</th><th>count</th></tr><tr><td>str</td><td>f64</td><td>f64</td><td>u32</td></tr></thead><tbody><tr><td>&quot;textbook&quot;</td><td>999.892266</td><td>2005.0</td><td>10034</td></tr><tr><td>&quot;newspaper&quot;</td><td>993.727707</td><td>2004.0</td><td>9966</td></tr><tr><td>&quot;encyclopedia&quot;</td><td>1008.703284</td><td>2004.0</td><td>10028</td></tr><tr><td>&quot;book&quot;</td><td>1000.189494</td><td>2005.0</td><td>9953</td></tr><tr><td>&quot;magazine&quot;</td><td>1014.972812</td><td>2004.0</td><td>10019</td></tr></tbody></table></div>"
      ],
      "text/plain": [
       "shape: (5, 4)\n",
       "┌──────────────┬─────────────┬─────────────┬───────┐\n",
       "│ type         ┆ mean_price  ┆ median_year ┆ count │\n",
       "│ ---          ┆ ---         ┆ ---         ┆ ---   │\n",
       "│ str          ┆ f64         ┆ f64         ┆ u32   │\n",
       "╞══════════════╪═════════════╪═════════════╪═══════╡\n",
       "│ textbook     ┆ 999.892266  ┆ 2005.0      ┆ 10034 │\n",
       "│ newspaper    ┆ 993.727707  ┆ 2004.0      ┆ 9966  │\n",
       "│ encyclopedia ┆ 1008.703284 ┆ 2004.0      ┆ 10028 │\n",
       "│ book         ┆ 1000.189494 ┆ 2005.0      ┆ 9953  │\n",
       "│ magazine     ┆ 1014.972812 ┆ 2004.0      ┆ 10019 │\n",
       "└──────────────┴─────────────┴─────────────┴───────┘"
      ]
     },
     "execution_count": 121,
     "metadata": {},
     "output_type": "execute_result"
    }
   ],
   "source": [
    "df.group_by(\"type\").agg(\n",
    "    [\n",
    "        pl.mean(\"price\").alias(\"mean_price\"),\n",
    "        pl.median(\"year\").alias(\"median_year\"),\n",
    "        pl.count()\n",
    "    ]\n",
    ")"
   ]
  },
  {
   "cell_type": "markdown",
   "id": "18ec4f20-b641-4ed5-b2be-1c61ce3b2aaa",
   "metadata": {},
   "source": [
    "Группировка по нескольким столбцам"
   ]
  },
  {
   "cell_type": "code",
   "execution_count": 129,
   "id": "b0e1646b-4d61-4e55-a2c4-7d2b48dae09d",
   "metadata": {},
   "outputs": [
    {
     "data": {
      "text/html": [
       "<div><style>\n",
       ".dataframe > thead > tr,\n",
       ".dataframe > tbody > tr {\n",
       "  text-align: right;\n",
       "  white-space: pre-wrap;\n",
       "}\n",
       "</style>\n",
       "<small>shape: (5, 3)</small><table border=\"1\" class=\"dataframe\"><thead><tr><th>price</th><th>year</th><th>type</th></tr><tr><td>f64</td><td>f64</td><td>str</td></tr></thead><tbody><tr><td>707.529256</td><td>2018.0</td><td>&quot;encyclopedia&quot;</td></tr><tr><td>1025.203348</td><td>1992.0</td><td>&quot;textbook&quot;</td></tr><tr><td>568.548657</td><td>1990.0</td><td>&quot;encyclopedia&quot;</td></tr><tr><td>895.109864</td><td>1995.0</td><td>&quot;newspaper&quot;</td></tr><tr><td>206.532754</td><td>1986.0</td><td>&quot;book&quot;</td></tr></tbody></table></div>"
      ],
      "text/plain": [
       "shape: (5, 3)\n",
       "┌─────────────┬────────┬──────────────┐\n",
       "│ price       ┆ year   ┆ type         │\n",
       "│ ---         ┆ ---    ┆ ---          │\n",
       "│ f64         ┆ f64    ┆ str          │\n",
       "╞═════════════╪════════╪══════════════╡\n",
       "│ 707.529256  ┆ 2018.0 ┆ encyclopedia │\n",
       "│ 1025.203348 ┆ 1992.0 ┆ textbook     │\n",
       "│ 568.548657  ┆ 1990.0 ┆ encyclopedia │\n",
       "│ 895.109864  ┆ 1995.0 ┆ newspaper    │\n",
       "│ 206.532754  ┆ 1986.0 ┆ book         │\n",
       "└─────────────┴────────┴──────────────┘"
      ]
     },
     "execution_count": 129,
     "metadata": {},
     "output_type": "execute_result"
    }
   ],
   "source": [
    "df.head()"
   ]
  },
  {
   "cell_type": "code",
   "execution_count": 133,
   "id": "20cb6ed1-8c13-485b-b6c1-23d48890155e",
   "metadata": {},
   "outputs": [
    {
     "name": "stderr",
     "output_type": "stream",
     "text": [
      "/var/folders/t4/k1zqy_252832shmd93xtl6hr0000gn/T/ipykernel_73195/570632484.py:2: DeprecationWarning: `pl.count()` is deprecated. Please use `pl.len()` instead.\n",
      "  pl.count()\n"
     ]
    },
    {
     "data": {
      "text/html": [
       "<div><style>\n",
       ".dataframe > thead > tr,\n",
       ".dataframe > tbody > tr {\n",
       "  text-align: right;\n",
       "  white-space: pre-wrap;\n",
       "}\n",
       "</style>\n",
       "<small>shape: (205, 3)</small><table border=\"1\" class=\"dataframe\"><thead><tr><th>type</th><th>year</th><th>count</th></tr><tr><td>str</td><td>f64</td><td>u32</td></tr></thead><tbody><tr><td>&quot;magazine&quot;</td><td>1988.0</td><td>238</td></tr><tr><td>&quot;textbook&quot;</td><td>2000.0</td><td>265</td></tr><tr><td>&quot;textbook&quot;</td><td>1987.0</td><td>226</td></tr><tr><td>&quot;encyclopedia&quot;</td><td>2024.0</td><td>215</td></tr><tr><td>&quot;textbook&quot;</td><td>1986.0</td><td>237</td></tr><tr><td>&hellip;</td><td>&hellip;</td><td>&hellip;</td></tr><tr><td>&quot;encyclopedia&quot;</td><td>2013.0</td><td>222</td></tr><tr><td>&quot;book&quot;</td><td>1992.0</td><td>222</td></tr><tr><td>&quot;encyclopedia&quot;</td><td>2008.0</td><td>258</td></tr><tr><td>&quot;book&quot;</td><td>2013.0</td><td>225</td></tr><tr><td>&quot;encyclopedia&quot;</td><td>1992.0</td><td>271</td></tr></tbody></table></div>"
      ],
      "text/plain": [
       "shape: (205, 3)\n",
       "┌──────────────┬────────┬───────┐\n",
       "│ type         ┆ year   ┆ count │\n",
       "│ ---          ┆ ---    ┆ ---   │\n",
       "│ str          ┆ f64    ┆ u32   │\n",
       "╞══════════════╪════════╪═══════╡\n",
       "│ magazine     ┆ 1988.0 ┆ 238   │\n",
       "│ textbook     ┆ 2000.0 ┆ 265   │\n",
       "│ textbook     ┆ 1987.0 ┆ 226   │\n",
       "│ encyclopedia ┆ 2024.0 ┆ 215   │\n",
       "│ textbook     ┆ 1986.0 ┆ 237   │\n",
       "│ …            ┆ …      ┆ …     │\n",
       "│ encyclopedia ┆ 2013.0 ┆ 222   │\n",
       "│ book         ┆ 1992.0 ┆ 222   │\n",
       "│ encyclopedia ┆ 2008.0 ┆ 258   │\n",
       "│ book         ┆ 2013.0 ┆ 225   │\n",
       "│ encyclopedia ┆ 1992.0 ┆ 271   │\n",
       "└──────────────┴────────┴───────┘"
      ]
     },
     "execution_count": 133,
     "metadata": {},
     "output_type": "execute_result"
    }
   ],
   "source": [
    "df.group_by([\"type\", \"year\"]).agg([ \n",
    "    pl.count()\n",
    "])"
   ]
  },
  {
   "cell_type": "markdown",
   "id": "6a00a2e5-df3a-42f6-9619-4157d066304f",
   "metadata": {},
   "source": [
    "Группировка датасета + поворот"
   ]
  },
  {
   "cell_type": "code",
   "execution_count": 125,
   "id": "b1066737-3b60-4f7c-9dfd-99725fdf948f",
   "metadata": {},
   "outputs": [
    {
     "name": "stderr",
     "output_type": "stream",
     "text": [
      "/var/folders/t4/k1zqy_252832shmd93xtl6hr0000gn/T/ipykernel_73195/1745452403.py:2: DeprecationWarning: `pl.count()` is deprecated. Please use `pl.len()` instead.\n",
      "  pl.count()\n",
      "/var/folders/t4/k1zqy_252832shmd93xtl6hr0000gn/T/ipykernel_73195/1745452403.py:3: DeprecationWarning: The argument `columns` for `DataFrame.pivot` is deprecated. It has been renamed to `on`.\n",
      "  ]).pivot(\n"
     ]
    },
    {
     "data": {
      "text/html": [
       "<div><style>\n",
       ".dataframe > thead > tr,\n",
       ".dataframe > tbody > tr {\n",
       "  text-align: right;\n",
       "  white-space: pre-wrap;\n",
       "}\n",
       "</style>\n",
       "<small>shape: (41, 6)</small><table border=\"1\" class=\"dataframe\"><thead><tr><th>year</th><th>textbook</th><th>magazine</th><th>encyclopedia</th><th>newspaper</th><th>book</th></tr><tr><td>f64</td><td>u32</td><td>u32</td><td>u32</td><td>u32</td><td>u32</td></tr></thead><tbody><tr><td>2000.0</td><td>265</td><td>258</td><td>226</td><td>246</td><td>253</td></tr><tr><td>2016.0</td><td>265</td><td>242</td><td>238</td><td>241</td><td>232</td></tr><tr><td>1990.0</td><td>230</td><td>248</td><td>225</td><td>232</td><td>244</td></tr><tr><td>2015.0</td><td>240</td><td>216</td><td>257</td><td>250</td><td>243</td></tr><tr><td>2022.0</td><td>230</td><td>231</td><td>244</td><td>214</td><td>272</td></tr><tr><td>&hellip;</td><td>&hellip;</td><td>&hellip;</td><td>&hellip;</td><td>&hellip;</td><td>&hellip;</td></tr><tr><td>2004.0</td><td>258</td><td>243</td><td>256</td><td>255</td><td>213</td></tr><tr><td>2003.0</td><td>274</td><td>255</td><td>232</td><td>217</td><td>236</td></tr><tr><td>1999.0</td><td>244</td><td>232</td><td>234</td><td>237</td><td>247</td></tr><tr><td>2018.0</td><td>240</td><td>246</td><td>261</td><td>229</td><td>264</td></tr><tr><td>1985.0</td><td>240</td><td>241</td><td>243</td><td>247</td><td>239</td></tr></tbody></table></div>"
      ],
      "text/plain": [
       "shape: (41, 6)\n",
       "┌────────┬──────────┬──────────┬──────────────┬───────────┬──────┐\n",
       "│ year   ┆ textbook ┆ magazine ┆ encyclopedia ┆ newspaper ┆ book │\n",
       "│ ---    ┆ ---      ┆ ---      ┆ ---          ┆ ---       ┆ ---  │\n",
       "│ f64    ┆ u32      ┆ u32      ┆ u32          ┆ u32       ┆ u32  │\n",
       "╞════════╪══════════╪══════════╪══════════════╪═══════════╪══════╡\n",
       "│ 2000.0 ┆ 265      ┆ 258      ┆ 226          ┆ 246       ┆ 253  │\n",
       "│ 2016.0 ┆ 265      ┆ 242      ┆ 238          ┆ 241       ┆ 232  │\n",
       "│ 1990.0 ┆ 230      ┆ 248      ┆ 225          ┆ 232       ┆ 244  │\n",
       "│ 2015.0 ┆ 240      ┆ 216      ┆ 257          ┆ 250       ┆ 243  │\n",
       "│ 2022.0 ┆ 230      ┆ 231      ┆ 244          ┆ 214       ┆ 272  │\n",
       "│ …      ┆ …        ┆ …        ┆ …            ┆ …         ┆ …    │\n",
       "│ 2004.0 ┆ 258      ┆ 243      ┆ 256          ┆ 255       ┆ 213  │\n",
       "│ 2003.0 ┆ 274      ┆ 255      ┆ 232          ┆ 217       ┆ 236  │\n",
       "│ 1999.0 ┆ 244      ┆ 232      ┆ 234          ┆ 237       ┆ 247  │\n",
       "│ 2018.0 ┆ 240      ┆ 246      ┆ 261          ┆ 229       ┆ 264  │\n",
       "│ 1985.0 ┆ 240      ┆ 241      ┆ 243          ┆ 247       ┆ 239  │\n",
       "└────────┴──────────┴──────────┴──────────────┴───────────┴──────┘"
      ]
     },
     "execution_count": 125,
     "metadata": {},
     "output_type": "execute_result"
    }
   ],
   "source": [
    "df.group_by([\"type\", \"year\"]).agg([ \n",
    "    pl.count() \n",
    "]).pivot( \n",
    "    values=\"count\", \n",
    "    index=[\"year\"], \n",
    "    columns=['type']\n",
    ")"
   ]
  },
  {
   "cell_type": "markdown",
   "id": "f06efbc2-bd59-4986-b5dc-22714ea2c3aa",
   "metadata": {},
   "source": [
    "### Практическое задание 1\n",
    "1. Импортируйте датасет с кредитной историей (credit_train.csv)\n",
    "2. Напишите функцию, которая получает на вход столбец, а на выходе считает: среднее, медиану, 25-й и 75-й перцентили, кол-во нулевых и ненулевых значений (через  агрегирующие функции). Протестируйте функцию на колонках Current Loan Amount, Credit Score\n",
    "3. Рассчитайте средний и медианный долг клиентов, а также среднюю и медианную сумму займа в зависимости от исхода кредита (Loan Status)\n",
    "4. Определите, кредиты на какую цель (Purpose) имеют максимальную сумму займа"
   ]
  },
  {
   "cell_type": "code",
   "execution_count": null,
   "id": "b9ff2d05-0acc-407a-92a7-fd9f85941465",
   "metadata": {},
   "outputs": [],
   "source": []
  },
  {
   "cell_type": "markdown",
   "id": "c1657deb-7136-4c1d-a6b4-d672cf30d2c0",
   "metadata": {},
   "source": [
    "### Оконные функции"
   ]
  },
  {
   "cell_type": "code",
   "execution_count": 126,
   "id": "6f1f9b7b-1a38-44ea-aec0-df8fe7c2925f",
   "metadata": {},
   "outputs": [
    {
     "data": {
      "text/html": [
       "<div><style>\n",
       ".dataframe > thead > tr,\n",
       ".dataframe > tbody > tr {\n",
       "  text-align: right;\n",
       "  white-space: pre-wrap;\n",
       "}\n",
       "</style>\n",
       "<small>shape: (50_000, 3)</small><table border=\"1\" class=\"dataframe\"><thead><tr><th>price</th><th>year</th><th>type</th></tr><tr><td>f64</td><td>f64</td><td>str</td></tr></thead><tbody><tr><td>707.529256</td><td>2018.0</td><td>&quot;encyclopedia&quot;</td></tr><tr><td>1025.203348</td><td>1992.0</td><td>&quot;textbook&quot;</td></tr><tr><td>568.548657</td><td>1990.0</td><td>&quot;encyclopedia&quot;</td></tr><tr><td>895.109864</td><td>1995.0</td><td>&quot;newspaper&quot;</td></tr><tr><td>206.532754</td><td>1986.0</td><td>&quot;book&quot;</td></tr><tr><td>&hellip;</td><td>&hellip;</td><td>&hellip;</td></tr><tr><td>1528.844126</td><td>2008.0</td><td>&quot;magazine&quot;</td></tr><tr><td>813.274714</td><td>2022.0</td><td>&quot;newspaper&quot;</td></tr><tr><td>1145.045726</td><td>1986.0</td><td>&quot;textbook&quot;</td></tr><tr><td>475.132386</td><td>2006.0</td><td>&quot;encyclopedia&quot;</td></tr><tr><td>121.605306</td><td>2021.0</td><td>&quot;book&quot;</td></tr></tbody></table></div>"
      ],
      "text/plain": [
       "shape: (50_000, 3)\n",
       "┌─────────────┬────────┬──────────────┐\n",
       "│ price       ┆ year   ┆ type         │\n",
       "│ ---         ┆ ---    ┆ ---          │\n",
       "│ f64         ┆ f64    ┆ str          │\n",
       "╞═════════════╪════════╪══════════════╡\n",
       "│ 707.529256  ┆ 2018.0 ┆ encyclopedia │\n",
       "│ 1025.203348 ┆ 1992.0 ┆ textbook     │\n",
       "│ 568.548657  ┆ 1990.0 ┆ encyclopedia │\n",
       "│ 895.109864  ┆ 1995.0 ┆ newspaper    │\n",
       "│ 206.532754  ┆ 1986.0 ┆ book         │\n",
       "│ …           ┆ …      ┆ …            │\n",
       "│ 1528.844126 ┆ 2008.0 ┆ magazine     │\n",
       "│ 813.274714  ┆ 2022.0 ┆ newspaper    │\n",
       "│ 1145.045726 ┆ 1986.0 ┆ textbook     │\n",
       "│ 475.132386  ┆ 2006.0 ┆ encyclopedia │\n",
       "│ 121.605306  ┆ 2021.0 ┆ book         │\n",
       "└─────────────┴────────┴──────────────┘"
      ]
     },
     "execution_count": 126,
     "metadata": {},
     "output_type": "execute_result"
    }
   ],
   "source": [
    "df"
   ]
  },
  {
   "cell_type": "code",
   "execution_count": 140,
   "id": "55416fec-2be5-4a1b-a1b3-5ba5d4c25272",
   "metadata": {},
   "outputs": [
    {
     "data": {
      "text/html": [
       "<div><style>\n",
       ".dataframe > thead > tr,\n",
       ".dataframe > tbody > tr {\n",
       "  text-align: right;\n",
       "  white-space: pre-wrap;\n",
       "}\n",
       "</style>\n",
       "<small>shape: (10, 4)</small><table border=\"1\" class=\"dataframe\"><thead><tr><th>price</th><th>year</th><th>type</th><th>mean_price_by_type</th></tr><tr><td>f64</td><td>f64</td><td>str</td><td>f64</td></tr></thead><tbody><tr><td>707.529256</td><td>2018.0</td><td>&quot;encyclopedia&quot;</td><td>1008.703284</td></tr><tr><td>1025.203348</td><td>1992.0</td><td>&quot;textbook&quot;</td><td>999.892266</td></tr><tr><td>568.548657</td><td>1990.0</td><td>&quot;encyclopedia&quot;</td><td>1008.703284</td></tr><tr><td>895.109864</td><td>1995.0</td><td>&quot;newspaper&quot;</td><td>993.727707</td></tr><tr><td>206.532754</td><td>1986.0</td><td>&quot;book&quot;</td><td>1000.189494</td></tr><tr><td>3383.637351</td><td>1995.0</td><td>&quot;magazine&quot;</td><td>1014.972812</td></tr><tr><td>9.753627</td><td>2011.0</td><td>&quot;newspaper&quot;</td><td>993.727707</td></tr><tr><td>2809.215763</td><td>1994.0</td><td>&quot;book&quot;</td><td>1000.189494</td></tr><tr><td>575.332756</td><td>1991.0</td><td>&quot;encyclopedia&quot;</td><td>1008.703284</td></tr><tr><td>300.534013</td><td>1990.0</td><td>&quot;textbook&quot;</td><td>999.892266</td></tr></tbody></table></div>"
      ],
      "text/plain": [
       "shape: (10, 4)\n",
       "┌─────────────┬────────┬──────────────┬────────────────────┐\n",
       "│ price       ┆ year   ┆ type         ┆ mean_price_by_type │\n",
       "│ ---         ┆ ---    ┆ ---          ┆ ---                │\n",
       "│ f64         ┆ f64    ┆ str          ┆ f64                │\n",
       "╞═════════════╪════════╪══════════════╪════════════════════╡\n",
       "│ 707.529256  ┆ 2018.0 ┆ encyclopedia ┆ 1008.703284        │\n",
       "│ 1025.203348 ┆ 1992.0 ┆ textbook     ┆ 999.892266         │\n",
       "│ 568.548657  ┆ 1990.0 ┆ encyclopedia ┆ 1008.703284        │\n",
       "│ 895.109864  ┆ 1995.0 ┆ newspaper    ┆ 993.727707         │\n",
       "│ 206.532754  ┆ 1986.0 ┆ book         ┆ 1000.189494        │\n",
       "│ 3383.637351 ┆ 1995.0 ┆ magazine     ┆ 1014.972812        │\n",
       "│ 9.753627    ┆ 2011.0 ┆ newspaper    ┆ 993.727707         │\n",
       "│ 2809.215763 ┆ 1994.0 ┆ book         ┆ 1000.189494        │\n",
       "│ 575.332756  ┆ 1991.0 ┆ encyclopedia ┆ 1008.703284        │\n",
       "│ 300.534013  ┆ 1990.0 ┆ textbook     ┆ 999.892266         │\n",
       "└─────────────┴────────┴──────────────┴────────────────────┘"
      ]
     },
     "execution_count": 140,
     "metadata": {},
     "output_type": "execute_result"
    }
   ],
   "source": [
    "df.with_columns([\n",
    "    pl.col(\"price\").mean().over(\"type\").alias(\"mean_price_by_type\") #mean sum min max rank\n",
    "]).head(10)"
   ]
  },
  {
   "cell_type": "code",
   "execution_count": 142,
   "id": "5038c4f7-ff39-4387-ab17-88f8f51d3b34",
   "metadata": {},
   "outputs": [
    {
     "data": {
      "text/html": [
       "<div><style>\n",
       ".dataframe > thead > tr,\n",
       ".dataframe > tbody > tr {\n",
       "  text-align: right;\n",
       "  white-space: pre-wrap;\n",
       "}\n",
       "</style>\n",
       "<small>shape: (50_000, 4)</small><table border=\"1\" class=\"dataframe\"><thead><tr><th>price</th><th>year</th><th>type</th><th>rolling_mean</th></tr><tr><td>f64</td><td>f64</td><td>str</td><td>f64</td></tr></thead><tbody><tr><td>707.529256</td><td>2018.0</td><td>&quot;encyclopedia&quot;</td><td>null</td></tr><tr><td>1025.203348</td><td>1992.0</td><td>&quot;textbook&quot;</td><td>null</td></tr><tr><td>568.548657</td><td>1990.0</td><td>&quot;encyclopedia&quot;</td><td>767.093754</td></tr><tr><td>895.109864</td><td>1995.0</td><td>&quot;newspaper&quot;</td><td>829.620623</td></tr><tr><td>206.532754</td><td>1986.0</td><td>&quot;book&quot;</td><td>556.730425</td></tr><tr><td>&hellip;</td><td>&hellip;</td><td>&hellip;</td><td>&hellip;</td></tr><tr><td>1528.844126</td><td>2008.0</td><td>&quot;magazine&quot;</td><td>1711.35468</td></tr><tr><td>813.274714</td><td>2022.0</td><td>&quot;newspaper&quot;</td><td>1506.799631</td></tr><tr><td>1145.045726</td><td>1986.0</td><td>&quot;textbook&quot;</td><td>1162.388189</td></tr><tr><td>475.132386</td><td>2006.0</td><td>&quot;encyclopedia&quot;</td><td>811.150942</td></tr><tr><td>121.605306</td><td>2021.0</td><td>&quot;book&quot;</td><td>580.594473</td></tr></tbody></table></div>"
      ],
      "text/plain": [
       "shape: (50_000, 4)\n",
       "┌─────────────┬────────┬──────────────┬──────────────┐\n",
       "│ price       ┆ year   ┆ type         ┆ rolling_mean │\n",
       "│ ---         ┆ ---    ┆ ---          ┆ ---          │\n",
       "│ f64         ┆ f64    ┆ str          ┆ f64          │\n",
       "╞═════════════╪════════╪══════════════╪══════════════╡\n",
       "│ 707.529256  ┆ 2018.0 ┆ encyclopedia ┆ null         │\n",
       "│ 1025.203348 ┆ 1992.0 ┆ textbook     ┆ null         │\n",
       "│ 568.548657  ┆ 1990.0 ┆ encyclopedia ┆ 767.093754   │\n",
       "│ 895.109864  ┆ 1995.0 ┆ newspaper    ┆ 829.620623   │\n",
       "│ 206.532754  ┆ 1986.0 ┆ book         ┆ 556.730425   │\n",
       "│ …           ┆ …      ┆ …            ┆ …            │\n",
       "│ 1528.844126 ┆ 2008.0 ┆ magazine     ┆ 1711.35468   │\n",
       "│ 813.274714  ┆ 2022.0 ┆ newspaper    ┆ 1506.799631  │\n",
       "│ 1145.045726 ┆ 1986.0 ┆ textbook     ┆ 1162.388189  │\n",
       "│ 475.132386  ┆ 2006.0 ┆ encyclopedia ┆ 811.150942   │\n",
       "│ 121.605306  ┆ 2021.0 ┆ book         ┆ 580.594473   │\n",
       "└─────────────┴────────┴──────────────┴──────────────┘"
      ]
     },
     "execution_count": 142,
     "metadata": {},
     "output_type": "execute_result"
    }
   ],
   "source": [
    "df.with_columns(\n",
    "    pl.col(\"price\").rolling_mean(window_size=3).alias(\"rolling_mean\") #rolling_max rolling_min rolling_sum\n",
    ")"
   ]
  },
  {
   "cell_type": "code",
   "execution_count": 145,
   "id": "d1420a6c-fa46-4c1f-9237-efa874a0a6cc",
   "metadata": {},
   "outputs": [
    {
     "data": {
      "text/html": [
       "<div><style>\n",
       ".dataframe > thead > tr,\n",
       ".dataframe > tbody > tr {\n",
       "  text-align: right;\n",
       "  white-space: pre-wrap;\n",
       "}\n",
       "</style>\n",
       "<small>shape: (50_000, 4)</small><table border=\"1\" class=\"dataframe\"><thead><tr><th>price</th><th>year</th><th>type</th><th>rolling_mean</th></tr><tr><td>f64</td><td>f64</td><td>str</td><td>f64</td></tr></thead><tbody><tr><td>707.529256</td><td>2018.0</td><td>&quot;encyclopedia&quot;</td><td>null</td></tr><tr><td>1025.203348</td><td>1992.0</td><td>&quot;textbook&quot;</td><td>null</td></tr><tr><td>568.548657</td><td>1990.0</td><td>&quot;encyclopedia&quot;</td><td>null</td></tr><tr><td>895.109864</td><td>1995.0</td><td>&quot;newspaper&quot;</td><td>null</td></tr><tr><td>206.532754</td><td>1986.0</td><td>&quot;book&quot;</td><td>null</td></tr><tr><td>&hellip;</td><td>&hellip;</td><td>&hellip;</td><td>&hellip;</td></tr><tr><td>1528.844126</td><td>2008.0</td><td>&quot;magazine&quot;</td><td>1511.495886</td></tr><tr><td>813.274714</td><td>2022.0</td><td>&quot;newspaper&quot;</td><td>932.184551</td></tr><tr><td>1145.045726</td><td>1986.0</td><td>&quot;textbook&quot;</td><td>399.783885</td></tr><tr><td>475.132386</td><td>2006.0</td><td>&quot;encyclopedia&quot;</td><td>940.537095</td></tr><tr><td>121.605306</td><td>2021.0</td><td>&quot;book&quot;</td><td>1613.812445</td></tr></tbody></table></div>"
      ],
      "text/plain": [
       "shape: (50_000, 4)\n",
       "┌─────────────┬────────┬──────────────┬──────────────┐\n",
       "│ price       ┆ year   ┆ type         ┆ rolling_mean │\n",
       "│ ---         ┆ ---    ┆ ---          ┆ ---          │\n",
       "│ f64         ┆ f64    ┆ str          ┆ f64          │\n",
       "╞═════════════╪════════╪══════════════╪══════════════╡\n",
       "│ 707.529256  ┆ 2018.0 ┆ encyclopedia ┆ null         │\n",
       "│ 1025.203348 ┆ 1992.0 ┆ textbook     ┆ null         │\n",
       "│ 568.548657  ┆ 1990.0 ┆ encyclopedia ┆ null         │\n",
       "│ 895.109864  ┆ 1995.0 ┆ newspaper    ┆ null         │\n",
       "│ 206.532754  ┆ 1986.0 ┆ book         ┆ null         │\n",
       "│ …           ┆ …      ┆ …            ┆ …            │\n",
       "│ 1528.844126 ┆ 2008.0 ┆ magazine     ┆ 1511.495886  │\n",
       "│ 813.274714  ┆ 2022.0 ┆ newspaper    ┆ 932.184551   │\n",
       "│ 1145.045726 ┆ 1986.0 ┆ textbook     ┆ 399.783885   │\n",
       "│ 475.132386  ┆ 2006.0 ┆ encyclopedia ┆ 940.537095   │\n",
       "│ 121.605306  ┆ 2021.0 ┆ book         ┆ 1613.812445  │\n",
       "└─────────────┴────────┴──────────────┴──────────────┘"
      ]
     },
     "execution_count": 145,
     "metadata": {},
     "output_type": "execute_result"
    }
   ],
   "source": [
    "df.with_columns(\n",
    "    pl.col(\"price\").rolling_mean(window_size=3).over(\"type\").alias(\"rolling_mean\")\n",
    ")"
   ]
  },
  {
   "cell_type": "markdown",
   "id": "988e6a18-32b8-4558-98c4-2cf7316dc157",
   "metadata": {},
   "source": [
    "### Практическое задание 2\n",
    "1. Пдгорузите датасет со стоимостью книг по типам\n",
    "2. Оставьте только книги типов \"newspaper\" и \"textbook\"\n",
    "3. Упорядочьте книги по году выхода\n",
    "4. Найдите книгу с максимальной ценой за текущий год при текущем типе\n",
    "5. Определите скользящую сумму c окном равным 10-ти"
   ]
  },
  {
   "cell_type": "code",
   "execution_count": null,
   "id": "e69061c3-7e9a-4c93-921e-e33810ee3b0b",
   "metadata": {},
   "outputs": [],
   "source": [
    "df.sort(['year', 'price'], descending=True)"
   ]
  },
  {
   "cell_type": "markdown",
   "id": "f1caf25f-b1d2-42b3-b33c-a533c7578b59",
   "metadata": {},
   "source": [
    "### Уникальные значения"
   ]
  },
  {
   "cell_type": "code",
   "execution_count": 150,
   "id": "a3ee8866-5136-471c-9f7e-66387efdfad3",
   "metadata": {},
   "outputs": [
    {
     "data": {
      "text/html": [
       "<div><style>\n",
       ".dataframe > thead > tr,\n",
       ".dataframe > tbody > tr {\n",
       "  text-align: right;\n",
       "  white-space: pre-wrap;\n",
       "}\n",
       "</style>\n",
       "<small>shape: (1, 2)</small><table border=\"1\" class=\"dataframe\"><thead><tr><th>unique</th><th>unique_approx</th></tr><tr><td>u32</td><td>u32</td></tr></thead><tbody><tr><td>41</td><td>41</td></tr></tbody></table></div>"
      ],
      "text/plain": [
       "shape: (1, 2)\n",
       "┌────────┬───────────────┐\n",
       "│ unique ┆ unique_approx │\n",
       "│ ---    ┆ ---           │\n",
       "│ u32    ┆ u32           │\n",
       "╞════════╪═══════════════╡\n",
       "│ 41     ┆ 41            │\n",
       "└────────┴───────────────┘"
      ]
     },
     "execution_count": 150,
     "metadata": {},
     "output_type": "execute_result"
    }
   ],
   "source": [
    "df.select(\n",
    "    pl.col(\"year\").n_unique().alias(\"unique\"),\n",
    "    pl.approx_n_unique(\"year\").alias(\"unique_approx\")\n",
    ")\n"
   ]
  },
  {
   "cell_type": "code",
   "execution_count": null,
   "id": "e76d2741-a54b-49b4-b210-6ff72d3bcfc5",
   "metadata": {},
   "outputs": [],
   "source": []
  },
  {
   "cell_type": "markdown",
   "id": "8223ad58-8a70-480c-b1af-e602b90f402d",
   "metadata": {},
   "source": [
    "### Сложная фильтрация"
   ]
  },
  {
   "cell_type": "code",
   "execution_count": 151,
   "id": "e174e1ae-13da-443e-8180-702af95ba05d",
   "metadata": {},
   "outputs": [
    {
     "data": {
      "text/html": [
       "<div><style>\n",
       ".dataframe > thead > tr,\n",
       ".dataframe > tbody > tr {\n",
       "  text-align: right;\n",
       "  white-space: pre-wrap;\n",
       "}\n",
       "</style>\n",
       "<small>shape: (5, 3)</small><table border=\"1\" class=\"dataframe\"><thead><tr><th>price</th><th>year</th><th>type</th></tr><tr><td>f64</td><td>f64</td><td>str</td></tr></thead><tbody><tr><td>707.529256</td><td>2018.0</td><td>&quot;encyclopedia&quot;</td></tr><tr><td>1025.203348</td><td>1992.0</td><td>&quot;textbook&quot;</td></tr><tr><td>568.548657</td><td>1990.0</td><td>&quot;encyclopedia&quot;</td></tr><tr><td>895.109864</td><td>1995.0</td><td>&quot;newspaper&quot;</td></tr><tr><td>206.532754</td><td>1986.0</td><td>&quot;book&quot;</td></tr></tbody></table></div>"
      ],
      "text/plain": [
       "shape: (5, 3)\n",
       "┌─────────────┬────────┬──────────────┐\n",
       "│ price       ┆ year   ┆ type         │\n",
       "│ ---         ┆ ---    ┆ ---          │\n",
       "│ f64         ┆ f64    ┆ str          │\n",
       "╞═════════════╪════════╪══════════════╡\n",
       "│ 707.529256  ┆ 2018.0 ┆ encyclopedia │\n",
       "│ 1025.203348 ┆ 1992.0 ┆ textbook     │\n",
       "│ 568.548657  ┆ 1990.0 ┆ encyclopedia │\n",
       "│ 895.109864  ┆ 1995.0 ┆ newspaper    │\n",
       "│ 206.532754  ┆ 1986.0 ┆ book         │\n",
       "└─────────────┴────────┴──────────────┘"
      ]
     },
     "execution_count": 151,
     "metadata": {},
     "output_type": "execute_result"
    }
   ],
   "source": [
    "df.head()"
   ]
  },
  {
   "cell_type": "code",
   "execution_count": 153,
   "id": "dd197f01-c8bb-41a3-b626-d5aa951d2ee4",
   "metadata": {},
   "outputs": [
    {
     "data": {
      "text/html": [
       "<div><style>\n",
       ".dataframe > thead > tr,\n",
       ".dataframe > tbody > tr {\n",
       "  text-align: right;\n",
       "  white-space: pre-wrap;\n",
       "}\n",
       "</style>\n",
       "<small>shape: (6_026, 3)</small><table border=\"1\" class=\"dataframe\"><thead><tr><th>price</th><th>year</th><th>type</th></tr><tr><td>f64</td><td>f64</td><td>str</td></tr></thead><tbody><tr><td>1025.203348</td><td>1992.0</td><td>&quot;textbook&quot;</td></tr><tr><td>735.857274</td><td>1992.0</td><td>&quot;textbook&quot;</td></tr><tr><td>3795.412485</td><td>1998.0</td><td>&quot;textbook&quot;</td></tr><tr><td>2494.996707</td><td>2020.0</td><td>&quot;textbook&quot;</td></tr><tr><td>884.278757</td><td>2004.0</td><td>&quot;textbook&quot;</td></tr><tr><td>&hellip;</td><td>&hellip;</td><td>&hellip;</td></tr><tr><td>574.49876</td><td>2019.0</td><td>&quot;textbook&quot;</td></tr><tr><td>1491.756446</td><td>2011.0</td><td>&quot;textbook&quot;</td></tr><tr><td>917.92409</td><td>1993.0</td><td>&quot;textbook&quot;</td></tr><tr><td>768.022124</td><td>1996.0</td><td>&quot;textbook&quot;</td></tr><tr><td>1145.045726</td><td>1986.0</td><td>&quot;textbook&quot;</td></tr></tbody></table></div>"
      ],
      "text/plain": [
       "shape: (6_026, 3)\n",
       "┌─────────────┬────────┬──────────┐\n",
       "│ price       ┆ year   ┆ type     │\n",
       "│ ---         ┆ ---    ┆ ---      │\n",
       "│ f64         ┆ f64    ┆ str      │\n",
       "╞═════════════╪════════╪══════════╡\n",
       "│ 1025.203348 ┆ 1992.0 ┆ textbook │\n",
       "│ 735.857274  ┆ 1992.0 ┆ textbook │\n",
       "│ 3795.412485 ┆ 1998.0 ┆ textbook │\n",
       "│ 2494.996707 ┆ 2020.0 ┆ textbook │\n",
       "│ 884.278757  ┆ 2004.0 ┆ textbook │\n",
       "│ …           ┆ …      ┆ …        │\n",
       "│ 574.49876   ┆ 2019.0 ┆ textbook │\n",
       "│ 1491.756446 ┆ 2011.0 ┆ textbook │\n",
       "│ 917.92409   ┆ 1993.0 ┆ textbook │\n",
       "│ 768.022124  ┆ 1996.0 ┆ textbook │\n",
       "│ 1145.045726 ┆ 1986.0 ┆ textbook │\n",
       "└─────────────┴────────┴──────────┘"
      ]
     },
     "execution_count": 153,
     "metadata": {},
     "output_type": "execute_result"
    }
   ],
   "source": [
    "df.filter(\n",
    "    (pl.col(\"price\") > 500) & \n",
    "    (pl.col(\"type\") == \"textbook\")\n",
    ")"
   ]
  },
  {
   "cell_type": "code",
   "execution_count": 154,
   "id": "5a68786e-6fc6-43c4-82f5-a1cbbe1bcbc2",
   "metadata": {},
   "outputs": [
    {
     "data": {
      "text/html": [
       "<div><style>\n",
       ".dataframe > thead > tr,\n",
       ".dataframe > tbody > tr {\n",
       "  text-align: right;\n",
       "  white-space: pre-wrap;\n",
       "}\n",
       "</style>\n",
       "<small>shape: (39_966, 3)</small><table border=\"1\" class=\"dataframe\"><thead><tr><th>price</th><th>year</th><th>type</th></tr><tr><td>f64</td><td>f64</td><td>str</td></tr></thead><tbody><tr><td>707.529256</td><td>2018.0</td><td>&quot;encyclopedia&quot;</td></tr><tr><td>568.548657</td><td>1990.0</td><td>&quot;encyclopedia&quot;</td></tr><tr><td>895.109864</td><td>1995.0</td><td>&quot;newspaper&quot;</td></tr><tr><td>206.532754</td><td>1986.0</td><td>&quot;book&quot;</td></tr><tr><td>3383.637351</td><td>1995.0</td><td>&quot;magazine&quot;</td></tr><tr><td>&hellip;</td><td>&hellip;</td><td>&hellip;</td></tr><tr><td>2178.280054</td><td>2003.0</td><td>&quot;encyclopedia&quot;</td></tr><tr><td>1528.844126</td><td>2008.0</td><td>&quot;magazine&quot;</td></tr><tr><td>813.274714</td><td>2022.0</td><td>&quot;newspaper&quot;</td></tr><tr><td>475.132386</td><td>2006.0</td><td>&quot;encyclopedia&quot;</td></tr><tr><td>121.605306</td><td>2021.0</td><td>&quot;book&quot;</td></tr></tbody></table></div>"
      ],
      "text/plain": [
       "shape: (39_966, 3)\n",
       "┌─────────────┬────────┬──────────────┐\n",
       "│ price       ┆ year   ┆ type         │\n",
       "│ ---         ┆ ---    ┆ ---          │\n",
       "│ f64         ┆ f64    ┆ str          │\n",
       "╞═════════════╪════════╪══════════════╡\n",
       "│ 707.529256  ┆ 2018.0 ┆ encyclopedia │\n",
       "│ 568.548657  ┆ 1990.0 ┆ encyclopedia │\n",
       "│ 895.109864  ┆ 1995.0 ┆ newspaper    │\n",
       "│ 206.532754  ┆ 1986.0 ┆ book         │\n",
       "│ 3383.637351 ┆ 1995.0 ┆ magazine     │\n",
       "│ …           ┆ …      ┆ …            │\n",
       "│ 2178.280054 ┆ 2003.0 ┆ encyclopedia │\n",
       "│ 1528.844126 ┆ 2008.0 ┆ magazine     │\n",
       "│ 813.274714  ┆ 2022.0 ┆ newspaper    │\n",
       "│ 475.132386  ┆ 2006.0 ┆ encyclopedia │\n",
       "│ 121.605306  ┆ 2021.0 ┆ book         │\n",
       "└─────────────┴────────┴──────────────┘"
      ]
     },
     "execution_count": 154,
     "metadata": {},
     "output_type": "execute_result"
    }
   ],
   "source": [
    "df.filter(~(pl.col(\"type\") == \"textbook\"))"
   ]
  },
  {
   "cell_type": "markdown",
   "id": "bc343867-d34d-478a-9b5b-112cae44f84c",
   "metadata": {},
   "source": [
    "Использование функций для фильтрации"
   ]
  },
  {
   "cell_type": "code",
   "execution_count": 157,
   "id": "15213b6d-ff1e-446c-853b-8a42c9d59e2b",
   "metadata": {},
   "outputs": [],
   "source": [
    "def is_adult(age): \n",
    "    return age >= 500"
   ]
  },
  {
   "cell_type": "code",
   "execution_count": 158,
   "id": "72d897df-914e-45e5-b9b6-180934cb1348",
   "metadata": {},
   "outputs": [
    {
     "data": {
      "text/html": [
       "<div><style>\n",
       ".dataframe > thead > tr,\n",
       ".dataframe > tbody > tr {\n",
       "  text-align: right;\n",
       "  white-space: pre-wrap;\n",
       "}\n",
       "</style>\n",
       "<small>shape: (30_389, 3)</small><table border=\"1\" class=\"dataframe\"><thead><tr><th>price</th><th>year</th><th>type</th></tr><tr><td>f64</td><td>f64</td><td>str</td></tr></thead><tbody><tr><td>707.529256</td><td>2018.0</td><td>&quot;encyclopedia&quot;</td></tr><tr><td>1025.203348</td><td>1992.0</td><td>&quot;textbook&quot;</td></tr><tr><td>568.548657</td><td>1990.0</td><td>&quot;encyclopedia&quot;</td></tr><tr><td>895.109864</td><td>1995.0</td><td>&quot;newspaper&quot;</td></tr><tr><td>3383.637351</td><td>1995.0</td><td>&quot;magazine&quot;</td></tr><tr><td>&hellip;</td><td>&hellip;</td><td>&hellip;</td></tr><tr><td>1426.939859</td><td>2019.0</td><td>&quot;newspaper&quot;</td></tr><tr><td>2178.280054</td><td>2003.0</td><td>&quot;encyclopedia&quot;</td></tr><tr><td>1528.844126</td><td>2008.0</td><td>&quot;magazine&quot;</td></tr><tr><td>813.274714</td><td>2022.0</td><td>&quot;newspaper&quot;</td></tr><tr><td>1145.045726</td><td>1986.0</td><td>&quot;textbook&quot;</td></tr></tbody></table></div>"
      ],
      "text/plain": [
       "shape: (30_389, 3)\n",
       "┌─────────────┬────────┬──────────────┐\n",
       "│ price       ┆ year   ┆ type         │\n",
       "│ ---         ┆ ---    ┆ ---          │\n",
       "│ f64         ┆ f64    ┆ str          │\n",
       "╞═════════════╪════════╪══════════════╡\n",
       "│ 707.529256  ┆ 2018.0 ┆ encyclopedia │\n",
       "│ 1025.203348 ┆ 1992.0 ┆ textbook     │\n",
       "│ 568.548657  ┆ 1990.0 ┆ encyclopedia │\n",
       "│ 895.109864  ┆ 1995.0 ┆ newspaper    │\n",
       "│ 3383.637351 ┆ 1995.0 ┆ magazine     │\n",
       "│ …           ┆ …      ┆ …            │\n",
       "│ 1426.939859 ┆ 2019.0 ┆ newspaper    │\n",
       "│ 2178.280054 ┆ 2003.0 ┆ encyclopedia │\n",
       "│ 1528.844126 ┆ 2008.0 ┆ magazine     │\n",
       "│ 813.274714  ┆ 2022.0 ┆ newspaper    │\n",
       "│ 1145.045726 ┆ 1986.0 ┆ textbook     │\n",
       "└─────────────┴────────┴──────────────┘"
      ]
     },
     "execution_count": 158,
     "metadata": {},
     "output_type": "execute_result"
    }
   ],
   "source": [
    "df.filter(is_adult(pl.col(\"price\")))"
   ]
  },
  {
   "cell_type": "markdown",
   "id": "b9027d88-913f-4a1b-a9d7-a4f29e14d022",
   "metadata": {},
   "source": [
    "Цепочка фильтров"
   ]
  },
  {
   "cell_type": "code",
   "execution_count": 160,
   "id": "e1e79e9e-627c-46c5-9b29-af691b9edf38",
   "metadata": {},
   "outputs": [
    {
     "data": {
      "text/html": [
       "<div><style>\n",
       ".dataframe > thead > tr,\n",
       ".dataframe > tbody > tr {\n",
       "  text-align: right;\n",
       "  white-space: pre-wrap;\n",
       "}\n",
       "</style>\n",
       "<small>shape: (21_432, 3)</small><table border=\"1\" class=\"dataframe\"><thead><tr><th>price</th><th>year</th><th>type</th></tr><tr><td>f64</td><td>f64</td><td>str</td></tr></thead><tbody><tr><td>707.529256</td><td>2018.0</td><td>&quot;encyclopedia&quot;</td></tr><tr><td>541.135894</td><td>2009.0</td><td>&quot;magazine&quot;</td></tr><tr><td>899.770155</td><td>2017.0</td><td>&quot;book&quot;</td></tr><tr><td>1073.700662</td><td>2023.0</td><td>&quot;encyclopedia&quot;</td></tr><tr><td>1884.250052</td><td>2021.0</td><td>&quot;encyclopedia&quot;</td></tr><tr><td>&hellip;</td><td>&hellip;</td><td>&hellip;</td></tr><tr><td>556.339079</td><td>2011.0</td><td>&quot;newspaper&quot;</td></tr><tr><td>1426.939859</td><td>2019.0</td><td>&quot;newspaper&quot;</td></tr><tr><td>2178.280054</td><td>2003.0</td><td>&quot;encyclopedia&quot;</td></tr><tr><td>1528.844126</td><td>2008.0</td><td>&quot;magazine&quot;</td></tr><tr><td>813.274714</td><td>2022.0</td><td>&quot;newspaper&quot;</td></tr></tbody></table></div>"
      ],
      "text/plain": [
       "shape: (21_432, 3)\n",
       "┌─────────────┬────────┬──────────────┐\n",
       "│ price       ┆ year   ┆ type         │\n",
       "│ ---         ┆ ---    ┆ ---          │\n",
       "│ f64         ┆ f64    ┆ str          │\n",
       "╞═════════════╪════════╪══════════════╡\n",
       "│ 707.529256  ┆ 2018.0 ┆ encyclopedia │\n",
       "│ 541.135894  ┆ 2009.0 ┆ magazine     │\n",
       "│ 899.770155  ┆ 2017.0 ┆ book         │\n",
       "│ 1073.700662 ┆ 2023.0 ┆ encyclopedia │\n",
       "│ 1884.250052 ┆ 2021.0 ┆ encyclopedia │\n",
       "│ …           ┆ …      ┆ …            │\n",
       "│ 556.339079  ┆ 2011.0 ┆ newspaper    │\n",
       "│ 1426.939859 ┆ 2019.0 ┆ newspaper    │\n",
       "│ 2178.280054 ┆ 2003.0 ┆ encyclopedia │\n",
       "│ 1528.844126 ┆ 2008.0 ┆ magazine     │\n",
       "│ 813.274714  ┆ 2022.0 ┆ newspaper    │\n",
       "└─────────────┴────────┴──────────────┘"
      ]
     },
     "execution_count": 160,
     "metadata": {},
     "output_type": "execute_result"
    }
   ],
   "source": [
    "df.filter(\n",
    "    is_adult(pl.col(\"price\"))\n",
    ").filter(pl.col('year') > 1995)"
   ]
  },
  {
   "cell_type": "markdown",
   "id": "60c32c3b-7553-489c-93f8-4b6f16573017",
   "metadata": {},
   "source": [
    "### Условия"
   ]
  },
  {
   "cell_type": "code",
   "execution_count": 162,
   "id": "37771a5e-874b-42c4-b855-b52b069893cf",
   "metadata": {},
   "outputs": [
    {
     "data": {
      "text/html": [
       "<div><style>\n",
       ".dataframe > thead > tr,\n",
       ".dataframe > tbody > tr {\n",
       "  text-align: right;\n",
       "  white-space: pre-wrap;\n",
       "}\n",
       "</style>\n",
       "<small>shape: (50_000, 2)</small><table border=\"1\" class=\"dataframe\"><thead><tr><th>year</th><th>conditional</th></tr><tr><td>f64</td><td>bool</td></tr></thead><tbody><tr><td>2018.0</td><td>true</td></tr><tr><td>1992.0</td><td>false</td></tr><tr><td>1990.0</td><td>false</td></tr><tr><td>1995.0</td><td>false</td></tr><tr><td>1986.0</td><td>false</td></tr><tr><td>&hellip;</td><td>&hellip;</td></tr><tr><td>2008.0</td><td>false</td></tr><tr><td>2022.0</td><td>true</td></tr><tr><td>1986.0</td><td>false</td></tr><tr><td>2006.0</td><td>false</td></tr><tr><td>2021.0</td><td>true</td></tr></tbody></table></div>"
      ],
      "text/plain": [
       "shape: (50_000, 2)\n",
       "┌────────┬─────────────┐\n",
       "│ year   ┆ conditional │\n",
       "│ ---    ┆ ---         │\n",
       "│ f64    ┆ bool        │\n",
       "╞════════╪═════════════╡\n",
       "│ 2018.0 ┆ true        │\n",
       "│ 1992.0 ┆ false       │\n",
       "│ 1990.0 ┆ false       │\n",
       "│ 1995.0 ┆ false       │\n",
       "│ 1986.0 ┆ false       │\n",
       "│ …      ┆ …           │\n",
       "│ 2008.0 ┆ false       │\n",
       "│ 2022.0 ┆ true        │\n",
       "│ 1986.0 ┆ false       │\n",
       "│ 2006.0 ┆ false       │\n",
       "│ 2021.0 ┆ true        │\n",
       "└────────┴─────────────┘"
      ]
     },
     "execution_count": 162,
     "metadata": {},
     "output_type": "execute_result"
    }
   ],
   "source": [
    "df.select( \n",
    "    pl.col(\"year\"), \n",
    "    pl.when(pl.col(\"year\") > 2014) \n",
    "        .then(pl.lit(True)) \n",
    "        .otherwise(pl.lit(False)) \n",
    "        .alias(\"conditional\"),\n",
    ")"
   ]
  },
  {
   "cell_type": "code",
   "execution_count": null,
   "id": "cc6077f0-5371-4566-83e2-3c8e5c679a30",
   "metadata": {},
   "outputs": [],
   "source": []
  },
  {
   "cell_type": "markdown",
   "id": "3028592e-8acf-4145-bafb-2c0a11730548",
   "metadata": {},
   "source": [
    "### Практическое задание 3\n",
    "1. Подгрузите датасет с кредитной историей\n",
    "2. Составьте цепочку фильтров. Сначала заберите все кредиты, которые относятся к классу \"Short term\", затесм оставьте внутри них только тех клиентов, чей кредитный рейтинг более 700. Сосчитайте кол-во строк в данном датасете\n",
    "3. Подгрузите датасет заного. Создайте булевую колонку основываясь на Purpose. Создайте условие, по которому значение true будет проставлено для тех клиентов, которые взяли кредит под \"Home Improvements\" с ежемесячным долгом в более чем 8000 долларов\n",
    "4. Сосчитайте, сколько всего клиентов из п.3 присутствует в данных"
   ]
  },
  {
   "cell_type": "code",
   "execution_count": null,
   "id": "502ad87b-928a-4cd9-9de8-ac4e0b0696b7",
   "metadata": {},
   "outputs": [],
   "source": []
  },
  {
   "cell_type": "code",
   "execution_count": null,
   "id": "f87596de-8905-4ff0-a728-f6e0ed6bfdac",
   "metadata": {},
   "outputs": [],
   "source": []
  },
  {
   "cell_type": "code",
   "execution_count": null,
   "id": "19631c7c-5ec4-4887-ae78-093bfc9e4890",
   "metadata": {},
   "outputs": [],
   "source": []
  },
  {
   "cell_type": "code",
   "execution_count": null,
   "id": "f336c39f-0de7-487f-84a1-b2890db168a0",
   "metadata": {},
   "outputs": [],
   "source": []
  },
  {
   "cell_type": "markdown",
   "id": "e4744987-2c7e-42a9-b34a-9dabd00d0e2f",
   "metadata": {},
   "source": [
    "### Разбор ДЗ№7"
   ]
  },
  {
   "cell_type": "markdown",
   "id": "1ee472a8-58fa-480d-b6d1-971a3b6babd6",
   "metadata": {},
   "source": [
    "1. Совмещение двух графиков\n",
    "Изобразите на одной системе координат графики функций y=sin(x) и y=log(x+1). Используйте две оси Y: одну для первого графика, и вторую для другого."
   ]
  },
  {
   "cell_type": "code",
   "execution_count": 25,
   "id": "e43da975-0fff-4de6-b423-72331528f587",
   "metadata": {},
   "outputs": [],
   "source": [
    "import numpy as np\n",
    "import pandas as pd\n",
    "import matplotlib.pyplot as plt\n",
    "import seaborn as sns"
   ]
  },
  {
   "cell_type": "code",
   "execution_count": 2,
   "id": "57ba9582-43c8-4f7b-b357-c9699fb950a3",
   "metadata": {},
   "outputs": [],
   "source": [
    "x = np.linspace(0, 10, 100)\n",
    "y1 = np.sin(x)\n",
    "y2 = np.log(x + 1)"
   ]
  },
  {
   "cell_type": "code",
   "execution_count": 17,
   "id": "b008530f-148f-43b4-8308-55230639a6f6",
   "metadata": {},
   "outputs": [
    {
     "data": {
      "image/png": "[encoded data removed]",
      "text/plain": [
       "<Figure size 640x480 with 2 Axes>"
      ]
     },
     "metadata": {},
     "output_type": "display_data"
    }
   ],
   "source": [
    "fig, ax1 = plt.subplots()\n",
    "\n",
    "ax1.plot(x, y1, 'b-', label='y=sin(x)')\n",
    "ax1.set_xlabel('x')\n",
    "ax1.set_ylabel('y=sin(x)', color='b')\n",
    "ax1.tick_params('y', colors='b')\n",
    "\n",
    "ax2 = ax1.twinx()\n",
    "ax2.plot(x, y2, 'r-', label='y=log(x+1)')\n",
    "ax2.set_ylabel('y=log(x+1)', color='r')\n",
    "ax2.tick_params('y', colors='r')\n",
    "\n",
    "fig.tight_layout()\n",
    "plt.title('Графики y=sin(x) и y=log(x+1) на одной системе координат')\n",
    "plt.show()"
   ]
  },
  {
   "cell_type": "markdown",
   "id": "7aa129e9-97ae-4a2e-8257-f60fefe1e90e",
   "metadata": {},
   "source": [
    "2. В датафрейме ниже представлены результаты соревнований: для каждого игрока указано  набранное количество очков в нескольких попытках.\n",
    "data = {\n",
    "\n",
    "    'Name': ['Анна', 'Антон', 'Мария', 'Макс', 'Макс', 'Алекс', 'Антон', 'Мария', 'Макс', 'Алекс', 'Антон', 'Анна'],\n",
    "\n",
    "     'Points': [145, 2524, 343, 4212, 5212, 6421, 745, 842, 524, 3224, 212, 1214]      \n",
    "\n",
    "}\n",
    "\n",
    "Создайте из этих данных датафрейм. Сгруппируйте данные по имени игроков. Методом plot() для датафреймов постройте график минимальных, максимальных и средних очков каждого игрока на одной системе координат."
   ]
  },
  {
   "cell_type": "code",
   "execution_count": 18,
   "id": "55cee75d-aa4c-4abe-8f82-48c6ace08392",
   "metadata": {},
   "outputs": [
    {
     "data": {
      "text/html": [
       "<div>\n",
       "<style scoped>\n",
       "    .dataframe tbody tr th:only-of-type {\n",
       "        vertical-align: middle;\n",
       "    }\n",
       "\n",
       "    .dataframe tbody tr th {\n",
       "        vertical-align: top;\n",
       "    }\n",
       "\n",
       "    .dataframe thead th {\n",
       "        text-align: right;\n",
       "    }\n",
       "</style>\n",
       "<table border=\"1\" class=\"dataframe\">\n",
       "  <thead>\n",
       "    <tr style=\"text-align: right;\">\n",
       "      <th></th>\n",
       "      <th>Name</th>\n",
       "      <th>Points</th>\n",
       "    </tr>\n",
       "  </thead>\n",
       "  <tbody>\n",
       "    <tr>\n",
       "      <th>0</th>\n",
       "      <td>Анна</td>\n",
       "      <td>145</td>\n",
       "    </tr>\n",
       "    <tr>\n",
       "      <th>1</th>\n",
       "      <td>Антон</td>\n",
       "      <td>2524</td>\n",
       "    </tr>\n",
       "    <tr>\n",
       "      <th>2</th>\n",
       "      <td>Мария</td>\n",
       "      <td>343</td>\n",
       "    </tr>\n",
       "    <tr>\n",
       "      <th>3</th>\n",
       "      <td>Макс</td>\n",
       "      <td>4212</td>\n",
       "    </tr>\n",
       "    <tr>\n",
       "      <th>4</th>\n",
       "      <td>Макс</td>\n",
       "      <td>5212</td>\n",
       "    </tr>\n",
       "    <tr>\n",
       "      <th>5</th>\n",
       "      <td>Алекс</td>\n",
       "      <td>6421</td>\n",
       "    </tr>\n",
       "    <tr>\n",
       "      <th>6</th>\n",
       "      <td>Антон</td>\n",
       "      <td>745</td>\n",
       "    </tr>\n",
       "    <tr>\n",
       "      <th>7</th>\n",
       "      <td>Мария</td>\n",
       "      <td>842</td>\n",
       "    </tr>\n",
       "    <tr>\n",
       "      <th>8</th>\n",
       "      <td>Макс</td>\n",
       "      <td>524</td>\n",
       "    </tr>\n",
       "    <tr>\n",
       "      <th>9</th>\n",
       "      <td>Алекс</td>\n",
       "      <td>3224</td>\n",
       "    </tr>\n",
       "    <tr>\n",
       "      <th>10</th>\n",
       "      <td>Антон</td>\n",
       "      <td>212</td>\n",
       "    </tr>\n",
       "    <tr>\n",
       "      <th>11</th>\n",
       "      <td>Анна</td>\n",
       "      <td>1214</td>\n",
       "    </tr>\n",
       "  </tbody>\n",
       "</table>\n",
       "</div>"
      ],
      "text/plain": [
       "     Name  Points\n",
       "0    Анна     145\n",
       "1   Антон    2524\n",
       "2   Мария     343\n",
       "3    Макс    4212\n",
       "4    Макс    5212\n",
       "5   Алекс    6421\n",
       "6   Антон     745\n",
       "7   Мария     842\n",
       "8    Макс     524\n",
       "9   Алекс    3224\n",
       "10  Антон     212\n",
       "11   Анна    1214"
      ]
     },
     "execution_count": 18,
     "metadata": {},
     "output_type": "execute_result"
    }
   ],
   "source": [
    "data = {\n",
    "    'Name': ['Анна', 'Антон', 'Мария', 'Макс', 'Макс', 'Алекс', 'Антон', 'Мария', 'Макс', 'Алекс', 'Антон', 'Анна'],\n",
    "    'Points': [145, 2524, 343, 4212, 5212, 6421, 745, 842, 524, 3224, 212, 1214]\n",
    "}\n",
    "\n",
    "df = pd.DataFrame(data)\n",
    "df"
   ]
  },
  {
   "cell_type": "code",
   "execution_count": 19,
   "id": "3955eef6-5d08-4822-8f45-0cdf30eda8a7",
   "metadata": {},
   "outputs": [
    {
     "data": {
      "text/html": [
       "<div>\n",
       "<style scoped>\n",
       "    .dataframe tbody tr th:only-of-type {\n",
       "        vertical-align: middle;\n",
       "    }\n",
       "\n",
       "    .dataframe tbody tr th {\n",
       "        vertical-align: top;\n",
       "    }\n",
       "\n",
       "    .dataframe thead tr th {\n",
       "        text-align: left;\n",
       "    }\n",
       "\n",
       "    .dataframe thead tr:last-of-type th {\n",
       "        text-align: right;\n",
       "    }\n",
       "</style>\n",
       "<table border=\"1\" class=\"dataframe\">\n",
       "  <thead>\n",
       "    <tr>\n",
       "      <th></th>\n",
       "      <th colspan=\"3\" halign=\"left\">Points</th>\n",
       "    </tr>\n",
       "    <tr>\n",
       "      <th></th>\n",
       "      <th>min</th>\n",
       "      <th>max</th>\n",
       "      <th>mean</th>\n",
       "    </tr>\n",
       "    <tr>\n",
       "      <th>Name</th>\n",
       "      <th></th>\n",
       "      <th></th>\n",
       "      <th></th>\n",
       "    </tr>\n",
       "  </thead>\n",
       "  <tbody>\n",
       "    <tr>\n",
       "      <th>Алекс</th>\n",
       "      <td>3224</td>\n",
       "      <td>6421</td>\n",
       "      <td>4822.500000</td>\n",
       "    </tr>\n",
       "    <tr>\n",
       "      <th>Анна</th>\n",
       "      <td>145</td>\n",
       "      <td>1214</td>\n",
       "      <td>679.500000</td>\n",
       "    </tr>\n",
       "    <tr>\n",
       "      <th>Антон</th>\n",
       "      <td>212</td>\n",
       "      <td>2524</td>\n",
       "      <td>1160.333333</td>\n",
       "    </tr>\n",
       "    <tr>\n",
       "      <th>Макс</th>\n",
       "      <td>524</td>\n",
       "      <td>5212</td>\n",
       "      <td>3316.000000</td>\n",
       "    </tr>\n",
       "    <tr>\n",
       "      <th>Мария</th>\n",
       "      <td>343</td>\n",
       "      <td>842</td>\n",
       "      <td>592.500000</td>\n",
       "    </tr>\n",
       "  </tbody>\n",
       "</table>\n",
       "</div>"
      ],
      "text/plain": [
       "      Points                   \n",
       "         min   max         mean\n",
       "Name                           \n",
       "Алекс   3224  6421  4822.500000\n",
       "Анна     145  1214   679.500000\n",
       "Антон    212  2524  1160.333333\n",
       "Макс     524  5212  3316.000000\n",
       "Мария    343   842   592.500000"
      ]
     },
     "execution_count": 19,
     "metadata": {},
     "output_type": "execute_result"
    }
   ],
   "source": [
    "grouped = df.groupby('Name').agg(['min', 'max', 'mean'])\n",
    "grouped"
   ]
  },
  {
   "cell_type": "code",
   "execution_count": 23,
   "id": "6c014677-e5dd-4caf-96b8-a7004f964a40",
   "metadata": {},
   "outputs": [
    {
     "data": {
      "image/png": "[encoded data removed]",
      "text/plain": [
       "<Figure size 1200x600 with 1 Axes>"
      ]
     },
     "metadata": {},
     "output_type": "display_data"
    }
   ],
   "source": [
    "ax = grouped.plot(kind='line', y='Points', marker='o', figsize=(12, 6))\n",
    "ax.set_xlabel('Имя игрока')\n",
    "ax.set_ylabel('Очки')\n",
    "ax.set_title('Минимальные, максимальные и средние очки каждого игрока')\n",
    "plt.xticks(rotation=45)\n",
    "plt.grid(True)\n",
    "plt.show()"
   ]
  },
  {
   "cell_type": "code",
   "execution_count": null,
   "id": "c7ff1afe-773e-446f-bb94-e834f7bb0225",
   "metadata": {},
   "outputs": [],
   "source": []
  },
  {
   "cell_type": "markdown",
   "id": "6e2b5901-a6f8-40bb-97a4-8e88a2ca69aa",
   "metadata": {},
   "source": [
    "### Разбор ДЗ№8"
   ]
  },
  {
   "cell_type": "markdown",
   "id": "62427f9d-6aad-44e0-9a43-9653b0ac80ac",
   "metadata": {},
   "source": [
    "1. barplot\n",
    "Импортируйте seaborn и скачате датасет fmri. Этот набор данных содержит данные функциональной магнитно-резонансного томографии (fMRI) из эксперимента, в котором испытуемые выполняли задания на восприятие языка. Отобразите первые 5 строчек датафрейма. Визуализируйте эффект типа события. Для этого постройте barplot, отображающий среднее значение display для каждого события в момент времени timepoint=5. Не забудьте назвать график."
   ]
  },
  {
   "cell_type": "code",
   "execution_count": 26,
   "id": "770512ad-ae6f-42a9-9b83-4fe3245325cd",
   "metadata": {},
   "outputs": [
    {
     "data": {
      "text/html": [
       "<div>\n",
       "<style scoped>\n",
       "    .dataframe tbody tr th:only-of-type {\n",
       "        vertical-align: middle;\n",
       "    }\n",
       "\n",
       "    .dataframe tbody tr th {\n",
       "        vertical-align: top;\n",
       "    }\n",
       "\n",
       "    .dataframe thead th {\n",
       "        text-align: right;\n",
       "    }\n",
       "</style>\n",
       "<table border=\"1\" class=\"dataframe\">\n",
       "  <thead>\n",
       "    <tr style=\"text-align: right;\">\n",
       "      <th></th>\n",
       "      <th>subject</th>\n",
       "      <th>timepoint</th>\n",
       "      <th>event</th>\n",
       "      <th>region</th>\n",
       "      <th>signal</th>\n",
       "    </tr>\n",
       "  </thead>\n",
       "  <tbody>\n",
       "    <tr>\n",
       "      <th>0</th>\n",
       "      <td>s13</td>\n",
       "      <td>18</td>\n",
       "      <td>stim</td>\n",
       "      <td>parietal</td>\n",
       "      <td>-0.017552</td>\n",
       "    </tr>\n",
       "    <tr>\n",
       "      <th>1</th>\n",
       "      <td>s5</td>\n",
       "      <td>14</td>\n",
       "      <td>stim</td>\n",
       "      <td>parietal</td>\n",
       "      <td>-0.080883</td>\n",
       "    </tr>\n",
       "    <tr>\n",
       "      <th>2</th>\n",
       "      <td>s12</td>\n",
       "      <td>18</td>\n",
       "      <td>stim</td>\n",
       "      <td>parietal</td>\n",
       "      <td>-0.081033</td>\n",
       "    </tr>\n",
       "    <tr>\n",
       "      <th>3</th>\n",
       "      <td>s11</td>\n",
       "      <td>18</td>\n",
       "      <td>stim</td>\n",
       "      <td>parietal</td>\n",
       "      <td>-0.046134</td>\n",
       "    </tr>\n",
       "    <tr>\n",
       "      <th>4</th>\n",
       "      <td>s10</td>\n",
       "      <td>18</td>\n",
       "      <td>stim</td>\n",
       "      <td>parietal</td>\n",
       "      <td>-0.037970</td>\n",
       "    </tr>\n",
       "  </tbody>\n",
       "</table>\n",
       "</div>"
      ],
      "text/plain": [
       "  subject  timepoint event    region    signal\n",
       "0     s13         18  stim  parietal -0.017552\n",
       "1      s5         14  stim  parietal -0.080883\n",
       "2     s12         18  stim  parietal -0.081033\n",
       "3     s11         18  stim  parietal -0.046134\n",
       "4     s10         18  stim  parietal -0.037970"
      ]
     },
     "execution_count": 26,
     "metadata": {},
     "output_type": "execute_result"
    }
   ],
   "source": [
    "fmri = sns.load_dataset(\"fmri\")\n",
    "fmri.head()"
   ]
  },
  {
   "cell_type": "code",
   "execution_count": 27,
   "id": "43940bf8-e4ca-4416-84eb-d82b4caf13b0",
   "metadata": {},
   "outputs": [
    {
     "data": {
      "text/html": [
       "<div>\n",
       "<style scoped>\n",
       "    .dataframe tbody tr th:only-of-type {\n",
       "        vertical-align: middle;\n",
       "    }\n",
       "\n",
       "    .dataframe tbody tr th {\n",
       "        vertical-align: top;\n",
       "    }\n",
       "\n",
       "    .dataframe thead th {\n",
       "        text-align: right;\n",
       "    }\n",
       "</style>\n",
       "<table border=\"1\" class=\"dataframe\">\n",
       "  <thead>\n",
       "    <tr style=\"text-align: right;\">\n",
       "      <th></th>\n",
       "      <th>subject</th>\n",
       "      <th>timepoint</th>\n",
       "      <th>event</th>\n",
       "      <th>region</th>\n",
       "      <th>signal</th>\n",
       "    </tr>\n",
       "  </thead>\n",
       "  <tbody>\n",
       "    <tr>\n",
       "      <th>169</th>\n",
       "      <td>s12</td>\n",
       "      <td>5</td>\n",
       "      <td>stim</td>\n",
       "      <td>parietal</td>\n",
       "      <td>0.248138</td>\n",
       "    </tr>\n",
       "    <tr>\n",
       "      <th>184</th>\n",
       "      <td>s13</td>\n",
       "      <td>5</td>\n",
       "      <td>stim</td>\n",
       "      <td>parietal</td>\n",
       "      <td>0.252627</td>\n",
       "    </tr>\n",
       "    <tr>\n",
       "      <th>185</th>\n",
       "      <td>s6</td>\n",
       "      <td>5</td>\n",
       "      <td>stim</td>\n",
       "      <td>parietal</td>\n",
       "      <td>0.239175</td>\n",
       "    </tr>\n",
       "    <tr>\n",
       "      <th>186</th>\n",
       "      <td>s11</td>\n",
       "      <td>5</td>\n",
       "      <td>stim</td>\n",
       "      <td>parietal</td>\n",
       "      <td>0.194215</td>\n",
       "    </tr>\n",
       "    <tr>\n",
       "      <th>187</th>\n",
       "      <td>s10</td>\n",
       "      <td>5</td>\n",
       "      <td>stim</td>\n",
       "      <td>parietal</td>\n",
       "      <td>0.253871</td>\n",
       "    </tr>\n",
       "  </tbody>\n",
       "</table>\n",
       "</div>"
      ],
      "text/plain": [
       "    subject  timepoint event    region    signal\n",
       "169     s12          5  stim  parietal  0.248138\n",
       "184     s13          5  stim  parietal  0.252627\n",
       "185      s6          5  stim  parietal  0.239175\n",
       "186     s11          5  stim  parietal  0.194215\n",
       "187     s10          5  stim  parietal  0.253871"
      ]
     },
     "execution_count": 27,
     "metadata": {},
     "output_type": "execute_result"
    }
   ],
   "source": [
    "fmri = fmri[\n",
    "    fmri['timepoint'] == 5]\n",
    "fmri.head()"
   ]
  },
  {
   "cell_type": "code",
   "execution_count": 28,
   "id": "b336a32a-34b3-44af-9310-1139fa063364",
   "metadata": {},
   "outputs": [
    {
     "data": {
      "image/png": "[encoded data removed]",
      "text/plain": [
       "<Figure size 640x480 with 1 Axes>"
      ]
     },
     "metadata": {},
     "output_type": "display_data"
    }
   ],
   "source": [
    "sns.barplot(x=\"event\", y=\"signal\", data=fmri)\n",
    "plt.title('Эффект типа события в момент времени timepoint=5')\n",
    "plt.xlabel('Тип события')\n",
    "plt.ylabel('Среднее значение сигнала')\n",
    "plt.show()"
   ]
  },
  {
   "cell_type": "markdown",
   "id": "39433e5e-1c28-41b7-8832-fdcb69d3a3ac",
   "metadata": {},
   "source": [
    "2. Изучите влияние области на результаты томографии. Отобразите с помощью pointplot средний сигнал в каждый момент времени в зависимости от области снятия показателей. Не забудьте назвать график."
   ]
  },
  {
   "cell_type": "code",
   "execution_count": 30,
   "id": "d57479b2-d4f5-49b7-a0ce-0dd4678f15d7",
   "metadata": {},
   "outputs": [
    {
     "data": {
      "text/html": [
       "<div>\n",
       "<style scoped>\n",
       "    .dataframe tbody tr th:only-of-type {\n",
       "        vertical-align: middle;\n",
       "    }\n",
       "\n",
       "    .dataframe tbody tr th {\n",
       "        vertical-align: top;\n",
       "    }\n",
       "\n",
       "    .dataframe thead th {\n",
       "        text-align: right;\n",
       "    }\n",
       "</style>\n",
       "<table border=\"1\" class=\"dataframe\">\n",
       "  <thead>\n",
       "    <tr style=\"text-align: right;\">\n",
       "      <th></th>\n",
       "      <th>subject</th>\n",
       "      <th>timepoint</th>\n",
       "      <th>event</th>\n",
       "      <th>region</th>\n",
       "      <th>signal</th>\n",
       "    </tr>\n",
       "  </thead>\n",
       "  <tbody>\n",
       "    <tr>\n",
       "      <th>0</th>\n",
       "      <td>s13</td>\n",
       "      <td>18</td>\n",
       "      <td>stim</td>\n",
       "      <td>parietal</td>\n",
       "      <td>-0.017552</td>\n",
       "    </tr>\n",
       "    <tr>\n",
       "      <th>1</th>\n",
       "      <td>s5</td>\n",
       "      <td>14</td>\n",
       "      <td>stim</td>\n",
       "      <td>parietal</td>\n",
       "      <td>-0.080883</td>\n",
       "    </tr>\n",
       "    <tr>\n",
       "      <th>2</th>\n",
       "      <td>s12</td>\n",
       "      <td>18</td>\n",
       "      <td>stim</td>\n",
       "      <td>parietal</td>\n",
       "      <td>-0.081033</td>\n",
       "    </tr>\n",
       "    <tr>\n",
       "      <th>3</th>\n",
       "      <td>s11</td>\n",
       "      <td>18</td>\n",
       "      <td>stim</td>\n",
       "      <td>parietal</td>\n",
       "      <td>-0.046134</td>\n",
       "    </tr>\n",
       "    <tr>\n",
       "      <th>4</th>\n",
       "      <td>s10</td>\n",
       "      <td>18</td>\n",
       "      <td>stim</td>\n",
       "      <td>parietal</td>\n",
       "      <td>-0.037970</td>\n",
       "    </tr>\n",
       "  </tbody>\n",
       "</table>\n",
       "</div>"
      ],
      "text/plain": [
       "  subject  timepoint event    region    signal\n",
       "0     s13         18  stim  parietal -0.017552\n",
       "1      s5         14  stim  parietal -0.080883\n",
       "2     s12         18  stim  parietal -0.081033\n",
       "3     s11         18  stim  parietal -0.046134\n",
       "4     s10         18  stim  parietal -0.037970"
      ]
     },
     "execution_count": 30,
     "metadata": {},
     "output_type": "execute_result"
    }
   ],
   "source": [
    "fmri = sns.load_dataset(\"fmri\")\n",
    "fmri.head()"
   ]
  },
  {
   "cell_type": "code",
   "execution_count": 37,
   "id": "253a6996-a7a6-46ed-bad9-b7fb7c1b42ed",
   "metadata": {},
   "outputs": [
    {
     "data": {
      "image/png": "[encoded data removed]",
      "text/plain": [
       "<Figure size 640x480 with 1 Axes>"
      ]
     },
     "metadata": {},
     "output_type": "display_data"
    }
   ],
   "source": [
    "sns.pointplot(x='timepoint', y='signal', hue='region', data=fmri)\n",
    "plt.title('Влияние области на результаты томографии')\n",
    "plt.xlabel('Момент времени')\n",
    "plt.ylabel('Средний сигнал')\n",
    "plt.show()"
   ]
  },
  {
   "cell_type": "markdown",
   "id": "e6b60238-e723-4945-bdd3-7301c3bda80a",
   "metadata": {},
   "source": [
    "3. Интерактивная визуализация с помощью FacetGrid. Используя FacetGrid, постройте отдельные lineplot для каждого субъекта, каждый график должен показывать связь между временем и сигналом. Задача со звёздочкой: подписать каждый график."
   ]
  },
  {
   "cell_type": "code",
   "execution_count": 38,
   "id": "8323188f-b58e-4f37-b009-78b462f1743e",
   "metadata": {},
   "outputs": [
    {
     "data": {
      "image/png": "[encoded data removed]",
      "text/plain": [
       "<Figure size 1500x600 with 14 Axes>"
      ]
     },
     "metadata": {},
     "output_type": "display_data"
    }
   ],
   "source": [
    "g = sns.FacetGrid(fmri, col='subject', col_wrap=5, height=2, aspect=1.5)\n",
    "g.map(sns.lineplot, 'timepoint', 'signal')\n",
    "\n",
    "g.set_titles('{col_name}')\n",
    "\n",
    "g.fig.suptitle('Связь между временем и сигналом для каждого субъекта', y=1.02)\n",
    "g.set_axis_labels('Время', 'Сигнал')\n",
    "\n",
    "\n",
    "plt.tight_layout()\n",
    "plt.show()"
   ]
  },
  {
   "cell_type": "code",
   "execution_count": null,
   "id": "a5d75077-ad2c-4b4a-af47-156626c407b6",
   "metadata": {},
   "outputs": [],
   "source": []
  }
 ],
 "metadata": {
  "kernelspec": {
   "display_name": "Python 3 (ipykernel)",
   "language": "python",
   "name": "python3"
  },
  "language_info": {
   "codemirror_mode": {
    "name": "ipython",
    "version": 3
   },
   "file_extension": ".py",
   "mimetype": "text/x-python",
   "name": "python",
   "nbconvert_exporter": "python",
   "pygments_lexer": "ipython3",
   "version": "3.12.4"
  }
 },
 "nbformat": 4,
 "nbformat_minor": 5
}
